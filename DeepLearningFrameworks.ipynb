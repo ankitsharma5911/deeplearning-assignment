{
 "cells": [
  {
   "cell_type": "markdown",
   "metadata": {},
   "source": [
    "1. What is TensorFlow 2.0, and how is it different from TensorFlow 1.X ?"
   ]
  },
  {
   "cell_type": "markdown",
   "metadata": {},
   "source": [
    "TensorFlow 2.0 is a significant upgrade to TensorFlow, Google's open-source deep learning framework. Released in September 2019, TensorFlow 2.0 focuses on improving usability, developer productivity, and simplicity while retaining the power and flexibility of TensorFlow 1.x. Below are the key differences and features that distinguish TensorFlow 2.0 from TensorFlow 1.x:\n",
    "\n",
    "### Key Features of TensorFlow 2.0\n",
    "\n",
    "1. **Eager Execution by Default:**\n",
    "   - **TensorFlow 2.0:** Eager execution is enabled by default, making it easier to debug and test models. Code is executed immediately, without building computational graphs first.\n",
    "   - **TensorFlow 1.x:** Used graph execution by default, which required building and running static computation graphs, often leading to complex debugging.\n",
    "\n",
    "2. **Simplified APIs:**\n",
    "   - Consolidated APIs, with a focus on high-level functions like `tf.keras` for building and training models.\n",
    "   - Redundant APIs and functionalities from TensorFlow 1.x have been deprecated.\n",
    "\n",
    "3. **Integration of `tf.keras`:**\n",
    "   - TensorFlow 2.0 has tight integration with Keras as its high-level API. This makes building neural networks more intuitive and user-friendly.\n",
    "   - In TensorFlow 1.x, Keras was not fully integrated, and users often had to toggle between TensorFlow and Keras functionalities.\n",
    "\n",
    "4. **Improved Model Deployment:**\n",
    "   - TensorFlow 2.0 makes deploying models across platforms simpler with `TensorFlow Serving`, `TensorFlow Lite`, and `TensorFlow.js` for different environments.\n",
    "   - TensorFlow 1.x had deployment solutions, but they were less streamlined.\n",
    "\n",
    "5. **Autograph and Functions:**\n",
    "   - Introduced `tf.function`, which converts Python functions into graph-executable code for better performance while retaining the ease of eager execution.\n",
    "   - TensorFlow 1.x did not provide this level of automation for converting code between eager and graph execution.\n",
    "\n",
    "6. **Enhanced Dataset Handling:**\n",
    "   - TensorFlow 2.0 provides better support for the `tf.data` API, enabling more efficient data pipeline construction.\n",
    "   - TensorFlow 1.x had less streamlined support for data input pipelines.\n",
    "\n",
    "7. **Unified RNN APIs:**\n",
    "   - Simplified and unified APIs for recurrent neural networks (RNNs), eliminating redundant implementations.\n",
    "   - TensorFlow 1.x had multiple, sometimes inconsistent RNN implementations.\n",
    "\n",
    "8. **Compatibility and Migration:**\n",
    "   - TensorFlow 2.0 offers a `tf.compat.v1` module to help migrate code from TensorFlow 1.x to 2.0 with minimal changes.\n",
    "   - TensorFlow 1.x users often faced compatibility challenges when upgrading between minor versions.\n"
   ]
  },
  {
   "cell_type": "markdown",
   "metadata": {},
   "source": [
    "2. How do you install TensorFlow 2.0 ?"
   ]
  },
  {
   "cell_type": "markdown",
   "metadata": {},
   "source": [
    "we can install tensorflow in two ways:\n",
    "1. pip \n",
    "    - ```pip install tensorflow```\n",
    "2. conda \n",
    "    - ```conda install tensorflow```\n",
    "    - for specific version tensorflow we add version like ```conda install tensorflow==2.4.2```"
   ]
  },
  {
   "cell_type": "markdown",
   "metadata": {},
   "source": [
    "3. What is the primary function of the tf.function in TensorFlow 2.0 ?"
   ]
  },
  {
   "cell_type": "markdown",
   "metadata": {},
   "source": [
    "tf.function is a decorator provided by TensorFlow that transforms Python functions into graph operations. This transformation enables TensorFlow to compile and optimize the function's computation, leading to enhanced performance and efficiency."
   ]
  },
  {
   "cell_type": "markdown",
   "metadata": {},
   "source": [
    "4. What is the purpose of the Model class in TensorFlow 2.0 ?"
   ]
  },
  {
   "cell_type": "markdown",
   "metadata": {},
   "source": [
    "The Model class in TensorFlow 2.0, provided by the `tf.keras` module, serves as the base class for defining and training deep learning models. It extends the functionality of the `Layer` class and is designed to handle more complex workflows, including training, evaluation, and prediction, while providing additional methods and features for flexibility and efficiency."
   ]
  },
  {
   "cell_type": "markdown",
   "metadata": {},
   "source": [
    "5. How do you create a neural network using TensorFlow 2.0 ?"
   ]
  },
  {
   "cell_type": "code",
   "execution_count": null,
   "metadata": {},
   "outputs": [],
   "source": [
    "# we can create neural network using the following steps:\n",
    "\n",
    "import tensorflow as tf\n",
    "\n",
    "# Define inputs\n",
    "inputs = tf.keras.Input(shape=(32,))\n",
    "\n",
    "# Define layers\n",
    "x = tf.keras.layers.Dense(64, activation='relu')(inputs)\n",
    "outputs = tf.keras.layers.Dense(10, activation='softmax')(x)\n",
    "\n",
    "# Create the model\n",
    "model = tf.keras.Model(inputs=inputs, outputs=outputs)\n",
    "\n",
    "# Compile the model\n",
    "model.compile(optimizer='adam', loss='sparse_categorical_crossentropy', metrics=['accuracy'])\n"
   ]
  },
  {
   "cell_type": "markdown",
   "metadata": {},
   "source": [
    "6. What is the importance of Tensor Space in TensorFlow ?"
   ]
  },
  {
   "cell_type": "markdown",
   "metadata": {},
   "source": [
    "In TensorFlow, the **tensor space** refers to the mathematical and computational framework where tensors (multi-dimensional arrays) are defined, manipulated, and operated upon. Tensors are the fundamental building blocks in TensorFlow, representing data in various forms, including scalars, vectors, matrices, and higher-dimensional arrays. Understanding the importance of tensor space is critical to leveraging TensorFlow effectively for machine learning and other numerical computations.\n",
    "\n",
    "### Importance of Tensor Space in TensorFlow\n",
    "\n",
    "#### 1. **Representation of Data:**\n",
    "   - Tensors serve as the primary data structure in TensorFlow for representing numerical data, including inputs, outputs, weights, biases, and intermediate computations.\n",
    "   - Tensor space provides a unified framework to handle data of different dimensions, such as:\n",
    "     - Scalars (0-dimensional tensors)\n",
    "     - Vectors (1-dimensional tensors)\n",
    "     - Matrices (2-dimensional tensors)\n",
    "     - Higher-dimensional tensors (e.g., 3D tensors for images or 4D tensors for video data).\n",
    "\n",
    "#### 2. **Efficient Computation:**\n",
    "   - Tensor space enables efficient mathematical operations using GPU/TPU acceleration. TensorFlow optimizes computations by mapping tensor operations to hardware-specific instructions.\n",
    "   - Operations like matrix multiplication, convolution, and element-wise operations are performed within tensor space, ensuring high performance.\n",
    "\n",
    "#### 3. **Support for Multi-Dimensional Data:**\n",
    "   - Tensor space allows TensorFlow to handle complex data structures like images, videos, and sequences seamlessly. For instance:\n",
    "     - Images are often represented as 3D tensors (height × width × channels).\n",
    "     - Videos are represented as 4D tensors (frames × height × width × channels).\n",
    "     - Text data can be embedded in tensors for NLP tasks.\n",
    "\n",
    "#### 4. **Mathematical Foundations:**\n",
    "   - Tensor space provides a foundation for implementing mathematical operations in deep learning models. Operations such as dot products, matrix multiplications, and activation functions are defined and executed in tensor space.\n",
    "   - It aligns with linear algebra and differential calculus, the backbone of machine learning and deep learning algorithms.\n",
    "\n",
    "#### 5. **Scalability:**\n",
    "   - Tensor space ensures that TensorFlow can scale across different hardware configurations and devices (CPUs, GPUs, TPUs). Operations on tensors are designed to be hardware-agnostic, enabling efficient distributed computing.\n"
   ]
  },
  {
   "cell_type": "markdown",
   "metadata": {},
   "source": [
    "7. How can TensorBoard be integrated with TensorFlow 2.0 ?"
   ]
  },
  {
   "cell_type": "markdown",
   "metadata": {},
   "source": [
    "TensorBoard is a powerful visualization tool that comes integrated with TensorFlow. It provides insights into the training process of machine learning models, such as tracking metrics, visualizing the model graph, profiling performance, and analyzing data pipelines. In TensorFlow 2.0, integrating TensorBoard is straightforward and highly recommended for monitoring and debugging.\n",
    "\n",
    "#### Steps to Integrate TensorBoard with TensorFlow 2.0\n",
    "1. Set Up TensorBoard Callback\n",
    "    - TensorFlow provides a TensorBoard callback that can be added during the model's training process using the .fit() method. This callback logs data to a specified directory, which TensorBoard reads.\n",
    "    - Set up TensorBoard callback\n",
    "    - `log_dir = \"logs/fit/\" + datetime.datetime.now().strftime(\"%Y%m%d-%H%M%S\")`\n",
    "    - `tensorboard_callback = tf.keras.callbacks.TensorBoard(log_dir=log_dir, histogram_freq=1)`\n",
    "\n",
    "    - Train the model with TensorBoard callback\n",
    "     - `model.fit(x_train, y_train, epochs=5, validation_data=(x_test, y_test), callbacks=[tensorboard_callback])`\n",
    "\n",
    "#### 2. Launch TensorBoard\n",
    "   Once the model is trained and logs are generated, you can launch TensorBoard to visualize the results.\n",
    "\n",
    "   - Run the following command in your terminal or Jupyter notebook:\n",
    "     ```\n",
    "     tensorboard --logdir=logs/fit\n",
    "     ```\n",
    "   - Open the displayed URL (e.g., `http://localhost:6006`) in a web browser to view the TensorBoard dashboard.\n",
    "\n",
    "\n"
   ]
  },
  {
   "cell_type": "markdown",
   "metadata": {},
   "source": [
    "8. What is the purpose of TensorFlow Playground ?"
   ]
  },
  {
   "cell_type": "markdown",
   "metadata": {},
   "source": [
    "TensorFlow Playground is an interactive web-based tool designed to help users visualize and experiment with neural networks in a highly intuitive and accessible way. It is particularly aimed at beginners in machine learning and deep learning, providing an easy-to-understand platform to explore the behavior of small neural networks without needing to write any code."
   ]
  },
  {
   "cell_type": "markdown",
   "metadata": {},
   "source": [
    "9. What is Netron, and how is it useful for deep learning models?"
   ]
  },
  {
   "cell_type": "markdown",
   "metadata": {},
   "source": [
    "Netron is a comprehensive ML model visualization tool that supports many model formats and lets users interactively explore model structures. The tool stands out from the fierce competition in the ML space by combining a user-friendly UI with extensive model compatibility.\n",
    "\n",
    "we can upload neural network model to visualise the model"
   ]
  },
  {
   "cell_type": "markdown",
   "metadata": {},
   "source": [
    "10. What is the difference between TensorFlow and PyTorch ?"
   ]
  },
  {
   "cell_type": "markdown",
   "metadata": {},
   "source": [
    "#### PyTorch\n",
    "It is an open-source library used in machine learning. It was developed by Facebook and was released to the public for the first time in 2016. It is imperative which means it runs immediately and the user can check if it is working or not before writing the full code. We can write a part of code and check it in real time, it is built-in python based implementation to provide compatibility as a deep learning platform. It rapidly gained users because of its user-friendly interface, which made the Tensorflow team acquire its popular features in Tensorflow 2.0. \n",
    "\n",
    "\n",
    "#### Tensorflow\n",
    "Just like PyTorch, it is also an open-source library used in machine learning. It was developed by Google and was released in 2015. Its name itself expresses how you can perform and organize tasks on data. Production and research are the main uses of Tensorflow. Neural networks mostly use Tensorflow to develop machine learning applications.\n"
   ]
  },
  {
   "cell_type": "markdown",
   "metadata": {},
   "source": [
    "11. How do you install PyTorch ?"
   ]
  },
  {
   "cell_type": "markdown",
   "metadata": {},
   "source": [
    "you can install torch in python by  using command `pip install torch`"
   ]
  },
  {
   "cell_type": "markdown",
   "metadata": {},
   "source": [
    "12. What is the basic structure of a PyTorch neural network ?"
   ]
  },
  {
   "cell_type": "markdown",
   "metadata": {},
   "source": [
    "The basic structure of a PyTorch neural network is built using the **`torch.nn`** module, which provides tools to define, train, and evaluate neural networks. A PyTorch neural network is typically organized into two main parts:\n",
    "\n",
    "1. **Model Definition**:\n",
    "   - Define the architecture of the neural network by subclassing the `torch.nn.Module` class.\n",
    "   - Specify the layers in the `__init__` method.\n",
    "   - Define how data flows through the network in the `forward` method.\n",
    "\n",
    "2. **Training and Evaluation**:\n",
    "   - Use PyTorch's **autograd** for backpropagation.\n",
    "   - Use optimizers from **`torch.optim`** for updating weights.\n",
    "   - Use loss functions from **`torch.nn`** to compute the error between predictions and ground truth.\n",
    "\n",
    "### Example: Basic Structure of a PyTorch Neural Network\n",
    "\n",
    "#### Step 1: Import Libraries\n",
    "```python\n",
    "import torch\n",
    "import torch.nn as nn\n",
    "import torch.optim as optim\n",
    "```\n",
    "\n",
    "#### Step 2: Define the Neural Network Class\n",
    "The neural network is a Python class inheriting from `torch.nn.Module`.\n",
    "\n",
    "```python\n",
    "class NeuralNetwork(nn.Module):\n",
    "    def __init__(self):\n",
    "        super(NeuralNetwork, self).__init__()\n",
    "        # Define the layers\n",
    "        self.layer1 = nn.Linear(in_features=784, out_features=128)  # Input layer\n",
    "        self.layer2 = nn.ReLU()                                    # Activation\n",
    "        self.layer3 = nn.Linear(in_features=128, out_features=10)  # Output layer\n",
    "\n",
    "    def forward(self, x):\n",
    "        # Define the forward pass\n",
    "        x = self.layer1(x)\n",
    "        x = self.layer2(x)\n",
    "        x = self.layer3(x)\n",
    "        return x\n",
    "```\n",
    "\n",
    "#### Step 3: Initialize the Model, Loss Function, and Optimizer\n",
    "```python\n",
    "# Initialize the model\n",
    "model = NeuralNetwork()\n",
    "\n",
    "# Define a loss function\n",
    "criterion = nn.CrossEntropyLoss()\n",
    "\n",
    "# Define an optimizer\n",
    "optimizer = optim.SGD(model.parameters(), lr=0.01)\n",
    "```\n",
    "\n",
    "#### Step 4: Training the Model\n",
    "```python\n",
    "# Dummy data\n",
    "data = torch.rand(64, 784)  # Batch of 64, each input has 784 features\n",
    "labels = torch.randint(0, 10, (64,))  # Random labels for 10 classes\n",
    "\n",
    "# Training loop\n",
    "for epoch in range(10):  # Number of epochs\n",
    "    # Zero the gradients\n",
    "    optimizer.zero_grad()\n",
    "\n",
    "    # Forward pass\n",
    "    outputs = model(data)\n",
    "\n",
    "    # Compute the loss\n",
    "    loss = criterion(outputs, labels)\n",
    "\n",
    "    # Backward pass\n",
    "    loss.backward()\n",
    "\n",
    "    # Update weights\n",
    "    optimizer.step()\n",
    "\n",
    "    print(f'Epoch [{epoch+1}/10], Loss: {loss.item():.4f}')\n",
    "```\n",
    "\n",
    "#### Step 5: Evaluating the Model\n",
    "```python\n",
    "# Switch to evaluation mode\n",
    "model.eval()\n",
    "\n",
    "# Test data\n",
    "test_data = torch.rand(10, 784)\n",
    "with torch.no_grad():\n",
    "    predictions = model(test_data)\n",
    "    predicted_labels = torch.argmax(predictions, axis=1)\n",
    "    print(predicted_labels)\n"
   ]
  },
  {
   "cell_type": "markdown",
   "metadata": {},
   "source": [
    "13. What is the significance of tensors in PyTorch ?"
   ]
  },
  {
   "cell_type": "markdown",
   "metadata": {},
   "source": [
    "torch.tensor is a function in PyTorch that constructs a tensor with the specified data and properties. A tensor in PyTorch is a multi-dimensional array that can hold data of a single data type, similar to NumPy's ndarray but with additional capabilities for GPU acceleration and automatic differentiation. \n"
   ]
  },
  {
   "cell_type": "markdown",
   "metadata": {},
   "source": [
    "14. What is the difference between torch.Tensor and torch.cuda.Tensor in PyTorch?"
   ]
  },
  {
   "cell_type": "markdown",
   "metadata": {},
   "source": [
    "In PyTorch, `torch.Tensor` and `torch.cuda.Tensor` are two classes for representing tensors, but they differ primarily in their device association and intended usage. Here's a breakdown of the differences:\n",
    "- `torch.Tensor`:\n",
    "    - Represents a tensor that resides on the CPU by default.\n",
    "    - Operations performed on these tensors will use the CPU for computation.\n",
    "    - Can be moved to a GPU by explicitly using `.to('cuda')` or `.cuda()`.\n",
    "- `torch.cuda.Tensor`:\n",
    "    - Represents a tensor that resides on the GPU.\n",
    "    - Operations performed on these tensors will utilize the GPU for computation.\n",
    "    - Automatically uses GPU memory and computation, provided that a CUDA-compatible GPU and the necessary drivers are available. "
   ]
  },
  {
   "cell_type": "markdown",
   "metadata": {},
   "source": [
    "15. What is the purpose of the torch.optim module in PyTorch ?"
   ]
  },
  {
   "cell_type": "markdown",
   "metadata": {},
   "source": [
    "The `torch.optim` module in PyTorch is essential for training neural networks, as it provides a collection of optimization algorithms that help adjust model parameters to minimize the loss function. The optimization process is fundamental to the learning phase of deep learning models. Key features and components of the module include:\n",
    "\n",
    "1. **Optimizers**: Various optimization algorithms like SGD, Adam, RMSprop, Adagrad, and more are available. These methods differ in how they update parameters using the gradients computed during backpropagation. For instance, Adam combines the benefits of RMSprop and momentum-based approaches, while SGD (stochastic gradient descent) is a simpler, yet widely used algorithm.\n",
    "\n",
    "2. **Learning Rate Schedulers**: The module includes tools to adjust the learning rate dynamically during training, such as StepLR and ReduceLROnPlateau, which can help improve convergence and avoid local minima.\n",
    "\n",
    "3. **Customization**: You can easily configure optimizers with hyperparameters like learning rates, momentum, or weight decay (for regularization). Additionally, the module allows for fine-grained control by creating parameter groups with different optimization settings.\n",
    "\n",
    "4. **Convenience Functions**: Functions like `zero_grad()` and `step()` streamline the training loop by clearing accumulated gradients and applying updates, respectively.\n",
    "\n",
    "By using `torch.optim`, developers can experiment with various optimization strategies to find the best fit for their specific models and datasets, making the training process more efficient and effective."
   ]
  },
  {
   "cell_type": "markdown",
   "metadata": {},
   "source": [
    "16. What are some common activation functions used in neural networks?"
   ]
  },
  {
   "cell_type": "markdown",
   "metadata": {},
   "source": [
    "Activation functions are critical components of neural networks as they introduce non-linearity, allowing the model to learn complex patterns. Below are some commonly used activation functions:\n",
    "\n",
    "### 1. **Sigmoid (Logistic Function)**Z\n",
    "   - **Range**: \\( (0, 1) \\)\n",
    "   - **Use Case**: Frequently used in the output layer for binary classification problems.\n",
    "   - **Advantages**: Maps input to a bounded range.\n",
    "   - **Drawbacks**: Can suffer from vanishing gradients for large or small inputs.\n",
    "\n",
    "### 2. **Hyperbolic Tangent (Tanh)**\n",
    "   - **Range**: \\( (-1, 1) \\)\n",
    "   - **Use Case**: Used in hidden layers, especially when input values are centered around zero.\n",
    "   - **Advantages**: Outputs centered around zero.\n",
    "   - **Drawbacks**: Similar vanishing gradient issues as the sigmoid function.\n",
    "\n",
    "### 3. **Rectified Linear Unit (ReLU)**\n",
    "   - **Range**: \\( [0, \\infty) \\)\n",
    "   - **Use Case**: Common in hidden layers of deep networks.\n",
    "   - **Advantages**: Simplicity, computational efficiency, and mitigates the vanishing gradient problem.\n",
    "   - **Drawbacks**: Can suffer from the \"dying ReLU\" problem where neurons output zero for all inputs.\n",
    "\n",
    "### 4. **Leaky ReLU**\n",
    "   - **Range**: \\( (-\\infty, \\infty) \\)\n",
    "   - **Use Case**: Addresses the \"dying ReLU\" problem.\n",
    "   - **Advantages**: Allows a small gradient for negative inputs.\n",
    "   - **Drawbacks**: Additional parameter (\\(\\alpha\\)) to tune.\n",
    "\n",
    "### 5. **Parametric ReLU (PReLU)**\n",
    "   - **Range**: \\( (-\\infty, \\infty) \\)\n",
    "   - **Use Case**: Improves flexibility over Leaky ReLU.\n",
    "   - **Advantages**: Learns the optimal slope for negative values.\n",
    "\n",
    "\n",
    "### 6. **Softmax**\n",
    "   - **Range**: \\( (0, 1) \\) for all outputs, with the sum of all outputs equal to 1.\n",
    "   - **Use Case**: Used in the output layer for multi-class classification problems.\n",
    "   - **Advantages**: Outputs probabilities, making interpretation straightforward.\n",
    "\n",
    "### Choosing an Activation Function\n",
    "The choice of activation function depends on the specific problem and layer:\n",
    "- **ReLU** and its variants (Leaky ReLU, PReLU, ELU) are widely used in hidden layers of deep networks.\n",
    "- **Sigmoid** and **Tanh** are more common in shallow networks or specific tasks.\n",
    "- **Softmax** is ideal for multi-class classification tasks.\n",
    "- **Swish** and **Maxout** are often preferred in cutting-edge deep learning architectures."
   ]
  },
  {
   "cell_type": "markdown",
   "metadata": {},
   "source": [
    "17. What is the difference between torch.nn.Module and torch.nn.Sequential in PyTorch?"
   ]
  },
  {
   "cell_type": "markdown",
   "metadata": {},
   "source": [
    "The `torch.nn.Module` and `torch.nn.Sequential` classes in PyTorch serve different purposes and have distinct use cases in building neural networks. Here's how they differ:\n",
    "\n",
    "---\n",
    "\n",
    "### **1. `torch.nn.Module`**\n",
    "- **Purpose**: Serves as a base class for creating custom neural network models.\n",
    "- **Key Features**:\n",
    "  - Provides a flexible framework to define complex architectures.\n",
    "  - Allows developers to override the `forward()` method to specify the forward pass.\n",
    "  - Can contain other `nn.Module` instances as submodules, enabling the construction of hierarchical and modular architectures.\n",
    "  - Offers advanced features like parameter sharing, saving/loading models, and device handling.\n",
    "\n",
    "- **Use Case**: Ideal for complex or custom architectures where sequential stacking of layers isn't sufficient.\n",
    "\n",
    "\n",
    "### **2. `torch.nn.Sequential`**\n",
    "- **Purpose**: Provides a simpler way to define a feedforward network where layers are applied in sequence.\n",
    "- **Key Features**:\n",
    "  - Layers are added in the order they are passed to the `Sequential` constructor.\n",
    "  - No need to define a `forward()` method explicitly; the forward pass simply applies layers sequentially.\n",
    "  - Limited flexibility compared to `nn.Module` since the computation graph is strictly linear.\n",
    "\n",
    "- **Use Case**: Best suited for simple feedforward architectures where layers are applied sequentially without branching or custom behavior.\n",
    "\n",
    "\n",
    "### **Key Differences**\n",
    "| Feature                 | `torch.nn.Module`                                  | `torch.nn.Sequential`                              |\n",
    "|-------------------------|---------------------------------------------------|---------------------------------------------------|\n",
    "| **Flexibility**         | Fully flexible; can define any computation graph. | Limited to strictly sequential models.            |\n",
    "| **Customization**       | Requires manual implementation of `forward()`.    | No need for a custom `forward()` method.          |\n",
    "| **Readability**         | May be more verbose for simple models.            | Concise and ideal for simple sequential models.   |\n",
    "| **Nested Modules**      | Supports nesting of modules and submodules.       | Not inherently modular; primarily a container.    |\n",
    "\n"
   ]
  },
  {
   "cell_type": "markdown",
   "metadata": {},
   "source": [
    "18. How can you monitor training progress in TensorFlow 2.0 ?"
   ]
  },
  {
   "cell_type": "markdown",
   "metadata": {},
   "source": [
    "Monitoring the training progress of your models in TensorFlow 2.0 is essential for understanding how well your model is learning, diagnosing issues like overfitting or underfitting, and optimizing performance. TensorFlow 2.0 offers a variety of tools and techniques to effectively monitor and visualize the training process. Below are some of the most common and effective methods:\n",
    "\n",
    "1. #### TensorBoard\n",
    "    - TensorBoard is TensorFlow’s built-in visualization tool that provides a suite of visualizations to understand, debug, and optimize your model.\n",
    "\n",
    "2. #### Using Callbacks\n",
    "    - TensorFlow's tf.keras.callbacks offers a range of callbacks to monitor and manage training.\n",
    "\n",
    "3. #### History Object from `model.fit`\n",
    "    - When you train a model using model.fit, it returns a History object that contains data about the training process.\n",
    "\n",
    "\n",
    "\n"
   ]
  },
  {
   "cell_type": "markdown",
   "metadata": {},
   "source": [
    "19. How does the Keras API fit into TensorFlow 2.0 ?\n"
   ]
  },
  {
   "cell_type": "markdown",
   "metadata": {},
   "source": [
    "The Keras API is tightly integrated into TensorFlow 2.0 as its high-level API for building and training machine learning models. This integration makes TensorFlow 2.0 more user-friendly, enabling both beginners and experienced developers to build and deploy deep learning models efficiently\n",
    "\n",
    "Here's how the Keras API fits into TensorFlow 2.0:\n",
    "1. #### Default High-Level API\n",
    "    - In TensorFlow 2.0, Keras is the recommended high-level API for most tasks.\n",
    "    - The integration allows users to easily define models, train them, and deploy them with minimal boilerplate code.\n",
    "    - The Keras API is available via tf.keras, which is included in the TensorFlow package itself.\n",
    "2. #### Support for Multiple Workflows\n",
    "    - The Keras API supports different workflows to suit various use cases:\n",
    "        - **Sequential API**: For simple, linear stack models\n",
    "        - **Functional API**: For building complex architectures, including models with shared layers, multiple inputs/outputs, or non-linear topologies.\n",
    "        - **Subclassing API**: For complete flexibility when defining custom models.\n",
    "3. Built-In Training Methods\n",
    "    Keras provides simplified model training, evaluation, and prediction methods:\n",
    "\n",
    "    -  `model.fit()` for training.\n",
    "    -  `model.evaluate()` for evaluation.\n",
    "    -  `model.predict()` for making predictions.\n",
    "    -  TensorFlow 2.0 also supports custom training loops using `tf.GradientTape` for advanced use cases while still leveraging the Keras API for model definition.\n",
    "\n"
   ]
  },
  {
   "cell_type": "markdown",
   "metadata": {},
   "source": [
    "20. What is an example of a deep learning project that can be implemented using TensorFlow 2.0 ?\n"
   ]
  },
  {
   "cell_type": "markdown",
   "metadata": {},
   "source": [
    "A good example of a deep learning project that can be implemented using TensorFlow 2.0 is a **handwritten digit recognition system** using the MNIST dataset. This project demonstrates fundamental concepts in deep learning, including data preprocessing, model creation, training, and evaluation, and is accessible for beginners while still being practical.\n",
    "\n",
    "### **Handwritten Digit Recognition with MNIST**\n",
    "\n",
    "#### **Step 1: Import Libraries**\n",
    "```python\n",
    "import tensorflow as tf\n",
    "from tensorflow.keras import Sequential\n",
    "from tensorflow.keras.layers import Dense, Flatten\n",
    "from tensorflow.keras.datasets import mnist\n",
    "```\n",
    "\n",
    "#### **Step 2: Load and Preprocess Data**\n",
    "```python\n",
    "# Load MNIST dataset\n",
    "(x_train, y_train), (x_test, y_test) = mnist.load_data()\n",
    "\n",
    "# Normalize pixel values to range [0, 1]\n",
    "x_train = x_train / 255.0\n",
    "x_test = x_test / 255.0\n",
    "```\n",
    "\n",
    "#### **Step 3: Define the Model**\n",
    "A simple feedforward neural network with a flattened input layer, one hidden layer, and an output layer.\n",
    "```python\n",
    "model = Sequential([\n",
    "    Flatten(input_shape=(28, 28)),        # Flatten the 28x28 images into a 1D array\n",
    "    Dense(128, activation='relu'),       # Hidden layer with 128 neurons\n",
    "    Dense(10, activation='softmax')      # Output layer with 10 neurons (one for each digit)\n",
    "])\n",
    "```\n",
    "\n",
    "#### **Step 4: Compile the Model**\n",
    "```python\n",
    "model.compile(optimizer='adam',\n",
    "              loss='sparse_categorical_crossentropy',\n",
    "              metrics=['accuracy'])\n",
    "```\n",
    "\n",
    "#### **Step 5: Train the Model**\n",
    "```python\n",
    "model.fit(x_train, y_train, epochs=5, validation_split=0.1)\n",
    "```\n",
    "\n",
    "#### **Step 6: Evaluate the Model**\n",
    "```python\n",
    "test_loss, test_accuracy = model.evaluate(x_test, y_test)\n",
    "print(f\"Test Accuracy: {test_accuracy * 100:.2f}%\")\n",
    "```\n",
    "\n",
    "#### **Step 7: Make Predictions**\n",
    "```python\n",
    "predictions = model.predict(x_test[:5])\n",
    "print(\"Predicted labels:\", tf.argmax(predictions, axis=1).numpy())\n",
    "print(\"True labels:\", y_test[:5])\n",
    "```\n"
   ]
  },
  {
   "cell_type": "markdown",
   "metadata": {},
   "source": [
    "21. What is the main advantage of using pre-trained models in TensorFlow and PyTorch?\n"
   ]
  },
  {
   "cell_type": "markdown",
   "metadata": {},
   "source": [
    "By using pre-trained model we can save compuitatin  resourse and training time"
   ]
  },
  {
   "cell_type": "markdown",
   "metadata": {},
   "source": [
    "#### Practical"
   ]
  },
  {
   "cell_type": "markdown",
   "metadata": {},
   "source": [
    "1. How do you install and verify that TensorFlow 2.0 was installed successfully ?"
   ]
  },
  {
   "cell_type": "code",
   "execution_count": null,
   "metadata": {},
   "outputs": [
    {
     "data": {
      "text/plain": [
       "'2.18.0'"
      ]
     },
     "execution_count": 1,
     "metadata": {},
     "output_type": "execute_result"
    }
   ],
   "source": [
    "! pip install tensorflow     # installing tensorflow\n",
    "\n",
    "import tensorflow as tf    # import tensorflow\n",
    "\n",
    "tf.__version__      #verifying version of tensorflow"
   ]
  },
  {
   "cell_type": "markdown",
   "metadata": {},
   "source": [
    "2. How can you define a simple function in TensorFlow 2.0 to perform addition ?"
   ]
  },
  {
   "cell_type": "code",
   "execution_count": 12,
   "metadata": {},
   "outputs": [
    {
     "data": {
      "text/plain": [
       "7"
      ]
     },
     "execution_count": 12,
     "metadata": {},
     "output_type": "execute_result"
    }
   ],
   "source": [
    "import tensorflow as tf \n",
    "\n",
    "sum = tf.add(3,4)\n",
    "sum.numpy()\n"
   ]
  },
  {
   "cell_type": "markdown",
   "metadata": {},
   "source": [
    "3. How can you create a simple neural network in TensorFlow 2.0 with one hidden layer?"
   ]
  },
  {
   "cell_type": "code",
   "execution_count": null,
   "metadata": {},
   "outputs": [
    {
     "data": {
      "text/plain": [
       "7"
      ]
     },
     "execution_count": 10,
     "metadata": {},
     "output_type": "execute_result"
    }
   ],
   "source": [
    "import tensorflow as tf\n",
    "from tensorflow.keras import Sequential\n",
    "from tensorflow.keras.layers import Dense\n",
    "\n",
    "model = Sequential([\n",
    "    Dense(128, activation='relu', input_shape=(4,)),  # Hidden layer\n",
    "    Dense(10, activation='softmax')                     # Output layer\n",
    "])\n",
    "model.compile(optimizer='adam',\n",
    "              loss='sparse_categorical_crossentropy',\n",
    "              metrics=['accuracy'])\n",
    "\n"
   ]
  },
  {
   "cell_type": "markdown",
   "metadata": {},
   "source": [
    "4. How can you visualize the training progress using TensorFlow and Matplotlib ?"
   ]
  },
  {
   "cell_type": "code",
   "execution_count": null,
   "metadata": {},
   "outputs": [
    {
     "name": "stdout",
     "output_type": "stream",
     "text": [
      "Epoch 1/5\n",
      "\u001b[1m1688/1688\u001b[0m \u001b[32m━━━━━━━━━━━━━━━━━━━━\u001b[0m\u001b[37m\u001b[0m \u001b[1m23s\u001b[0m 12ms/step - accuracy: 0.8740 - loss: 0.4460 - val_accuracy: 0.9620 - val_loss: 0.1328\n",
      "Epoch 2/5\n",
      "\u001b[1m1688/1688\u001b[0m \u001b[32m━━━━━━━━━━━━━━━━━━━━\u001b[0m\u001b[37m\u001b[0m \u001b[1m7s\u001b[0m 4ms/step - accuracy: 0.9614 - loss: 0.1328 - val_accuracy: 0.9725 - val_loss: 0.1002\n",
      "Epoch 3/5\n",
      "\u001b[1m1688/1688\u001b[0m \u001b[32m━━━━━━━━━━━━━━━━━━━━\u001b[0m\u001b[37m\u001b[0m \u001b[1m9s\u001b[0m 5ms/step - accuracy: 0.9753 - loss: 0.0824 - val_accuracy: 0.9760 - val_loss: 0.0789\n",
      "Epoch 4/5\n",
      "\u001b[1m1688/1688\u001b[0m \u001b[32m━━━━━━━━━━━━━━━━━━━━\u001b[0m\u001b[37m\u001b[0m \u001b[1m25s\u001b[0m 14ms/step - accuracy: 0.9815 - loss: 0.0599 - val_accuracy: 0.9767 - val_loss: 0.0799\n",
      "Epoch 5/5\n",
      "\u001b[1m1688/1688\u001b[0m \u001b[32m━━━━━━━━━━━━━━━━━━━━\u001b[0m\u001b[37m\u001b[0m \u001b[1m27s\u001b[0m 5ms/step - accuracy: 0.9864 - loss: 0.0444 - val_accuracy: 0.9792 - val_loss: 0.0754\n"
     ]
    }
   ],
   "source": [
    "import tensorflow as tf\n",
    "from tensorflow.keras import Sequential\n",
    "from tensorflow.keras.layers import Dense\n",
    "import matplotlib.pyplot as plt\n",
    "\n",
    "# Load and preprocess the dataset\n",
    "(x_train, y_train), (x_test, y_test) = tf.keras.datasets.mnist.load_data()\n",
    "x_train, x_test = x_train / 255.0, x_test / 255.0  # Normalize pixel values\n",
    "\n",
    "# Flatten the images (28x28 -> 784)\n",
    "x_train = x_train.reshape(-1, 784)\n",
    "x_test = x_test.reshape(-1, 784)\n",
    "\n",
    "model = Sequential([\n",
    "    Dense(128, activation='relu', input_shape=(784,)),  # Hidden layer\n",
    "    Dense(10, activation='softmax')                     # Output layer\n",
    "])\n",
    "model.compile(optimizer='adam',\n",
    "              loss='sparse_categorical_crossentropy',\n",
    "              metrics=['accuracy'])\n",
    "\n",
    "history = model.fit(x_train, y_train, epochs=5, validation_split=0.1)\n"
   ]
  },
  {
   "cell_type": "code",
   "execution_count": 17,
   "metadata": {},
   "outputs": [
    {
     "data": {
      "image/png": "[encoded data removed]",
      "text/plain": [
       "<Figure size 1200x600 with 2 Axes>"
      ]
     },
     "metadata": {},
     "output_type": "display_data"
    }
   ],
   "source": [
    "history = history.history\n",
    "\n",
    "import matplotlib.pyplot as plt\n",
    "\n",
    "# Plot accuracy\n",
    "plt.figure(figsize=(12, 6))\n",
    "\n",
    "plt.subplot(1, 2, 1)\n",
    "plt.plot(history['accuracy'], label='Training Accuracy')\n",
    "plt.plot(history['val_accuracy'], label='Validation Accuracy')\n",
    "plt.title('Model Accuracy')\n",
    "plt.xlabel('Epoch')\n",
    "plt.ylabel('Accuracy')\n",
    "plt.legend()\n",
    "\n",
    "# Plot loss\n",
    "plt.subplot(1, 2, 2)\n",
    "plt.plot(history['loss'], label='Training Loss')\n",
    "plt.plot(history['val_loss'], label='Validation Loss')\n",
    "plt.title('Model Loss')\n",
    "plt.xlabel('Epoch')\n",
    "plt.ylabel('Loss')\n",
    "plt.legend()\n",
    "\n",
    "plt.tight_layout()\n",
    "plt.show()"
   ]
  },
  {
   "cell_type": "markdown",
   "metadata": {},
   "source": [
    "5. How do you install PyTorch and verify the PyTorch installation ?"
   ]
  },
  {
   "cell_type": "code",
   "execution_count": null,
   "metadata": {},
   "outputs": [
    {
     "data": {
      "text/plain": [
       "'2.5.1+cpu'"
      ]
     },
     "execution_count": 19,
     "metadata": {},
     "output_type": "execute_result"
    }
   ],
   "source": [
    "! pip install torch\n",
    "import torch\n",
    "torch.__version__"
   ]
  },
  {
   "cell_type": "markdown",
   "metadata": {},
   "source": [
    "6. How do you create a simple neural network in PyTorch ?"
   ]
  },
  {
   "cell_type": "code",
   "execution_count": 20,
   "metadata": {},
   "outputs": [
    {
     "name": "stdout",
     "output_type": "stream",
     "text": [
      "Epoch [1/5], Loss: 2.3062\n",
      "Epoch [2/5], Loss: 1.9735\n",
      "Epoch [3/5], Loss: 1.6881\n",
      "Epoch [4/5], Loss: 1.4387\n",
      "Epoch [5/5], Loss: 1.2195\n"
     ]
    }
   ],
   "source": [
    "import torch\n",
    "import torch.nn as nn\n",
    "import torch.optim as optim\n",
    "class SimpleNeuralNetwork(nn.Module):\n",
    "    def __init__(self):\n",
    "        super(SimpleNeuralNetwork, self).__init__()\n",
    "        # Define the layers\n",
    "        self.fc1 = nn.Linear(784, 128)  # Input layer to hidden layer (28x28 flattened to 784)\n",
    "        self.relu = nn.ReLU()          # Activation function\n",
    "        self.fc2 = nn.Linear(128, 10)  # Hidden layer to output layer (10 classes)\n",
    "\n",
    "    def forward(self, x):\n",
    "        # Forward pass through the network\n",
    "        x = self.fc1(x)\n",
    "        x = self.relu(x)\n",
    "        x = self.fc2(x)\n",
    "        return x\n",
    "model = SimpleNeuralNetwork()\n",
    "criterion = nn.CrossEntropyLoss()  # For multi-class classification\n",
    "optimizer = optim.Adam(model.parameters(), lr=0.001)  # Adam optimizer\n",
    "# Example data (replace with real dataset)\n",
    "x_train = torch.randn(64, 784)  # Batch of 64, 784 input features\n",
    "y_train = torch.randint(0, 10, (64,))  # Batch of 64 labels, 10 classes\n",
    "\n",
    "for epoch in range(5):  # 5 epochs\n",
    "    # Forward pass\n",
    "    outputs = model(x_train)\n",
    "    loss = criterion(outputs, y_train)\n",
    "\n",
    "    # Backward pass and optimization\n",
    "    optimizer.zero_grad()  # Clear gradients\n",
    "    loss.backward()        # Backpropagation\n",
    "    optimizer.step()       # Update parameters\n",
    "\n",
    "    print(f\"Epoch [{epoch+1}/5], Loss: {loss.item():.4f}\")\n"
   ]
  },
  {
   "cell_type": "markdown",
   "metadata": {},
   "source": [
    "7. How do you define a loss function and optimizer in PyTorch ?"
   ]
  },
  {
   "cell_type": "markdown",
   "metadata": {},
   "source": [
    "In PyTorch, defining the **loss function** and **optimizer** involves using the `torch.nn` and `torch.optim` modules. Here's how you can do it:\n",
    "\n",
    "#### **1. Define the Loss Function**\n",
    "PyTorch provides several built-in loss functions in the `torch.nn` module. You can instantiate a loss function based on your task.\n",
    "\n",
    "#### Example for Common Tasks:\n",
    "- **Regression**: Use Mean Squared Error Loss.\n",
    "  ```python\n",
    "  criterion = torch.nn.MSELoss()  # For regression tasks\n",
    "  ```\n",
    "- **Binary Classification**: Use Binary Cross-Entropy Loss.\n",
    "  ```python\n",
    "  criterion = torch.nn.BCELoss()  # For binary classification\n",
    "  ```\n",
    "- **Multi-Class Classification**: Use Cross-Entropy Loss.\n",
    "  ```python\n",
    "  criterion = torch.nn.CrossEntropyLoss()  # For multi-class classification\n",
    "  ```\n",
    "\n",
    "#### **2. Define the Optimizer**\n",
    "The optimizer adjusts the model parameters during training to minimize the loss function. Optimizers are provided in the `torch.optim` module.\n",
    "\n",
    "#### Example with Common Optimizers:\n",
    "- **Stochastic Gradient Descent (SGD)**:\n",
    "  ```python\n",
    "  optimizer = torch.optim.SGD(model.parameters(), lr=0.01)  # Learning rate = 0.01\n",
    "  ```\n",
    "- **Adam Optimizer**:\n",
    "  ```python\n",
    "  optimizer = torch.optim.Adam(model.parameters(), lr=0.001)  # Learning rate = 0.001\n",
    "  ```\n",
    "- **RMSprop**:\n",
    "  ```python\n",
    "  optimizer = torch.optim.RMSprop(model.parameters(), lr=0.001)\n",
    "  ```\n",
    "\n",
    "### **Example: Defining Both**\n",
    "Suppose you are training a simple multi-class classification model:\n",
    "\n",
    "```python\n",
    "import torch\n",
    "import torch.nn as nn\n",
    "import torch.optim as optim\n",
    "\n",
    "# Assume a model is defined\n",
    "model = nn.Linear(10, 3)  # 10 input features, 3 output classes\n",
    "\n",
    "# Loss function\n",
    "criterion = nn.CrossEntropyLoss()\n",
    "\n",
    "# Optimizer\n",
    "optimizer = optim.Adam(model.parameters(), lr=0.001)\n",
    "```\n",
    "\n",
    "### **How They Are Used During Training**\n",
    "1. **Compute Loss**:\n",
    "   ```python\n",
    "   outputs = model(inputs)  # Forward pass\n",
    "   loss = criterion(outputs, targets)  # Compute loss\n",
    "   ```\n",
    "\n",
    "2. **Backpropagation and Optimization**:\n",
    "   ```python\n",
    "   optimizer.zero_grad()  # Clear previous gradients\n",
    "   loss.backward()        # Backpropagate gradients\n",
    "   optimizer.step()       # Update model parameters\n",
    "   ```\n"
   ]
  },
  {
   "cell_type": "markdown",
   "metadata": {},
   "source": [
    "8. How do you implement a custom loss function in PyTorch?"
   ]
  },
  {
   "cell_type": "code",
   "execution_count": 21,
   "metadata": {},
   "outputs": [
    {
     "name": "stdout",
     "output_type": "stream",
     "text": [
      "Custom MAE Loss: 0.3333333432674408\n"
     ]
    }
   ],
   "source": [
    "import torch\n",
    "\n",
    "# Define a custom loss function\n",
    "def custom_mae_loss(predictions, targets):\n",
    "    return torch.mean(torch.abs(predictions - targets))\n",
    "# Example tensors\n",
    "predictions = torch.tensor([2.5, 0.0, 2.0], requires_grad=True)\n",
    "targets = torch.tensor([3.0, -0.5, 2.0])\n",
    "\n",
    "# Compute loss\n",
    "loss = custom_mae_loss(predictions, targets)\n",
    "print(\"Custom MAE Loss:\", loss.item())\n"
   ]
  },
  {
   "cell_type": "markdown",
   "metadata": {},
   "source": [
    "9. How do you save and load a TensorFlow model?"
   ]
  },
  {
   "cell_type": "code",
   "execution_count": null,
   "metadata": {},
   "outputs": [],
   "source": [
    "import tensorflow as tf\n",
    "from tensorflow.keras import Sequential\n",
    "from tensorflow.keras.layers import Dense\n",
    "import matplotlib.pyplot as plt\n",
    "\n",
    "# Load and preprocess the dataset\n",
    "(x_train, y_train), (x_test, y_test) = tf.keras.datasets.mnist.load_data()\n",
    "x_train, x_test = x_train / 255.0, x_test / 255.0  # Normalize pixel values\n",
    "\n",
    "# Flatten the images (28x28 -> 784)\n",
    "x_train = x_train.reshape(-1, 784)\n",
    "x_test = x_test.reshape(-1, 784)\n",
    "\n",
    "model = Sequential([\n",
    "    Dense(128, activation='relu', input_shape=(784,)),  # Hidden layer\n",
    "    Dense(10, activation='softmax')                     # Output layer\n",
    "])\n",
    "model.compile(optimizer='adam',\n",
    "              loss='sparse_categorical_crossentropy',\n",
    "              metrics=['accuracy'])\n",
    "\n",
    "history = model.fit(x_train, y_train, epochs=5, validation_split=0.1)\n",
    "\n",
    "model.save(\"model.keras\")      # Saving model \n",
    "\n",
    "model = tf.keras.models.load_model(\"model.keras\")"
   ]
  }
 ],
 "metadata": {
  "kernelspec": {
   "display_name": "base",
   "language": "python",
   "name": "python3"
  },
  "language_info": {
   "codemirror_mode": {
    "name": "ipython",
    "version": 3
   },
   "file_extension": ".py",
   "mimetype": "text/x-python",
   "name": "python",
   "nbconvert_exporter": "python",
   "pygments_lexer": "ipython3",
   "version": "3.12.4"
  }
 },
 "nbformat": 4,
 "nbformat_minor": 2
}
