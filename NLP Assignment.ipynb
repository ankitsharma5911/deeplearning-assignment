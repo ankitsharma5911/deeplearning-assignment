{
 "cells": [
  {
   "cell_type": "markdown",
   "metadata": {
    "vscode": {
     "languageId": "plaintext"
    }
   },
   "source": [
    "1. What is the primary goal of Natural Language Processing (NLP)?"
   ]
  },
  {
   "cell_type": "markdown",
   "metadata": {
    "vscode": {
     "languageId": "plaintext"
    }
   },
   "source": [
    "The primary goal of **Natural Language Processing (NLP)** is to enable machines to understand, interpret, and generate human language, facilitating effective interaction between humans and computers."
   ]
  },
  {
   "cell_type": "markdown",
   "metadata": {},
   "source": [
    "2. What does \"tokenization\" refer to in text processing?"
   ]
  },
  {
   "cell_type": "markdown",
   "metadata": {},
   "source": [
    "In text processing, **tokenization** refers to splitting text into smaller units called **tokens**, such as words, sentences, or subwords, which serve as the basic building blocks for analysis."
   ]
  },
  {
   "cell_type": "markdown",
   "metadata": {},
   "source": [
    "3. What is the difference between lemmatization and stemming?"
   ]
  },
  {
   "cell_type": "markdown",
   "metadata": {},
   "source": [
    "The key difference between **lemmatization** and **stemming** lies in how they reduce words to their base form:  \n",
    "\n",
    "- **Lemmatization**: Reduces words to their **dictionary form** \n",
    "-  using linguistic rules, ensuring the result is a valid word (e.g., \"running\" → \"run\").  \n",
    "- **Stemming**: Removes affixes to get the word root, often producing an incomplete or non-dictionary form (e.g., \"running\" → \"runn\").  \n",
    "\n",
    "Lemmatization is more accurate, while stemming is faster but less precise."
   ]
  },
  {
   "cell_type": "markdown",
   "metadata": {},
   "source": [
    "4. What is the role of regular expressions (regex) in text processing?"
   ]
  },
  {
   "cell_type": "markdown",
   "metadata": {},
   "source": [
    "Regular expressions (**regex**) play a key role in text processing by providing a powerful way to **search, match, and manipulate patterns** in text. They are used for tasks like data extraction, validation, text cleaning, and formatting."
   ]
  },
  {
   "cell_type": "markdown",
   "metadata": {},
   "source": [
    "5. What is Word2Vec and how does it represent words in a vector space?"
   ]
  },
  {
   "cell_type": "markdown",
   "metadata": {},
   "source": [
    "**Word2Vec** is a neural network-based model that represents words as dense vectors in a continuous vector space, capturing their semantic and syntactic relationships. It uses two main approaches:  \n",
    "\n",
    "1. **Skip-gram**: Predicts surrounding words given a target word.  \n",
    "2. **CBOW (Continuous Bag of Words)**: Predicts a target word based on its context.  \n",
    "\n",
    "Words with similar meanings are mapped to vectors that are close together in the vector space."
   ]
  },
  {
   "cell_type": "markdown",
   "metadata": {},
   "source": [
    "6. How does frequency distribution help in text analysis?"
   ]
  },
  {
   "cell_type": "markdown",
   "metadata": {},
   "source": [
    "**Frequency distribution** helps in text analysis by showing how often each word or token appears in a text. It highlights patterns, identifies important terms, and aids in tasks like keyword extraction, trend analysis, and stopword removal."
   ]
  },
  {
   "cell_type": "markdown",
   "metadata": {},
   "source": [
    "7. Why is text normalization important in NLP? "
   ]
  },
  {
   "cell_type": "markdown",
   "metadata": {},
   "source": [
    " **Text normalization** is important in NLP because it standardizes text by converting it into a consistent format, reducing variability caused by different cases, spellings, or styles. This improves the accuracy of text analysis and processing tasks like tokenization, search, and model training."
   ]
  },
  {
   "cell_type": "markdown",
   "metadata": {},
   "source": [
    "8. What is the difference between sentence tokenization and word tokenization?"
   ]
  },
  {
   "cell_type": "markdown",
   "metadata": {},
   "source": [
    "The difference between **sentence tokenization** and **word tokenization** lies in the level of splitting:\n",
    "\n",
    "- **Sentence Tokenization**: Splits text into individual sentences.  \n",
    "  Example: `\"I love NLP. It is fascinating!\"` → `[\"I love NLP.\", \"It is fascinating!\"]`\n",
    "\n",
    "- **Word Tokenization**: Splits text into individual words or tokens.  \n",
    "  Example: `\"I love NLP!\"` → `[\"I\", \"love\", \"NLP\", \"!\"]` \n",
    "\n",
    "Both are foundational steps in text processing, depending on the task."
   ]
  },
  {
   "cell_type": "markdown",
   "metadata": {},
   "source": [
    "9. What are co-occurrence vectors in NLP?"
   ]
  },
  {
   "cell_type": "markdown",
   "metadata": {},
   "source": [
    "**Co-occurrence vectors** in NLP represent the relationships between words based on their occurrence in similar contexts within a text. They are constructed by counting how often words appear together within a predefined window of context. These vectors capture semantic similarities, as words that appear in similar contexts tend to have similar co-occurrence patterns and thus similar vector representations."
   ]
  },
  {
   "cell_type": "markdown",
   "metadata": {},
   "source": [
    "10. What is the significance of lemmatization in improving NLP tasks"
   ]
  },
  {
   "cell_type": "markdown",
   "metadata": {},
   "source": [
    "**Lemmatization** improves NLP tasks by reducing words to their base or dictionary form (lemma), ensuring consistency and meaning. This helps in better understanding of text, as it consolidates different inflected forms of a word (e.g., \"running\" → \"run\") into a single representation, improving the accuracy of tasks like text classification, sentiment analysis, and machine translation."
   ]
  },
  {
   "cell_type": "markdown",
   "metadata": {},
   "source": [
    "11. What is the primary use of word embeddings in NLP? "
   ]
  },
  {
   "cell_type": "markdown",
   "metadata": {},
   "source": [
    "The primary use of **word embeddings** in NLP is to represent words as dense, continuous vectors in a high-dimensional space, capturing semantic relationships between words. These embeddings allow models to understand word meanings based on context, enabling tasks like text classification, sentiment analysis, and machine translation with improved accuracy and efficiency."
   ]
  },
  {
   "cell_type": "markdown",
   "metadata": {},
   "source": [
    "12. What is an annotator in NLP?"
   ]
  },
  {
   "cell_type": "markdown",
   "metadata": {},
   "source": [
    "An **annotator** in NLP is a tool or process used to add labels or metadata to text data. This can involve tasks like tagging parts of speech (POS tagging), named entity recognition (NER), sentiment labels, or syntactic structures. Annotators help prepare text for training machine learning models by providing structured information for analysis."
   ]
  },
  {
   "cell_type": "markdown",
   "metadata": {},
   "source": [
    "13. What are the key steps in text processing before applying machine learning models?"
   ]
  },
  {
   "cell_type": "markdown",
   "metadata": {},
   "source": [
    "The key steps in **text processing** before applying machine learning models include:\n",
    "\n",
    "1. **Text Cleaning**: Removing noise such as special characters, numbers, and unwanted symbols.\n",
    "2. **Tokenization**: Splitting text into words, sentences, or subwords.\n",
    "3. **Lowercasing**: Converting all text to lowercase to ensure uniformity.\n",
    "4. **Stopword Removal**: Removing common, uninformative words like \"the,\" \"is,\" and \"in.\"\n",
    "5. **Lemmatization/Stemming**: Reducing words to their base form (e.g., \"running\" → \"run\").\n",
    "6. **Vectorization**: Converting text into numerical representations, such as TF-IDF or word embeddings.\n",
    "7. **Handling Imbalanced Data** (optional): Addressing issues like class imbalance using techniques such as oversampling or undersampling.\n",
    "\n",
    "These steps prepare the text data for feeding into machine learning models for tasks like classification, clustering, or sentiment analysis."
   ]
  },
  {
   "cell_type": "markdown",
   "metadata": {},
   "source": [
    "14. What is the history of NLP and how has it evolved?"
   ]
  },
  {
   "cell_type": "markdown",
   "metadata": {},
   "source": [
    "The history of **Natural Language Processing (NLP)** can be summarized in several key phases:\n",
    "\n",
    "1. **1950s - Early Beginnings**:  \n",
    "   The field began with attempts at machine translation (MT), such as the Georgetown-IBM experiment, which translated Russian sentences into English. Early NLP was rule-based, relying on hand-crafted grammar and syntax.\n",
    "\n",
    "2. **1960s-1970s - Symbolic Approaches**:  \n",
    "   NLP research focused on symbolic models and formal grammars (e.g., Chomsky's theories). Early systems like ELIZA (a chatbot) and SHRDLU (a natural language understanding system) were created.\n",
    "\n",
    "3. **1980s - Statistical Methods**:  \n",
    "   The focus shifted towards **probabilistic models** and **statistical methods** like Hidden Markov Models (HMMs). This shift led to more data-driven approaches for tasks like part-of-speech tagging and speech recognition.\n",
    "\n",
    "4. **1990s - Machine Learning and Corpora**:  \n",
    "   The advent of large annotated corpora (like the Penn Treebank) enabled the use of machine learning algorithms. Techniques such as **support vector machines (SVMs)** and **maximum entropy models** became popular for NLP tasks.\n",
    "\n",
    "5. **2000s - Deep Learning and Big Data**:  \n",
    "   With the rise of deep learning and access to large datasets, **neural networks** began to outperform traditional machine learning methods. Word embeddings like **Word2Vec** emerged, capturing semantic relationships between words.\n",
    "\n",
    "6. **2010s-Present - Transformers and Pretrained Models**:  \n",
    "   The introduction of transformer-based models like **BERT**, **GPT**, and **T5** revolutionized NLP. These models, pre-trained on vast amounts of text data, achieved state-of-the-art performance on a wide range of tasks (e.g., question answering, sentiment analysis, machine translation).\n"
   ]
  },
  {
   "cell_type": "markdown",
   "metadata": {},
   "source": [
    "15. Why is sentence processing important in NLP?"
   ]
  },
  {
   "cell_type": "markdown",
   "metadata": {},
   "source": [
    "**Sentence processing** is important in NLP because it helps machines understand the structure, meaning, and relationships between words in a sentence. Proper sentence processing enables tasks like **syntactic parsing**, **sentiment analysis**, and **machine translation** by identifying sentence boundaries, parts of speech, dependencies, and context, ensuring that the text is interpreted accurately for downstream tasks."
   ]
  },
  {
   "cell_type": "markdown",
   "metadata": {},
   "source": [
    "16. How do word embeddings improve the understanding of language semantics in NLP?"
   ]
  },
  {
   "cell_type": "markdown",
   "metadata": {},
   "source": [
    "**Word embeddings** improve the understanding of language semantics in NLP by representing words as dense, continuous vectors that capture their meanings based on context. Words with similar meanings are mapped to similar vector spaces, allowing models to understand relationships, analogies, and similarities between words (e.g., \"king\" - \"man\" + \"woman\" = \"queen\"). This leads to more accurate tasks like sentiment analysis, machine translation, and question answering by capturing both syntactic and semantic properties of language."
   ]
  },
  {
   "cell_type": "markdown",
   "metadata": {},
   "source": [
    "17. How does the frequency distribution of words help in text classification? "
   ]
  },
  {
   "cell_type": "markdown",
   "metadata": {},
   "source": [
    "The **frequency distribution** of words helps in text classification by identifying the most important and frequent words within a dataset. By analyzing how often certain words appear, models can use these features to distinguish between different categories or topics. Words that frequently appear in specific classes (e.g., \"buy\" or \"sale\" in product-related texts) are valuable for predicting the class or sentiment of unseen text, improving the accuracy of classification tasks."
   ]
  },
  {
   "cell_type": "markdown",
   "metadata": {},
   "source": [
    "18. What are the advantages of using regex in text cleaning?"
   ]
  },
  {
   "cell_type": "markdown",
   "metadata": {},
   "source": [
    "The advantages of using **regex** in text cleaning include:  \n",
    "\n",
    "1. **Flexibility**: Handles a wide range of patterns, such as removing special characters, digits, or extra spaces.  \n",
    "2. **Efficiency**: Processes large text data quickly and effectively.  \n",
    "3. **Customizability**: Allows precise matching and replacement based on specific needs.  \n",
    "4. **Automation**: Simplifies repetitive tasks like email or URL extraction.  \n",
    "\n",
    "Regex makes text preprocessing faster and more accurate by automating complex pattern-based operations."
   ]
  },
  {
   "cell_type": "markdown",
   "metadata": {},
   "source": [
    "19. What is the difference between word2vec and doc2vec?"
   ]
  },
  {
   "cell_type": "markdown",
   "metadata": {},
   "source": [
    "The difference between **Word2Vec** and **Doc2Vec** lies in their focus and purpose:\n",
    "\n",
    "- **Word2Vec**: Creates vector representations for individual words, capturing semantic relationships between them. It is useful for word-level tasks like similarity, analogy, and clustering.\n",
    "\n",
    "- **Doc2Vec**: Extends Word2Vec to generate vector representations for entire documents or sentences, considering the context of all words in the text. It is used for document-level tasks like classification, clustering, and recommendation.\n",
    "\n",
    "In short, Word2Vec is for words, while Doc2Vec is for larger text units like sentences or documents."
   ]
  },
  {
   "cell_type": "markdown",
   "metadata": {},
   "source": [
    "20. Why is understanding text normalization important in NLP?"
   ]
  },
  {
   "cell_type": "markdown",
   "metadata": {},
   "source": [
    "Understanding **text normalization** is important in NLP because it ensures that text data is consistent and standardized, reducing variability caused by different cases, spellings, or formats. This improves the performance of NLP models by:  \n",
    "\n",
    "1. Enhancing data quality.  \n",
    "2. Reducing noise and redundancy.  \n",
    "3. Ensuring accurate comparisons and tokenization.  \n",
    "\n",
    "Normalized text leads to more reliable and efficient processing for tasks like sentiment analysis, text classification, and machine translation."
   ]
  },
  {
   "cell_type": "markdown",
   "metadata": {},
   "source": [
    "21. How does word count help in text analysis?"
   ]
  },
  {
   "cell_type": "markdown",
   "metadata": {},
   "source": [
    "**Word count** helps in text analysis by providing insights into the frequency and importance of words within a text. It aids in:  \n",
    "\n",
    "1. **Identifying Key Topics**: Frequently used words highlight main themes.  \n",
    "2. **Simplifying Text Summarization**: Helps in extracting significant terms.  \n",
    "3. **Improving Feature Engineering**: Serves as input for models, such as bag-of-words or TF-IDF.  \n",
    "4. **Detecting Trends**: Tracks word usage over time for trend analysis.  \n",
    "\n",
    "Word count is a foundational step for understanding text content and preparing it for further analysis."
   ]
  },
  {
   "cell_type": "markdown",
   "metadata": {},
   "source": [
    "22. How does lemmatization help in NLP tasks like search engines and chatbots?"
   ]
  },
  {
   "cell_type": "markdown",
   "metadata": {},
   "source": [
    "**Lemmatization** helps in NLP tasks like search engines and chatbots by reducing words to their base or dictionary form (lemma). This ensures consistency and improves understanding by:  \n",
    "\n",
    "1. **Enhancing Search Accuracy**: Matches queries like \"running\" and \"ran\" to \"run,\" retrieving relevant results.  \n",
    "2. **Improving Intent Recognition**: Helps chatbots interpret variations of a word, enabling accurate responses.  \n",
    "3. **Reducing Noise**: Consolidates word forms, simplifying text processing and storage.  \n",
    "\n",
    "Lemmatization ensures that user queries and text data align better, improving efficiency and user satisfaction."
   ]
  },
  {
   "cell_type": "markdown",
   "metadata": {},
   "source": [
    "23. What is the purpose of using Doc2Vec in text processing?"
   ]
  },
  {
   "cell_type": "markdown",
   "metadata": {},
   "source": [
    "The purpose of using **Doc2Vec** in text processing is to generate fixed-length vector representations for entire documents, sentences, or paragraphs, capturing their semantic meaning and context. These vectors are useful for various NLP tasks, such as:\n",
    "\n",
    "1. **Document Classification**: Categorizing documents into predefined categories (e.g., spam detection).  \n",
    "2. **Similarity Analysis**: Finding similar documents based on their content.  \n",
    "3. **Recommendation Systems**: Recommending content based on document embeddings.  \n",
    "4. **Clustering**: Grouping documents with similar topics or themes.  \n",
    "5. **Sentiment Analysis**: Understanding the overall sentiment or tone of a document.  \n",
    "\n",
    "Doc2Vec provides a way to represent larger text units numerically, making them suitable for machine learning models."
   ]
  },
  {
   "cell_type": "markdown",
   "metadata": {},
   "source": [
    "24. What is the importance of sentence processing in NLP?"
   ]
  },
  {
   "cell_type": "markdown",
   "metadata": {},
   "source": [
    "**Sentence processing** is important in NLP because it enables machines to understand the structure, context, and meaning of sentences. Key benefits include:  \n",
    "\n",
    "1. **Improved Context Understanding**: Identifies relationships between words within sentences.  \n",
    "2. **Accurate Parsing**: Helps in syntactic and semantic analysis for tasks like dependency parsing.  \n",
    "3. **Effective Downstream Tasks**: Enhances applications like sentiment analysis, translation, and summarization by focusing on sentence-level meaning.  \n",
    "\n",
    "It forms the foundation for many NLP tasks by providing structured, meaningful text representations."
   ]
  },
  {
   "cell_type": "markdown",
   "metadata": {},
   "source": [
    "25. What is text normalization, and what are the common techniques used in it?"
   ]
  },
  {
   "cell_type": "markdown",
   "metadata": {},
   "source": [
    "**Text normalization** is the process of converting text into a standardized format to reduce variability and improve processing consistency in NLP.  \n",
    "\n",
    "**Common Techniques:**\n",
    "1. **Lowercasing**: Converts all text to lowercase (e.g., \"HELLO\" → \"hello\").  \n",
    "2. **Removing Punctuation**: Eliminates special characters (e.g., \"hello!\" → \"hello\").  \n",
    "3. **Stopword Removal**: Removes common words like \"the\" or \"is\" that add little meaning.  \n",
    "4. **Stemming/Lemmatization**: Reduces words to their base form (e.g., \"running\" → \"run\").  \n",
    "5. **Expanding Contractions**: Converts contractions (e.g., \"don't\" → \"do not\").  \n",
    "6. **Removing Whitespace**: Strips extra spaces (e.g., \"hello   world\" → \"hello world\").  \n",
    "7. **Spelling Correction**: Fixes misspelled words (e.g., \"hte\" → \"the\").  \n",
    "\n",
    "These techniques prepare text for consistent and effective analysis."
   ]
  },
  {
   "cell_type": "markdown",
   "metadata": {},
   "source": [
    "26. Why is word tokenization important in NLP?"
   ]
  },
  {
   "cell_type": "markdown",
   "metadata": {},
   "source": [
    "**Word tokenization** is important in NLP because it breaks text into individual words or tokens, enabling machines to process and analyze text effectively. Key benefits include:  \n",
    "\n",
    "1. **Feature Extraction**: Converts text into units that can be used for machine learning.  \n",
    "2. **Context Analysis**: Helps identify word relationships and patterns.  \n",
    "3. **Downstream Tasks**: Facilitates tasks like sentiment analysis, text classification, and translation.  \n",
    "\n",
    "It is a foundational step that prepares raw text for further NLP processing."
   ]
  },
  {
   "cell_type": "markdown",
   "metadata": {},
   "source": [
    "27. How does sentence tokenization differ from word tokenization in NLP?"
   ]
  },
  {
   "cell_type": "markdown",
   "metadata": {},
   "source": [
    "**Sentence tokenization** splits text into individual sentences, while **word tokenization** divides text into individual words or tokens.\n",
    "\n",
    "- **Sentence Tokenization**: Focuses on identifying sentence boundaries (e.g., punctuation like periods, exclamation marks).\n",
    "  - Example: `\"I love NLP. It's fascinating!\"` → `[\"I love NLP.\", \"It's fascinating!\"]`\n",
    "  \n",
    "- **Word Tokenization**: Splits text into individual words, including punctuation marks as separate tokens.\n",
    "  - Example: `\"I love NLP!\"` → `[\"I\", \"love\", \"NLP\", \"!\"]`\n",
    "\n",
    "Sentence tokenization is typically used to process text at the sentence level, while word tokenization is used for finer granularity at the word level."
   ]
  },
  {
   "cell_type": "markdown",
   "metadata": {},
   "source": [
    "28. What is the primary purpose of text processing in NLP?"
   ]
  },
  {
   "cell_type": "markdown",
   "metadata": {},
   "source": [
    "The primary purpose of **text processing** in NLP is to prepare raw text data for analysis by transforming it into a structured format that machines can understand. This includes tasks like cleaning, tokenization, normalization, and vectorization, which enable more accurate and efficient processing for downstream tasks such as sentiment analysis, text classification, machine translation, and information retrieval."
   ]
  },
  {
   "cell_type": "markdown",
   "metadata": {},
   "source": [
    "29. What are the key challenges in NLP?"
   ]
  },
  {
   "cell_type": "markdown",
   "metadata": {},
   "source": [
    "Key challenges in **NLP** include:\n",
    "\n",
    "1. **Ambiguity**: Words and sentences can have multiple meanings depending on context (e.g., \"bank\" can mean a financial institution or the side of a river).\n",
    "2. **Context Understanding**: Capturing long-range dependencies and context in text, especially in complex sentences.\n",
    "3. **Sarcasm and Irony**: Detecting sarcastic or ironic expressions that can change the meaning of a sentence.\n",
    "4. **Language Diversity**: Handling multiple languages, dialects, and cultural nuances effectively.\n",
    "5. **Named Entity Recognition (NER)**: Correctly identifying and classifying entities like names, dates, and locations.\n",
    "6. **Data Sparsity**: Handling limited or incomplete data in low-resource languages or niche domains.\n",
    "7. **Sentiment Analysis**: Accurately determining sentiment in text, especially with mixed emotions or ambiguous wording.\n",
    "\n",
    "These challenges make NLP a complex and dynamic field that requires ongoing research and innovation."
   ]
  },
  {
   "cell_type": "markdown",
   "metadata": {},
   "source": [
    "30 How do co-occurrence vectors represent relationships between words?"
   ]
  },
  {
   "cell_type": "markdown",
   "metadata": {},
   "source": [
    "**Co-occurrence vectors** represent relationships between words by capturing how often and in what contexts words appear together in a text. The vector for each word is built based on the frequency of its co-occurrence with other words within a defined window in the corpus. Words that frequently appear in similar contexts will have similar co-occurrence vectors, reflecting their semantic relationships. For example, \"cat\" and \"dog\" will have similar vectors because they often appear in similar contexts (e.g., \"pets,\" \"animals\"). This approach allows the model to learn word similarities and associations."
   ]
  },
  {
   "cell_type": "markdown",
   "metadata": {},
   "source": [
    "31. What is the role of frequency distribution in text analysis?"
   ]
  },
  {
   "cell_type": "markdown",
   "metadata": {},
   "source": [
    "The role of **frequency distribution** in text analysis is to quantify how often words or tokens appear in a given text or corpus. It helps identify key terms, trends, and patterns by providing insight into word importance. Frequency distribution is used in:\n",
    "\n",
    "1. **Feature extraction**: Identifying significant words for classification or clustering tasks.\n",
    "2. **Topic modeling**: Discovering prevalent themes by analyzing frequent terms.\n",
    "3. **Text summarization**: Extracting key words or sentences based on frequency.\n",
    "4. **Understanding context**: Recognizing which terms are central to a document or corpus.\n",
    "\n",
    "It serves as a foundational tool in text analysis for extracting valuable insights."
   ]
  },
  {
   "cell_type": "markdown",
   "metadata": {},
   "source": [
    "32. What is the impact of word embeddings on NLP tasks?"
   ]
  },
  {
   "cell_type": "markdown",
   "metadata": {},
   "source": [
    "**Word embeddings** have a significant impact on NLP tasks by transforming words into dense, continuous vector representations that capture semantic relationships and contextual meanings. Their key impacts include:\n",
    "\n",
    "1. **Improved Word Understanding**: Word embeddings allow models to understand synonyms, analogies, and word meanings based on context (e.g., \"king\" is to \"queen\" as \"man\" is to \"woman\").\n",
    "2. **Enhanced Accuracy**: Tasks like sentiment analysis, machine translation, and question answering benefit from the nuanced relationships embedded in the vectors.\n",
    "3. **Reduced Dimensionality**: Word embeddings represent words in lower-dimensional spaces, improving computational efficiency compared to sparse representations (e.g., bag-of-words).\n",
    "4. **Better Generalization**: Embeddings help models generalize across similar words, improving performance on unseen data.\n",
    "\n",
    "Overall, word embeddings lead to more accurate, efficient, and contextually aware NLP models."
   ]
  },
  {
   "cell_type": "markdown",
   "metadata": {},
   "source": [
    "33. What is the purpose of using lemmatization in text preprocessing?"
   ]
  },
  {
   "cell_type": "markdown",
   "metadata": {},
   "source": [
    "The purpose of **lemmatization** in text preprocessing is to reduce words to their base or root form (lemma), ensuring that different word variations are treated as a single entity. For example, \"running,\" \"ran,\" and \"runs\" would all be reduced to \"run.\" This improves the consistency of the text data, helps reduce dimensionality, and enhances the performance of NLP models by enabling them to focus on the core meaning of words rather than their different forms."
   ]
  },
  {
   "cell_type": "markdown",
   "metadata": {},
   "source": [
    "##                  Practical"
   ]
  },
  {
   "cell_type": "code",
   "execution_count": 1,
   "metadata": {},
   "outputs": [
    {
     "name": "stdout",
     "output_type": "stream",
     "text": [
      "Requirement already satisfied: nltk in d:\\anaconda3\\lib\\site-packages (3.8.1)\n",
      "Requirement already satisfied: click in d:\\anaconda3\\lib\\site-packages (from nltk) (8.1.7)\n",
      "Requirement already satisfied: joblib in d:\\anaconda3\\lib\\site-packages (from nltk) (1.4.2)\n",
      "Requirement already satisfied: regex>=2021.8.3 in d:\\anaconda3\\lib\\site-packages (from nltk) (2023.10.3)\n",
      "Requirement already satisfied: tqdm in d:\\anaconda3\\lib\\site-packages (from nltk) (4.66.4)\n",
      "Requirement already satisfied: colorama in c:\\users\\dell\\appdata\\roaming\\python\\python312\\site-packages (from click->nltk) (0.4.6)\n"
     ]
    }
   ],
   "source": [
    "!pip install nltk"
   ]
  },
  {
   "cell_type": "markdown",
   "metadata": {},
   "source": [
    "1. How can you perform word tokenization using NLTK."
   ]
  },
  {
   "cell_type": "code",
   "execution_count": 3,
   "metadata": {},
   "outputs": [
    {
     "name": "stdout",
     "output_type": "stream",
     "text": [
      "['Natural', 'language', 'processing', 'is', 'fun', 'and', 'exciting', '!']\n"
     ]
    },
    {
     "name": "stderr",
     "output_type": "stream",
     "text": [
      "[nltk_data] Downloading package punkt to\n",
      "[nltk_data]     C:\\Users\\Dell\\AppData\\Roaming\\nltk_data...\n",
      "[nltk_data]   Package punkt is already up-to-date!\n"
     ]
    }
   ],
   "source": [
    "import nltk\n",
    "from nltk.tokenize import word_tokenize\n",
    "\n",
    "\n",
    "nltk.download('punkt')\n",
    "\n",
    "# Sample text\n",
    "text = \"Natural language processing is fun and exciting!\"\n",
    "\n",
    "# Perform word tokenization\n",
    "tokens = word_tokenize(text)\n",
    "\n",
    "# Display the tokens\n",
    "print(tokens)\n"
   ]
  },
  {
   "cell_type": "markdown",
   "metadata": {},
   "source": [
    "2. How can you perform sentence tokenization using NLTK."
   ]
  },
  {
   "cell_type": "code",
   "execution_count": 5,
   "metadata": {},
   "outputs": [
    {
     "name": "stdout",
     "output_type": "stream",
     "text": [
      "['Natural language processing is fun.', 'I enjoy learning about it!']\n"
     ]
    }
   ],
   "source": [
    "import nltk\n",
    "from nltk.tokenize import sent_tokenize\n",
    "\n",
    "# nltk.download('punkt')\n",
    "\n",
    "# Sample text\n",
    "text = \"Natural language processing is fun. I enjoy learning about it!\"\n",
    "\n",
    "# Perform sentence tokenization\n",
    "sentences = sent_tokenize(text)\n",
    "\n",
    "# Display the sentences\n",
    "print(sentences)\n"
   ]
  },
  {
   "cell_type": "markdown",
   "metadata": {},
   "source": [
    "3. How can you remove stopwords from a sentence."
   ]
  },
  {
   "cell_type": "code",
   "execution_count": 7,
   "metadata": {},
   "outputs": [
    {
     "name": "stdout",
     "output_type": "stream",
     "text": [
      "['example', 'sentence', 'stopwords', '.']\n"
     ]
    }
   ],
   "source": [
    "import nltk\n",
    "from nltk.tokenize import word_tokenize\n",
    "from nltk.corpus import stopwords\n",
    "\n",
    "# Download the necessary NLTK data if you haven't already\n",
    "# nltk.download('punkt')\n",
    "# nltk.download('stopwords')\n",
    "\n",
    "# Sample sentence\n",
    "sentence = \"This is an example sentence with stopwords.\"\n",
    "\n",
    "# Tokenize the sentence\n",
    "words = word_tokenize(sentence)\n",
    "\n",
    "# Get the list of stopwords in English\n",
    "stop_words = set(stopwords.words('english'))\n",
    "\n",
    "# Remove stopwords from the tokenized words\n",
    "filtered_words = [word for word in words if word.lower() not in stop_words]\n",
    "\n",
    "# Display the filtered words\n",
    "print(filtered_words)\n"
   ]
  },
  {
   "cell_type": "markdown",
   "metadata": {},
   "source": [
    "4.How can you perform stemming on a word."
   ]
  },
  {
   "cell_type": "code",
   "execution_count": 8,
   "metadata": {},
   "outputs": [
    {
     "name": "stdout",
     "output_type": "stream",
     "text": [
      "['run', 'runner', 'ran', 'easili', 'fairli']\n"
     ]
    }
   ],
   "source": [
    "import nltk\n",
    "from nltk.stem import PorterStemmer\n",
    "\n",
    "# Initialize the Porter Stemmer\n",
    "stemmer = PorterStemmer()\n",
    "\n",
    "# Example words\n",
    "words = [\"running\", \"runner\", \"ran\", \"easily\", \"fairly\"]\n",
    "\n",
    "# Perform stemming on each word\n",
    "stemmed_words = [stemmer.stem(word) for word in words]\n",
    "\n",
    "# Display the stemmed words\n",
    "print(stemmed_words)\n"
   ]
  },
  {
   "cell_type": "markdown",
   "metadata": {},
   "source": [
    "5. How can you perform lemmatization on a word."
   ]
  },
  {
   "cell_type": "code",
   "execution_count": 10,
   "metadata": {},
   "outputs": [
    {
     "name": "stdout",
     "output_type": "stream",
     "text": [
      "['run', 'better', 'geese', 'cat']\n"
     ]
    }
   ],
   "source": [
    "import nltk\n",
    "from nltk.stem import WordNetLemmatizer\n",
    "\n",
    "# Download necessary NLTK data if you haven't already\n",
    "# nltk.download('wordnet')\n",
    "# nltk.download('omw-1.4')\n",
    "\n",
    "# Initialize the WordNetLemmatizer\n",
    "lemmatizer = WordNetLemmatizer()\n",
    "\n",
    "# Example words\n",
    "words = [\"running\", \"better\", \"geese\", \"cats\"]\n",
    "\n",
    "# Perform lemmatization on each word\n",
    "lemmatized_words = [lemmatizer.lemmatize(word, pos='v') for word in words]  # Using 'v' for verb\n",
    "\n",
    "# Display the lemmatized words\n",
    "print(lemmatized_words)\n"
   ]
  },
  {
   "cell_type": "markdown",
   "metadata": {},
   "source": [
    "6. How can you normalize a text by converting it to lowercase and removing punctuation."
   ]
  },
  {
   "cell_type": "code",
   "execution_count": 11,
   "metadata": {},
   "outputs": [
    {
     "name": "stdout",
     "output_type": "stream",
     "text": [
      "hello world this is an example\n"
     ]
    }
   ],
   "source": [
    "import string\n",
    "\n",
    "# Sample text\n",
    "text = \"Hello, World! This is an Example.\"\n",
    "\n",
    "# Convert to lowercase\n",
    "normalized_text = text.lower()\n",
    "\n",
    "# Remove punctuation\n",
    "normalized_text = normalized_text.translate(str.maketrans('', '', string.punctuation))\n",
    "\n",
    "# Display the normalized text\n",
    "print(normalized_text)\n"
   ]
  },
  {
   "cell_type": "markdown",
   "metadata": {},
   "source": [
    "7. How can you create a co-occurrence matrix for words in a corpus."
   ]
  },
  {
   "cell_type": "code",
   "execution_count": 12,
   "metadata": {},
   "outputs": [
    {
     "name": "stdout",
     "output_type": "stream",
     "text": [
      "            natural  language  processing  enables  computers  to  understand  \\\n",
      "language          1         0           1        1          0   0           0   \n",
      "processing        1         1           0        1          1   0           0   \n",
      "natural           0         1           1        0          0   0           0   \n",
      "enables           0         1           1        0          1   1           0   \n",
      "process           0         1           0        0          0   0           1   \n",
      "human             0         1           0        0          0   0           0   \n",
      ".                 0         1           0        0          0   0           0   \n",
      "computers         0         0           1        1          0   1           1   \n",
      "to                0         0           0        1          1   0           1   \n",
      "understand        0         0           0        0          1   1           0   \n",
      "and               0         0           0        0          0   1           1   \n",
      "\n",
      "            and  process  human  .  \n",
      "language      0        1      1  1  \n",
      "processing    0        0      0  0  \n",
      "natural       0        0      0  0  \n",
      "enables       0        0      0  0  \n",
      "process       1        0      1  0  \n",
      "human         1        1      0  1  \n",
      ".             0        0      1  0  \n",
      "computers     0        0      0  0  \n",
      "to            1        0      0  0  \n",
      "understand    1        1      0  0  \n",
      "and           0        1      1  0  \n"
     ]
    }
   ],
   "source": [
    "import nltk\n",
    "from nltk.tokenize import word_tokenize\n",
    "from collections import defaultdict\n",
    "import pandas as pd\n",
    "\n",
    "# Sample text (corpus)\n",
    "text = \"Natural language processing enables computers to understand and process human language.\"\n",
    "\n",
    "# Tokenize the text into words\n",
    "words = word_tokenize(text.lower())  # Convert to lowercase for consistency\n",
    "\n",
    "# Define the context window size\n",
    "window_size = 2\n",
    "\n",
    "# Create a co-occurrence matrix\n",
    "co_occurrence_matrix = defaultdict(lambda: defaultdict(int))\n",
    "\n",
    "# Iterate through the words in the tokenized list\n",
    "for i, target_word in enumerate(words):\n",
    "    # Look at words within the window\n",
    "    for j in range(i - window_size, i + window_size + 1):\n",
    "        if j != i and 0 <= j < len(words):\n",
    "            context_word = words[j]\n",
    "            co_occurrence_matrix[target_word][context_word] += 1\n",
    "\n",
    "# Convert to a pandas DataFrame for better visualization\n",
    "df = pd.DataFrame(co_occurrence_matrix).fillna(0).astype(int)\n",
    "\n",
    "# Display the co-occurrence matrix\n",
    "print(df)\n"
   ]
  },
  {
   "cell_type": "markdown",
   "metadata": {},
   "source": [
    "8. How can you apply a regular expression to extract all email addresses from a text."
   ]
  },
  {
   "cell_type": "code",
   "execution_count": 15,
   "metadata": {},
   "outputs": [
    {
     "name": "stdout",
     "output_type": "stream",
     "text": [
      "['support@example.com', 'sales@example.org']\n"
     ]
    }
   ],
   "source": [
    "import re\n",
    "\n",
    "# Sample text\n",
    "text = \"Please contact us at support@example.com or sales@example.org for more information.\"\n",
    "\n",
    "# Regular expression for matching email addresses\n",
    "email_regex = r'[a-zA-Z0-9._%+-]+@[a-zA-Z0-9.-]+\\.[a-zA-Z]{2,}'\n",
    "\n",
    "# Find all email addresses in the text\n",
    "email_addresses = re.findall(email_regex, text)\n",
    "\n",
    "# Display the extracted email addresses\n",
    "print(email_addresses)\n"
   ]
  },
  {
   "cell_type": "markdown",
   "metadata": {},
   "source": [
    "9. How can you perform word embedding using Word2Vec."
   ]
  },
  {
   "cell_type": "code",
   "execution_count": 2,
   "metadata": {},
   "outputs": [],
   "source": [
    "import gensim"
   ]
  },
  {
   "cell_type": "code",
   "execution_count": 5,
   "metadata": {},
   "outputs": [
    {
     "name": "stdout",
     "output_type": "stream",
     "text": [
      "Word Embedding for 'language':\n",
      "[-0.00515918 -0.00666806 -0.00777626  0.00831322 -0.00198051 -0.00685741\n",
      " -0.00415454  0.00514635 -0.00287023 -0.00375177  0.00162149 -0.0027789\n",
      " -0.00158607  0.00107656 -0.00297735  0.0085222   0.00391323 -0.00995789\n",
      "  0.00625925 -0.00675515  0.00077016  0.00440348 -0.00510163 -0.00211361\n",
      "  0.00809823 -0.00424346 -0.00763845  0.00926014 -0.00215621 -0.00471811\n",
      "  0.00857448  0.00428261  0.00432515  0.00928397 -0.00845295  0.00525666\n",
      "  0.00204147  0.00419042  0.00170071  0.00446717  0.00448895  0.00610327\n",
      " -0.00320496 -0.00457633 -0.00042741  0.00253618 -0.00326189  0.00605796\n",
      "  0.004155    0.00776594  0.0025717   0.00811496 -0.00138742  0.00807977\n",
      "  0.00371717 -0.00804591 -0.00393157 -0.00247035  0.00489339 -0.00087014\n",
      " -0.00283356  0.00783545  0.00932265 -0.0016165  -0.00515883 -0.0047008\n",
      " -0.00484445 -0.00960546  0.00137421 -0.00422356  0.00252597  0.0056127\n",
      " -0.00406486 -0.00959585  0.00154665 -0.0067027   0.0024935  -0.00378173\n",
      "  0.00708061  0.00063928  0.00355876 -0.00273838 -0.00170939  0.00765187\n",
      "  0.00140816 -0.00585166 -0.00783535  0.00123011  0.00645608  0.00555565\n",
      " -0.00897774  0.00859267  0.00404803  0.00746826  0.00974666 -0.00728965\n",
      " -0.00903949  0.00583598  0.00938963  0.00350855]\n",
      "\n",
      "Most similar words to 'language':\n",
      "[('.', 0.2161742001771927), ('processing', 0.044699911028146744), ('natural', 0.014987758360803127)]\n"
     ]
    }
   ],
   "source": [
    "import nltk\n",
    "from nltk.tokenize import word_tokenize\n",
    "from gensim.models import Word2Vec\n",
    "\n",
    "# Sample text (corpus)\n",
    "text = \"Natural language processing is a fascinating field of artificial intelligence.\"\n",
    "\n",
    "# Tokenize the text into words\n",
    "words = word_tokenize(text.lower())  # Converting to lowercase for consistency\n",
    "\n",
    "# Prepare data for Word2Vec (list of sentences)\n",
    "sentences = [words]\n",
    "\n",
    "# Create and train the Word2Vec model\n",
    "model = Word2Vec(sentences, vector_size=100, window=5, min_count=1, workers=4)\n",
    "\n",
    "# Retrieve the vector (embedding) for a specific word\n",
    "vector = model.wv['language']\n",
    "\n",
    "# Display the word embedding for the word \"language\"\n",
    "print(\"Word Embedding for 'language':\")\n",
    "print(vector)\n",
    "\n",
    "# Find the most similar words to 'language'\n",
    "similar_words = model.wv.most_similar('language', topn=3)\n",
    "print(\"\\nMost similar words to 'language':\")\n",
    "print(similar_words)\n"
   ]
  },
  {
   "cell_type": "markdown",
   "metadata": {},
   "source": [
    "10. How can you use Doc2Vec to embed documents."
   ]
  },
  {
   "cell_type": "code",
   "execution_count": 7,
   "metadata": {},
   "outputs": [
    {
     "name": "stdout",
     "output_type": "stream",
     "text": [
      "Document vector for the first document: [ 0.00669239  0.00217705 -0.00526642 -0.00883675  0.00311932 -0.00610809\n",
      "  0.00677713  0.00601969  0.00889489  0.00317096  0.000647    0.00402448\n",
      " -0.00829508  0.00785538  0.0073009  -0.00631272 -0.00242812 -0.00820061\n",
      "  0.00728996 -0.00035302  0.00639153  0.00754969 -0.00608088 -0.00511758\n",
      "  0.0035182   0.00392176 -0.00735569  0.00387013 -0.00059489  0.00643339\n",
      " -0.00679088  0.00024412  0.00578809  0.00405157  0.0059128   0.00285009\n",
      "  0.00690345 -0.00155801 -0.0015872   0.00033111 -0.00211402  0.00917784\n",
      "  0.00640339 -0.00128863 -0.00109353  0.00302524  0.00260549 -0.00276872\n",
      "  0.00177122  0.00822957]\n",
      "\n",
      "Most similar documents to document 0: [('1', 0.2717875838279724), ('2', 0.12558500468730927)]\n"
     ]
    }
   ],
   "source": [
    "import gensim\n",
    "from gensim.models import Doc2Vec\n",
    "from nltk.tokenize import word_tokenize\n",
    "\n",
    "# Sample documents (corpus)\n",
    "documents = [\n",
    "    \"Natural language processing is fun.\",\n",
    "    \"I love learning machine learning and AI.\",\n",
    "    \"Gensim is a great library for text processing.\"\n",
    "]\n",
    "\n",
    "# Tokenize the documents into words\n",
    "tokenized_docs = [word_tokenize(doc.lower()) for doc in documents]\n",
    "\n",
    "# Prepare the documents for Doc2Vec (Tag each document)\n",
    "tagged_data = [gensim.models.doc2vec.TaggedDocument(words=doc, tags=[str(i)]) for i, doc in enumerate(tokenized_docs)]\n",
    "\n",
    "# Train the Doc2Vec model\n",
    "model = Doc2Vec(vector_size=50, window=2, min_count=1, workers=4)\n",
    "model.build_vocab(tagged_data)\n",
    "model.train(tagged_data, total_examples=model.corpus_count, epochs=10)\n",
    "\n",
    "# Retrieve the document vector (embedding) for the first document\n",
    "document_vector = model.infer_vector(tokenized_docs[0])\n",
    "\n",
    "# Display the document vector\n",
    "print(\"Document vector for the first document:\", document_vector)\n",
    "\n",
    "# Find the most similar documents to the first document\n",
    "similar_docs = model.dv.most_similar('0', topn=2)\n",
    "print(\"\\nMost similar documents to document 0:\", similar_docs)\n"
   ]
  },
  {
   "cell_type": "markdown",
   "metadata": {},
   "source": [
    "11. How can you perform part-of-speech tagging."
   ]
  },
  {
   "cell_type": "code",
   "execution_count": 11,
   "metadata": {},
   "outputs": [
    {
     "name": "stderr",
     "output_type": "stream",
     "text": [
      "[nltk_data] Downloading package averaged_perceptron_tagger_eng to\n",
      "[nltk_data]     C:\\Users\\Dell\\AppData\\Roaming\\nltk_data...\n",
      "[nltk_data]   Unzipping taggers\\averaged_perceptron_tagger_eng.zip.\n"
     ]
    },
    {
     "data": {
      "text/plain": [
       "True"
      ]
     },
     "execution_count": 11,
     "metadata": {},
     "output_type": "execute_result"
    }
   ],
   "source": [
    "\n",
    "nltk.download(\"averaged_perceptron_tagger_eng\")"
   ]
  },
  {
   "cell_type": "code",
   "execution_count": 12,
   "metadata": {},
   "outputs": [
    {
     "name": "stdout",
     "output_type": "stream",
     "text": [
      "[('The', 'DT'), ('quick', 'JJ'), ('brown', 'NN'), ('fox', 'NN'), ('jumps', 'VBZ'), ('over', 'IN'), ('the', 'DT'), ('lazy', 'JJ'), ('dog', 'NN'), ('.', '.')]\n"
     ]
    }
   ],
   "source": [
    "import nltk\n",
    "from nltk.tokenize import word_tokenize\n",
    "from nltk import pos_tag\n",
    "\n",
    "# Sample sentence\n",
    "sentence = \"The quick brown fox jumps over the lazy dog.\"\n",
    "\n",
    "# Tokenize the sentence into words\n",
    "words = word_tokenize(sentence)\n",
    "\n",
    "# Perform POS tagging\n",
    "tagged_words = pos_tag(words)\n",
    "\n",
    "# Display the POS tags\n",
    "print(tagged_words)\n"
   ]
  },
  {
   "cell_type": "markdown",
   "metadata": {},
   "source": [
    "12. How can you find the similarity between two sentences using cosine similarity."
   ]
  },
  {
   "cell_type": "code",
   "execution_count": 13,
   "metadata": {},
   "outputs": [
    {
     "name": "stdout",
     "output_type": "stream",
     "text": [
      "Cosine Similarity: 0.0\n"
     ]
    }
   ],
   "source": [
    "from sklearn.feature_extraction.text import TfidfVectorizer\n",
    "from sklearn.metrics.pairwise import cosine_similarity\n",
    "\n",
    "# Sample sentences\n",
    "sentence1 = \"Natural language processing is fascinating.\"\n",
    "sentence2 = \"I love studying artificial intelligence and NLP.\"\n",
    "\n",
    "# Create a TF-IDF Vectorizer\n",
    "vectorizer = TfidfVectorizer()\n",
    "\n",
    "# Convert the sentences into TF-IDF vectors\n",
    "tfidf_matrix = vectorizer.fit_transform([sentence1, sentence2])\n",
    "\n",
    "# Compute cosine similarity between the two sentences\n",
    "cosine_sim = cosine_similarity(tfidf_matrix[0], tfidf_matrix[1])\n",
    "\n",
    "# Display the result\n",
    "print(f\"Cosine Similarity: {cosine_sim[0][0]}\")\n"
   ]
  },
  {
   "cell_type": "markdown",
   "metadata": {},
   "source": [
    "13. How can you extract named entities from a sentence."
   ]
  },
  {
   "cell_type": "code",
   "execution_count": 17,
   "metadata": {},
   "outputs": [
    {
     "name": "stderr",
     "output_type": "stream",
     "text": [
      "[nltk_data] Downloading package maxent_ne_chunker_tab to\n",
      "[nltk_data]     C:\\Users\\Dell\\AppData\\Roaming\\nltk_data...\n",
      "[nltk_data]   Package maxent_ne_chunker_tab is already up-to-date!\n",
      "[nltk_data] Downloading package words to\n",
      "[nltk_data]     C:\\Users\\Dell\\AppData\\Roaming\\nltk_data...\n",
      "[nltk_data]   Unzipping corpora\\words.zip.\n"
     ]
    },
    {
     "data": {
      "text/plain": [
       "True"
      ]
     },
     "execution_count": 17,
     "metadata": {},
     "output_type": "execute_result"
    }
   ],
   "source": [
    "\n",
    "nltk.download(\"maxent_ne_chunker_tab\")\n",
    "nltk.download('words')"
   ]
  },
  {
   "cell_type": "code",
   "execution_count": 18,
   "metadata": {},
   "outputs": [
    {
     "name": "stdout",
     "output_type": "stream",
     "text": [
      "[('Barack', 'PERSON'), ('Obama', 'PERSON'), ('Honolulu', 'GPE')]\n"
     ]
    }
   ],
   "source": [
    "import nltk\n",
    "from nltk import word_tokenize, pos_tag, ne_chunk\n",
    "\n",
    "# Sample sentence\n",
    "sentence = \"Barack Obama was born in Honolulu on August 4, 1961.\"\n",
    "\n",
    "# Tokenize and POS tagging\n",
    "tokens = word_tokenize(sentence)\n",
    "tagged = pos_tag(tokens)\n",
    "\n",
    "# Perform Named Entity Recognition\n",
    "ner_tree = ne_chunk(tagged)\n",
    "\n",
    "# Extract named entities\n",
    "named_entities = []\n",
    "for subtree in ner_tree:\n",
    "    if isinstance(subtree, nltk.Tree):  # Subtree represents an entity\n",
    "        entity = \" \".join([word for word, tag in subtree])\n",
    "        named_entities.append((entity, subtree.label()))\n",
    "\n",
    "# Display the named entities\n",
    "print(named_entities)\n"
   ]
  },
  {
   "cell_type": "markdown",
   "metadata": {},
   "source": [
    "14. How can you split a large document into smaller chunks of text."
   ]
  },
  {
   "cell_type": "code",
   "execution_count": 19,
   "metadata": {},
   "outputs": [
    {
     "name": "stdout",
     "output_type": "stream",
     "text": [
      "\n",
      "Natural Language Processing (NLP) is a field of artificial intelligence that helps machines understand, interpret, and generate human language.\n",
      "It's a combination of linguistics and machine learning.\n",
      "In recent years, NLP has gained significant attention due to its applications in chatbots, virtual assistants, and translation services.\n",
      "Deep learning algorithms, like transformers, have significantly improved NLP tasks.\n"
     ]
    }
   ],
   "source": [
    "import nltk\n",
    "from nltk.tokenize import sent_tokenize\n",
    "\n",
    "# Sample large document\n",
    "document = \"\"\"\n",
    "Natural Language Processing (NLP) is a field of artificial intelligence that helps machines understand, interpret, and generate human language.\n",
    "It's a combination of linguistics and machine learning. In recent years, NLP has gained significant attention due to its applications in chatbots, virtual assistants, and translation services.\n",
    "Deep learning algorithms, like transformers, have significantly improved NLP tasks.\n",
    "\"\"\"\n",
    "\n",
    "# Tokenize the document into sentences\n",
    "sentences = sent_tokenize(document)\n",
    "\n",
    "# Display the sentences\n",
    "for sentence in sentences:\n",
    "    print(sentence)\n"
   ]
  },
  {
   "cell_type": "markdown",
   "metadata": {},
   "source": [
    "15. How can you calculate the TF-IDF (Term Frequency - Inverse Document Frequency) for a set of documents."
   ]
  },
  {
   "cell_type": "code",
   "execution_count": 20,
   "metadata": {},
   "outputs": [
    {
     "name": "stdout",
     "output_type": "stream",
     "text": [
      "     about       and      are     both       fun  important  involves  \\\n",
      "0  0.00000  0.000000  0.00000  0.00000  0.557085    0.00000  0.000000   \n",
      "1  0.00000  0.319559  0.40532  0.40532  0.000000    0.40532  0.000000   \n",
      "2  0.34057  0.268509  0.00000  0.00000  0.000000    0.00000  0.000000   \n",
      "3  0.00000  0.000000  0.00000  0.00000  0.000000    0.00000  0.537183   \n",
      "\n",
      "         is  language  learning     love  machine    mining   natural  \\\n",
      "0  0.557085  0.355580   0.00000  0.00000  0.00000  0.000000  0.355580   \n",
      "1  0.000000  0.258711   0.00000  0.00000  0.00000  0.319559  0.258711   \n",
      "2  0.000000  0.000000   0.68114  0.34057  0.34057  0.000000  0.000000   \n",
      "3  0.000000  0.342877   0.00000  0.00000  0.00000  0.423521  0.342877   \n",
      "\n",
      "       nlp  processing      text  \n",
      "0  0.00000    0.355580  0.000000  \n",
      "1  0.00000    0.258711  0.319559  \n",
      "2  0.34057    0.000000  0.000000  \n",
      "3  0.00000    0.342877  0.423521  \n"
     ]
    }
   ],
   "source": [
    "from sklearn.feature_extraction.text import TfidfVectorizer\n",
    "\n",
    "# Sample set of documents\n",
    "documents = [\n",
    "    \"Natural language processing is fun.\",\n",
    "    \"Text mining and natural language processing are both important.\",\n",
    "    \"I love learning about machine learning and NLP.\",\n",
    "    \"Natural language processing involves text mining.\"\n",
    "]\n",
    "\n",
    "# Initialize TfidfVectorizer\n",
    "vectorizer = TfidfVectorizer()\n",
    "\n",
    "# Fit the model and transform the documents into TF-IDF matrix\n",
    "tfidf_matrix = vectorizer.fit_transform(documents)\n",
    "\n",
    "# Convert the TF-IDF matrix into a dense format and get feature names (terms)\n",
    "dense_matrix = tfidf_matrix.todense()\n",
    "terms = vectorizer.get_feature_names_out()\n",
    "\n",
    "# Display the TF-IDF values for each term in each document\n",
    "import pandas as pd\n",
    "df = pd.DataFrame(dense_matrix, columns=terms)\n",
    "print(df)\n"
   ]
  },
  {
   "cell_type": "markdown",
   "metadata": {},
   "source": [
    "16. How can you apply tokenization, stopword removal, and stemming in one go."
   ]
  },
  {
   "cell_type": "code",
   "execution_count": 23,
   "metadata": {},
   "outputs": [
    {
     "name": "stdout",
     "output_type": "stream",
     "text": [
      "['learn', 'natur', 'languag', 'process', '.', 'quit', 'interest', 'fun', '.']\n"
     ]
    }
   ],
   "source": [
    "import nltk\n",
    "from nltk.corpus import stopwords\n",
    "from nltk.tokenize import word_tokenize\n",
    "from nltk.stem import PorterStemmer\n",
    "\n",
    "# Download necessary NLTK resources\n",
    "# nltk.download('punkt')\n",
    "# nltk.download('stopwords')\n",
    "\n",
    "# Sample text\n",
    "text = \"I am learning natural language processing. It is quite interesting and fun.\"\n",
    "\n",
    "# Step 1: Tokenization\n",
    "tokens = word_tokenize(text)\n",
    "\n",
    "# Step 2: Stopword Removal\n",
    "stop_words = set(stopwords.words('english'))\n",
    "filtered_tokens = [word for word in tokens if word.lower() not in stop_words]\n",
    "\n",
    "# Step 3: Stemming\n",
    "stemmer = PorterStemmer()\n",
    "stemmed_tokens = [stemmer.stem(word) for word in filtered_tokens]\n",
    "\n",
    "# Display the final result\n",
    "print(stemmed_tokens)\n"
   ]
  },
  {
   "cell_type": "markdown",
   "metadata": {},
   "source": [
    "17. How can you visualize the frequency distribution of words in a sentence?"
   ]
  },
  {
   "cell_type": "code",
   "execution_count": 24,
   "metadata": {},
   "outputs": [
    {
     "data": {
      "image/png": "[encoded data removed]",
      "text/plain": [
       "<Figure size 1000x600 with 1 Axes>"
      ]
     },
     "metadata": {},
     "output_type": "display_data"
    }
   ],
   "source": [
    "import nltk\n",
    "import matplotlib.pyplot as plt\n",
    "from nltk.probability import FreqDist\n",
    "from nltk.tokenize import word_tokenize\n",
    "\n",
    "# Sample sentence\n",
    "sentence = \"Natural language processing is fun. Natural language is an exciting field.\"\n",
    "\n",
    "# Step 1: Tokenization\n",
    "# nltk.download('punkt')  # Download necessary resources\n",
    "tokens = word_tokenize(sentence.lower())  # Convert to lowercase to avoid case sensitivity\n",
    "\n",
    "# Step 2: Generate Frequency Distribution\n",
    "fdist = FreqDist(tokens)\n",
    "\n",
    "# Step 3: Visualize the Frequency Distribution\n",
    "plt.figure(figsize=(10, 6))\n",
    "fdist.plot(title=\"Word Frequency Distribution\", cumulative=False)\n",
    "plt.show()\n"
   ]
  }
 ],
 "metadata": {
  "kernelspec": {
   "display_name": "Python 3",
   "language": "python",
   "name": "python3"
  },
  "language_info": {
   "codemirror_mode": {
    "name": "ipython",
    "version": 3
   },
   "file_extension": ".py",
   "mimetype": "text/x-python",
   "name": "python",
   "nbconvert_exporter": "python",
   "pygments_lexer": "ipython3",
   "version": "3.12.8"
  }
 },
 "nbformat": 4,
 "nbformat_minor": 2
}
