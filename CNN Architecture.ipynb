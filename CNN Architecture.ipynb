{
 "cells": [
  {
   "cell_type": "markdown",
   "metadata": {},
   "source": [
    "1. What is a Convolutional Neural Network (CNN), and why is it used for image processing?"
   ]
  },
  {
   "cell_type": "markdown",
   "metadata": {},
   "source": [
    "#### What is a CNN?\n",
    "A Convolutional Neural Network (CNN) is a class of deep learning models that is particularly effective for image processing tasks.\n",
    "A CNN is designed to automatically and adaptively learn spatial hierarchies of features from input images. It’s made up of several layers, primarily:\n",
    "\n",
    "* **Convolutional Layers:** These layers apply a convolution operation to the input, passing the result to the next layer. This step is designed to detect local patterns such as edges, textures, and shapes.\n",
    "\n",
    "* **Pooling Layers:** These layers reduce the dimensionality of the feature maps, which helps in reducing computational complexity and helps in extracting dominant features that are invariant to translation.\n",
    "\n",
    "* **Fully Connected Layers:** These layers act as a classifier on top of the extracted features, assigning class scores to input images.\n",
    "\n",
    "#### Why is it used for Image Processing?\n",
    "Automatic Feature Extraction: CNNs automatically and adaptively learn spatial hierarchies of features, which means they can detect simple patterns in earlier layers and more complex patterns in deeper layers.\n",
    "\n",
    "* **Parameter Sharing:** Convolutional layers share parameters across space, which means the same filter (or neuron) is applied to different parts of the input image. This significantly reduces the number of parameters and computational load.\n",
    "\n",
    "* **Translation Invariance:** Because of the local receptive fields and pooling layers, CNNs can recognize objects in an image regardless of their position, making them robust to translations of the input images.\n",
    "\n",
    "* **Efficiency:** CNNs reduce the need for manual feature extraction and are more efficient in terms of computation and memory."
   ]
  },
  {
   "cell_type": "markdown",
   "metadata": {},
   "source": [
    "2. What are the key components of a CNN architecture ?"
   ]
  },
  {
   "cell_type": "markdown",
   "metadata": {},
   "source": [
    "### Key Components\n",
    "\n",
    "1. **Input Layer**:\n",
    "    - The image or input data is fed into this layer, typically in the form of a tensor with dimensions representing width, height, and the number of channels (e.g., RGB).\n",
    "\n",
    "2. **Convolutional Layer (Conv Layer)**:\n",
    "    - **Filters/Kernels**: Small matrices (e.g., 3x3, 5x5) that slide over the input image to detect features. The depth of the filter corresponds to the number of channels in the input.\n",
    "    - **Stride**: The number of pixels by which the filter moves. Larger strides reduce the spatial dimensions of the output.\n",
    "    - **Padding**: Adding zeros around the borders of the input to maintain the spatial dimensions.\n",
    "\n",
    "3. **Activation Function**:\n",
    "    - **ReLU (Rectified Linear Unit)**: A non-linear activation function applied element-wise to the output of the convolutional layer. It introduces non-linearity to the model.\n",
    "\n",
    "4. **Pooling Layer**:\n",
    "    - **Max Pooling**: Selects the maximum value from a patch of the feature map. Commonly used to reduce spatial dimensions and computation.\n",
    "    - **Average Pooling**: Computes the average value of a patch in the feature map.\n",
    "\n",
    "5. **Fully Connected Layer (Dense Layer)**:\n",
    "    - After several convolutional and pooling layers, the high-level reasoning in the network is done via fully connected layers. Here, every node is connected to every other node in the previous layer.\n",
    "  \n",
    "6. **Output Layer**:\n",
    "    - The final layer of the network that produces the output. In classification tasks, this layer uses an activation function like Softmax to output probabilities for each class.\n",
    "\n"
   ]
  },
  {
   "cell_type": "markdown",
   "metadata": {},
   "source": [
    "3. What is the role of the convolutional layer in CNNs ?"
   ]
  },
  {
   "cell_type": "markdown",
   "metadata": {},
   "source": [
    "The convolutional layer is the heart of a Convolutional Neural Network (CNN) and plays a critical role in feature extraction from the input image.\n",
    "\n",
    "### Role of the Convolutional Layer\n",
    "\n",
    "1. **Feature Extraction**:\n",
    "    - The primary role of the convolutional layer is to detect local patterns in the input data. This is achieved through the use of filters (or kernels) that slide over the input image to create feature maps.\n",
    "\n",
    "2. **Filters/Kernels**:\n",
    "    - Filters are small matrices that, when applied to the input image, perform a convolution operation. Each filter is designed to recognize specific features such as edges, corners, and textures. For example, one filter might highlight vertical edges, while another might highlight horizontal edges.\n",
    "\n",
    "3. **Convolution Operation**:\n",
    "    - The filter is slid (or convolved) across the entire input image. At each position, the filter’s values are multiplied by the corresponding pixel values of the input image, and the results are summed to produce a single output value in the feature map. This operation is repeated for each filter and for each region of the input image.\n",
    "\n",
    "4. **Preservation of Spatial Relationships**:\n",
    "    - The convolution operation helps preserve the spatial relationships between pixels by learning the dependencies between neighboring pixels. This is crucial for tasks like image recognition where the position of features matters.\n",
    "\n",
    "5. **Parameter Sharing and Sparsity of Connections**:\n",
    "    - In a convolutional layer, the same filter is used across the entire image. This means that the number of parameters is significantly reduced compared to a fully connected layer, making the network more efficient and less prone to overfitting. Additionally, each filter only interacts with a small local region of the input image, which introduces sparsity of connections.\n",
    "\n",
    "### Key Terms\n",
    "\n",
    "- **Stride**: The number of pixels by which the filter moves across the input image. Larger strides reduce the spatial dimensions of the output but can also skip over important details.\n",
    "- **Padding**: Adding extra pixels around the border of the input image to control the spatial dimensions of the output feature map. Common padding types are “valid” (no padding) and “same” (padding such that the output has the same dimensions as the input).\n",
    "\n",
    "### Importance in CNNs\n",
    "\n",
    "- **Hierarchical Feature Learning**: Convolutional layers allow CNNs to learn hierarchical representations of the input data. Early layers might detect simple features like edges, while deeper layers can detect more complex features like shapes and objects.\n",
    "- **Translation Invariance**: By using convolutional layers, CNNs become more robust to translations of the input image. This means that an object can be recognized regardless of where it appears in the image.\n",
    "- **Efficiency**: Convolutional layers greatly reduce the computational complexity and memory usage compared to fully connected layers, making them suitable for processing high-dimensional data like images.\n"
   ]
  },
  {
   "cell_type": "markdown",
   "metadata": {},
   "source": [
    "4. What is a filter (kernel) in CNNs ?\n"
   ]
  },
  {
   "cell_type": "markdown",
   "metadata": {},
   "source": [
    "Filters are small matrices that, when applied to the input image, perform a convolution operation. Each filter is designed to recognize specific features such as edges, corners, and textures. For example, one filter might highlight vertical edges, while another might highlight horizontal edges."
   ]
  },
  {
   "cell_type": "markdown",
   "metadata": {},
   "source": [
    "5. What is pooling in CNNs, and why is it important ?"
   ]
  },
  {
   "cell_type": "markdown",
   "metadata": {},
   "source": [
    "Pooling in Convolutional Neural Networks (CNNs) is a down-sampling operation that reduces the spatial dimensions (height and width) of the input feature maps, thereby decreasing the number of parameters and the computational load in the network. It plays a crucial role in controlling overfitting and makes the detection of features invariant to small translations of the input.\n",
    "\n",
    "### Importance of Pooling\n",
    "\n",
    "1. **Dimensionality Reduction**:\n",
    "    - Pooling layers reduce the spatial size of the feature maps, which lowers the number of parameters and computations in the network, making it more efficient.\n",
    "\n",
    "2. **Translation Invariance**:\n",
    "    - By down-sampling, pooling layers make the network more robust to slight translations of the input image, enhancing the ability to recognize objects regardless of their position.\n",
    "\n",
    "3. **Feature Consolidation**:\n",
    "    - Pooling helps in summarizing and consolidating the features detected by the convolutional layers, ensuring that the important features are retained.\n",
    "\n",
    "4. **Reduction of Overfitting**:\n",
    "    - By reducing the complexity of the network, pooling layers help prevent overfitting, which is especially useful when dealing with smaller datasets.\n"
   ]
  },
  {
   "cell_type": "markdown",
   "metadata": {},
   "source": [
    "6. What are the common types of pooling used in CNNs ?"
   ]
  },
  {
   "cell_type": "markdown",
   "metadata": {},
   "source": [
    "### Types of Pooling\n",
    "\n",
    "1. **Max Pooling**:\n",
    "    - **Operation**: Selects the maximum value from each patch of the feature map.\n",
    "    - **Effect**: Captures the most prominent feature in each patch.\n",
    "\n",
    "2. **Average Pooling**:\n",
    "    - **Operation**: Computes the average value from each patch of the feature map.\n",
    "    - **Effect**: Provides smoother representations by averaging features.\n"
   ]
  },
  {
   "cell_type": "markdown",
   "metadata": {},
   "source": [
    "7. How does the backpropagation algorithm work in CNNs ?"
   ]
  },
  {
   "cell_type": "markdown",
   "metadata": {},
   "source": [
    "Backpropagation is a fundamental algorithm used for training neural networks, including Convolutional Neural Networks (CNNs). It involves computing the gradient of the loss function with respect to each weight by the chain rule, allowing the efficient calculation of the gradient.\n",
    "\n",
    "#### How Backpropagation Works in CNNs:\n",
    "\n",
    "1. **Forward Pass**:\n",
    "    - The input image is fed into the CNN, and the data passes through each layer (convolutional, pooling, and fully connected) until it reaches the output layer.\n",
    "    - During this process, activations (outputs) are calculated for each neuron in the network.\n",
    "\n",
    "2. **Loss Calculation**:\n",
    "    - The network’s output is compared to the true label using a loss function (e.g., cross-entropy loss for classification tasks).\n",
    "    - The loss function quantifies the difference between the predicted output and the actual output.\n",
    "\n",
    "3. **Backward Pass** (Gradient Computation):\n",
    "    - The goal is to minimize the loss, so the algorithm computes the gradient of the loss function with respect to each weight in the network.\n",
    "    - This is done by propagating the error backward through the network, starting from the output layer and moving back to the input layer.\n",
    "\n",
    "#### Steps in the Backward Pass:\n",
    "\n",
    "1. **Output Layer**:\n",
    "    - Compute the gradient of the loss function with respect to the output layer’s activations.\n",
    "    - Use this gradient to compute the gradient of the loss with respect to the weights and biases in the output layer.\n",
    "\n",
    "2. **Fully Connected Layers**:\n",
    "    - Propagate the gradient backward through the fully connected layers.\n",
    "    - For each layer, compute the gradient of the loss with respect to the weights and biases, and also with respect to the previous layer’s activations.\n",
    "\n",
    "3. **Pooling Layers**:\n",
    "    - In pooling layers (e.g., max pooling), the gradient is passed back to the locations that contributed to the max value.\n",
    "    - For average pooling, the gradient is uniformly distributed to all inputs that contributed to the average.\n",
    "\n",
    "4. **Convolutional Layers**:\n",
    "    - Compute the gradient of the loss with respect to the feature maps (outputs of the convolutional layer).\n",
    "    - Use this to compute the gradient of the loss with respect to the filters (kernels) and biases.\n",
    "    - The convolutional layer’s gradients are computed using the chain rule, taking into account the stride, padding, and the filters.\n",
    "\n",
    "#### Weight Update:\n",
    "\n",
    "- Once the gradients are computed for all layers, the weights are updated using an optimization algorithm, such as Stochastic Gradient Descent (SGD).\n",
    "- The weights are adjusted by a small amount proportional to the negative of the gradient (to minimize the loss).\n"
   ]
  },
  {
   "cell_type": "markdown",
   "metadata": {},
   "source": [
    "8. What is the role of activation functions in CNNs ?"
   ]
  },
  {
   "cell_type": "markdown",
   "metadata": {},
   "source": [
    "Activation functions are critical components in Convolutional Neural Networks (CNNs) and other neural networks. Their main role is to introduce non-linearity into the network, allowing it to learn and model complex patterns in the data.\n",
    "\n",
    "### Key Roles of Activation Functions in CNNs\n",
    "\n",
    "1. **Introducing Non-Linearity**:\n",
    "    - Activation functions like ReLU (Rectified Linear Unit) introduce non-linear properties to the network. Without non-linearity, a neural network would simply be equivalent to a single-layer perceptron and unable to model complex data.\n",
    "\n",
    "2. **Enabling Complex Pattern Learning**:\n",
    "    - By introducing non-linearities, activation functions enable CNNs to learn and represent complex patterns and relationships in the data. This is crucial for tasks such as image recognition, where the data is inherently non-linear.\n",
    "\n",
    "3. **Controlling Neuron Activation**:\n",
    "    - Activation functions decide whether a neuron should be activated or not based on the input. Functions like ReLU allow for sparse activation, meaning only a subset of neurons are activated at any given time, which can make the network more efficient.\n",
    "\n",
    "### Common Activation Functions in CNNs\n",
    "\n",
    "1. **ReLU (Rectified Linear Unit)**\n",
    "2. **Leaky ReLU**\n",
    "3. **Sigmoid**\n",
    "4. **Tanh (Hyperbolic Tangent)**\n",
    "5. **Softmax**"
   ]
  },
  {
   "cell_type": "markdown",
   "metadata": {},
   "source": [
    "9. What is the concept of receptive fields in CNNs?"
   ]
  },
  {
   "cell_type": "markdown",
   "metadata": {},
   "source": [
    "The concept of receptive fields is fundamental in Convolutional Neural Networks (CNNs) and plays a crucial role in understanding how these networks process spatial information in images.\n",
    "\n",
    "#### Receptive Fields Explained\n",
    "\n",
    "1. **Definition**:\n",
    "    - The receptive field of a neuron in a CNN refers to the specific region of the input image that influences the activation of that neuron. In other words, it is the area of the input image to which a particular filter or neuron is responsive.\n",
    "\n",
    "2. **Local Receptive Fields**:\n",
    "    - In the early layers of a CNN, neurons have small receptive fields that cover local patches of the input image. These small regions allow the network to capture fine-grained details like edges and textures.\n",
    "\n",
    "3. **Increasing Size in Deeper Layers**:\n",
    "    - As we move deeper into the network, the receptive fields of neurons become larger due to the cumulative effect of multiple convolutional and pooling layers. This allows deeper layers to capture more complex features and broader spatial patterns.\n",
    "\n",
    "4. **Hierarchical Feature Learning**:\n",
    "    - The receptive field concept allows CNNs to build a hierarchy of features. Early layers detect basic features (e.g., edges), while deeper layers detect more complex structures (e.g., parts of objects) and even entire objects, thanks to the increasing receptive field."
   ]
  },
  {
   "cell_type": "markdown",
   "metadata": {},
   "source": [
    "10. Explain the concept of tensor space in CNNs ?"
   ]
  },
  {
   "cell_type": "markdown",
   "metadata": {},
   "source": [
    "In the context of Convolutional Neural Networks (CNNs), the term \"tensor space\" is often used to describe the multi-dimensional arrays of data that are processed by the network. Tensors are the generalization of scalars, vectors, and matrices to higher dimensions, and they play a fundamental role in deep learning frameworks.\n",
    "\n",
    "#### Key Concepts of Tensor Space in CNNs\n",
    "\n",
    "1. **Definition of a Tensor**:\n",
    "    - A tensor is a multi-dimensional array that can represent various types of data. For example:\n",
    "        - A **scalar** (0-dimensional tensor) is a single number.\n",
    "        - A **vector** (1-dimensional tensor) is an array of numbers.\n",
    "        - A **matrix** (2-dimensional tensor) is a grid of numbers.\n",
    "        - A tensor with more than two dimensions is referred to as a higher-order tensor.\n",
    "\n",
    "2. **Representation in CNNs**:\n",
    "    - In CNNs, tensors are used to represent the input data, the weights, the biases, and the feature maps at each layer. For instance:\n",
    "        - The input image is represented as a 3D tensor with dimensions corresponding to height, width, and the number of channels (e.g., RGB channels for a color image).\n",
    "        - The output of convolutional layers, known as feature maps, are also 3D tensors, with dimensions for height, width, and the number of filters (feature channels).\n",
    "\n",
    "3. **Tensor Operations in CNNs**:\n",
    "    - **Convolution**: This operation involves sliding a filter (a smaller tensor) over the input tensor (image) to produce a feature map. The result of the convolution operation is another tensor.\n",
    "    - **Pooling**: Pooling operations (e.g., max pooling) are applied to tensors to reduce their spatial dimensions while retaining important features. This results in a new tensor with smaller spatial dimensions.\n",
    "    - **Activation**: Applying an activation function element-wise to the tensors introduces non-linearity into the network.\n",
    "\n",
    "4. **Tensor Shape and Dimensions**:\n",
    "    - The shape of a tensor is defined by the number of elements in each dimension. For example, an input image tensor with shape (32, 32, 3) has 32 pixels in height, 32 pixels in width, and 3 color channels.\n",
    "    - The dimensions of tensors change as they pass through different layers of the CNN due to operations like convolution and pooling.\n",
    "\n",
    "5. **Batch Processing**:\n",
    "    - During training and inference, multiple input examples are often processed together in batches. Each batch is represented as a 4D tensor with dimensions corresponding to the number of examples in the batch, height, width, and number of channels.\n",
    "\n"
   ]
  },
  {
   "cell_type": "markdown",
   "metadata": {},
   "source": [
    "11. What is LeNet-5, and how does it contribute to the development of CNNs ?"
   ]
  },
  {
   "cell_type": "markdown",
   "metadata": {},
   "source": [
    "LeNet-5 is one of the pioneering Convolutional Neural Network (CNN) architectures, developed by Yann LeCun and his colleagues in the late 1980s and early 1990s. It was primarily designed for handwritten digit recognition in the MNIST dataset. LeNet-5 played a critical role in the development and popularization of CNNs.\n",
    "\n",
    "### Key Components of LeNet-5\n",
    "\n",
    "1. **Input Layer**:\n",
    "    - Takes a 32x32 pixel grayscale image as input.\n",
    "\n",
    "2. **Convolutional Layers**:\n",
    "    - The first convolutional layer (C1) has 6 filters of size 5x5, resulting in 6 feature maps of size 28x28.\n",
    "    - The second convolutional layer (C3) has 16 filters, each connected to a subset of the 6 input feature maps, resulting in 16 feature maps of size 10x10.\n",
    "\n",
    "3. **Pooling Layers**:\n",
    "    - The first pooling layer (S2) performs average pooling on each of the 6 feature maps from the C1 layer, reducing their size to 14x14.\n",
    "    - The second pooling layer (S4) performs average pooling on each of the 16 feature maps from the C3 layer, reducing their size to 5x5.\n",
    "\n",
    "4. **Fully Connected Layers**:\n",
    "    - The first fully connected layer (C5) has 120 units.\n",
    "    - The second fully connected layer (F6) has 84 units.\n",
    "    - The output layer has 10 units, corresponding to the 10 digit classes (0-9).\n",
    "\n",
    "### Contribution to the Development of CNNs\n",
    "\n",
    "1. **Innovative Architecture**:\n",
    "    - LeNet-5 introduced several architectural innovations, such as the use of convolutional and pooling layers, which are fundamental to modern CNNs.\n",
    "\n",
    "2. **Hierarchical Feature Learning**:\n",
    "    - LeNet-5 demonstrated the power of hierarchical feature learning, where early layers capture low-level features like edges, and deeper layers capture more complex patterns.\n",
    "\n",
    "3. **Efficient Computation**:\n",
    "    - By using parameter sharing and local connections, LeNet-5 significantly reduced the number of parameters compared to fully connected networks, making training feasible.\n",
    "\n",
    "4. **Success in Handwritten Digit Recognition**:\n",
    "    - LeNet-5 achieved remarkable success in handwritten digit recognition tasks, outperforming traditional machine learning methods. This success helped establish CNNs as a powerful tool for image processing tasks.\n",
    "\n",
    "5. **Foundation for Modern CNNs**:\n",
    "    - The principles and architecture of LeNet-5 laid the foundation for more complex and deeper CNN architectures, such as AlexNet, VGG, and ResNet, which have achieved state-of-the-art performance in various computer vision tasks.\n"
   ]
  },
  {
   "cell_type": "markdown",
   "metadata": {},
   "source": [
    "12. What is AlexNet, and why was it a breakthrough in deep learning ?"
   ]
  },
  {
   "cell_type": "markdown",
   "metadata": {},
   "source": [
    "AlexNet is a deep convolutional neural network that made significant strides in the field of deep learning and computer vision. It was developed by Alex Krizhevsky, Ilya Sutskever, and Geoffrey Hinton, and it won the ImageNet Large Scale Visual Recognition Challenge (ILSVRC) in 2012 by a large margin.\n",
    "\n",
    "### Key Features of AlexNet\n",
    "\n",
    "1. **Deep Architecture**:\n",
    "    - AlexNet has a deeper architecture compared to earlier neural networks, consisting of eight layers: five convolutional layers followed by three fully connected layers.\n",
    "\n",
    "2. **ReLU Activation Functions**:\n",
    "    - It introduced the use of Rectified Linear Units (ReLUs) instead of traditional activation functions like sigmoid or tanh, which helped in faster training by mitigating the vanishing gradient problem.\n",
    "\n",
    "3. **Dropout Regularization**:\n",
    "    - AlexNet incorporated dropout as a regularization technique in the fully connected layers to prevent overfitting, which was a significant innovation at the time.\n",
    "\n",
    "4. **Data Augmentation**:\n",
    "    - The model employed data augmentation techniques such as random cropping, flipping, and color perturbations to artificially increase the size and diversity of the training dataset, improving generalization.\n",
    "\n",
    "5. **GPU Utilization**:\n",
    "    - It leveraged the power of Graphics Processing Units (GPUs) for training, which drastically reduced training time and enabled handling large-scale datasets.\n",
    "\n",
    "6. **Local Response Normalization**:\n",
    "    - The network used Local Response Normalization (LRN) after ReLU activations to enhance the generalization capability.\n",
    "\n",
    "### Why AlexNet Was a Breakthrough\n",
    "\n",
    "1. **Performance on ImageNet**:\n",
    "    - AlexNet achieved a top-5 error rate of 15.3%, which was a significant improvement over the second-best entry that had an error rate of 26.2% in the ILSVRC 2012 competition. This substantial margin demonstrated the effectiveness of deep learning.\n",
    "\n",
    "2. **Catalyst for Deep Learning Research**:\n",
    "    - The success of AlexNet brought deep learning into the spotlight, leading to a surge in research and development in the field. It showed that deep neural networks could outperform traditional machine learning techniques in complex tasks.\n",
    "\n",
    "3. **Advancements in Hardware Utilization**:\n",
    "    - By using GPUs for training, AlexNet showcased the potential of leveraging hardware advancements to train deeper and more complex models efficiently.\n",
    "\n",
    "4. **Foundation for Modern Architectures**:\n",
    "    - AlexNet laid the groundwork for more advanced deep learning architectures such as VGG, GoogLeNet, and ResNet. Its architectural innovations and training methodologies influenced many subsequent models.\n",
    "\n",
    "5. **Wide Application**:\n",
    "    - The principles and techniques introduced by AlexNet have been applied to various domains beyond image classification, including object detection, segmentation, and even in areas like natural language processing.\n"
   ]
  },
  {
   "cell_type": "markdown",
   "metadata": {},
   "source": [
    "13. What is VGGNet, and how does it differ from AlexNet ?"
   ]
  },
  {
   "cell_type": "markdown",
   "metadata": {},
   "source": [
    "VGGNet, or Visual Geometry Group Network, is another influential deep learning architecture developed by the Visual Geometry Group from the University of Oxford. It gained significant attention for its simplicity and effectiveness in image classification tasks, particularly in the ImageNet Large Scale Visual Recognition Challenge (ILSVRC) 2014.\n",
    "\n",
    "### Key Features of VGGNet\n",
    "\n",
    "1. **Deeper Architecture**:\n",
    "    - VGGNet is characterized by its use of very deep networks. The most common versions are VGG-16 and VGG-19, with 16 and 19 layers, respectively.\n",
    "\n",
    "2. **Small Convolutional Filters**:\n",
    "    - Unlike AlexNet's larger filters, VGGNet uses small 3x3 convolutional filters throughout the network. This design choice allows the network to have more depth while keeping the number of parameters manageable.\n",
    "\n",
    "3. **Uniform Architecture**:\n",
    "    - VGGNet follows a uniform architecture where each convolutional layer is followed by a ReLU activation and pooling layer. The depth of the network increases by stacking these layers in a consistent pattern.\n",
    "\n",
    "4. **Fully Connected Layers**:\n",
    "    - Towards the end of the network, VGGNet employs three fully connected layers before the final softmax output layer.\n",
    "\n",
    "### Differences Between VGGNet and AlexNet\n",
    "\n",
    "1. **Depth**:\n",
    "    - **AlexNet**: Consists of 8 layers (5 convolutional layers + 3 fully connected layers).\n",
    "    - **VGGNet**: Is significantly deeper, with VGG-16 having 16 layers and VGG-19 having 19 layers.\n",
    "\n",
    "2. **Filter Size**:\n",
    "    - **AlexNet**: Uses larger filters (e.g., 11x11 and 5x5).\n",
    "    - **VGGNet**: Uses smaller 3x3 filters, which helps in capturing fine-grained details.\n",
    "\n",
    "3. **Architecture Uniformity**:\n",
    "    - **AlexNet**: Has a more varied architecture with different filter sizes and strides.\n",
    "    - **VGGNet**: Maintains a more uniform architecture with consistent use of 3x3 filters and pooling layers.\n",
    "\n",
    "4. **Performance**:\n",
    "    - **AlexNet**: Demonstrated the potential of deep learning on large-scale datasets and won the ILSVRC 2012.\n",
    "    - **VGGNet**: Achieved high performance in the ILSVRC 2014, particularly due to its depth and small filters, which helped in capturing complex patterns.\n",
    "\n",
    "5. **Training Complexity**:\n",
    "    - **AlexNet**: Was trained using two GPUs due to its architecture.\n",
    "    - **VGGNet**: Despite its depth, it was designed to be simple, making it easier to implement and train on modern GPUs.\n"
   ]
  },
  {
   "cell_type": "markdown",
   "metadata": {},
   "source": [
    "14. What is GoogLeNet, and what is its main innovation ?"
   ]
  },
  {
   "cell_type": "markdown",
   "metadata": {},
   "source": [
    "GoogLeNet, also known as Inception, is a pioneering deep learning architecture developed by researchers at Google. It won the ImageNet Large Scale Visual Recognition Challenge (ILSVRC) in 2014. Its main innovation lies in the introduction of the **Inception module**. Let's dive into its key features:\n",
    "\n",
    "### Key Features of GoogLeNet\n",
    "\n",
    "1. **Inception Modules**:\n",
    "    - The Inception module allows the network to perform convolutions with multiple filter sizes (1x1, 3x3, 5x5) in parallel, capturing features at different scales. This parallelism enables the network to be both wide and deep, improving its ability to capture complex patterns in the data.\n",
    "\n",
    "2. **1x1 Convolutions**:\n",
    "    - GoogLeNet uses 1x1 convolutions within the Inception modules to reduce the dimensionality of the feature maps before applying the more computationally expensive 3x3 and 5x5 convolutions. This helps in reducing the number of parameters and the computational cost.\n",
    "\n",
    "3. **Depth and Efficiency**:\n",
    "    - Although it is a deep network with 22 layers, GoogLeNet is efficient due to the Inception modules and the use of 1x1 convolutions. This efficiency makes it possible to train deeper networks without excessive computational resources.\n",
    "\n",
    "4. **Global Average Pooling**:\n",
    "    - Instead of using fully connected layers at the end of the network, GoogLeNet employs global average pooling. This reduces the number of parameters and helps mitigate overfitting by averaging the feature maps.\n",
    "\n",
    "5. **Auxiliary Classifiers**:\n",
    "    - To address the vanishing gradient problem and improve the training process, GoogLeNet includes auxiliary classifiers. These additional output layers are connected to intermediate layers of the network and provide extra gradient signals during training.\n"
   ]
  },
  {
   "cell_type": "markdown",
   "metadata": {},
   "source": [
    "15. What is ResNet, and what problem does it solve ?"
   ]
  },
  {
   "cell_type": "markdown",
   "metadata": {},
   "source": [
    "ResNet, or Residual Network, is a groundbreaking deep learning architecture introduced by Kaiming He, Xiangyu Zhang, Shaoqing Ren, and Jian Sun. It was a major milestone in the development of deep neural networks and won the ImageNet Large Scale Visual Recognition Challenge (ILSVRC) in 2015. The main innovation of ResNet is its ability to train very deep networks by addressing the problem of vanishing gradients.\n",
    "\n",
    "### Key Features of ResNet\n",
    "\n",
    "1. **Residual Learning**:\n",
    "    - The core idea behind ResNet is the use of residual blocks, which allow the network to learn residual functions with reference to the layer inputs. Instead of directly learning a desired mapping, the network learns the difference (residual) between the input and the output.\n",
    "\n",
    "2. **Residual Blocks**:\n",
    "    - Each residual block consists of a few convolutional layers with a shortcut (skip connection) that bypasses these layers and adds the input directly to the output. This shortcut connection helps in mitigating the vanishing gradient problem.\n",
    "\n",
    "3. **Deep Architecture**:\n",
    "    - ResNet allows for the training of very deep networks with hundreds or even thousands of layers. The most common versions are ResNet-18, ResNet-34, ResNet-50, ResNet-101, and ResNet-152, where the number indicates the depth of the network.\n",
    "\n",
    "4. **Skip Connections**:\n",
    "    - The skip connections, or shortcuts, enable the gradients to flow directly through the network, making it easier to train deep models and improving the convergence rate.\n",
    "\n",
    "### The Problem ResNet Solves\n",
    "\n",
    "1. **Vanishing Gradient Problem**:\n",
    "    - In very deep neural networks, the gradients of the loss function can become very small during backpropagation, leading to slow convergence or even stopping the training process. This is known as the vanishing gradient problem.\n",
    "    - ResNet's skip connections allow gradients to bypass several layers, effectively solving this issue by maintaining strong gradient signals throughout the network.\n",
    "\n",
    "2. **Training Deep Networks**:\n",
    "    - Prior to ResNet, it was challenging to train very deep networks because they tended to suffer from degradation problems where the accuracy got saturated and then degraded rapidly with the increase in network depth.\n",
    "    - ResNet makes it feasible to train networks with a large number of layers by enabling more efficient gradient propagation.\n"
   ]
  },
  {
   "cell_type": "markdown",
   "metadata": {},
   "source": [
    "16. What is DenseNet, and how does it differ from ResNet ?"
   ]
  },
  {
   "cell_type": "markdown",
   "metadata": {},
   "source": [
    "DenseNet, short for Densely Connected Convolutional Networks, is a deep learning architecture that builds on the successes of networks like ResNet. It was introduced by Gao Huang, Zhuang Liu, Laurens van der Maaten, and Kilian Q. Weinberger. DenseNet introduces a unique connectivity pattern that addresses some limitations of traditional deep networks.\n",
    "\n",
    "### Key Features of DenseNet\n",
    "\n",
    "1. **Dense Connectivity**:\n",
    "    - Unlike ResNet, where each layer is connected to its subsequent layer through identity connections, DenseNet connects each layer to every other layer in a feed-forward fashion. This means that the output of each layer is concatenated with the outputs of all previous layers and used as input for the subsequent layers.\n",
    "\n",
    "2. **Feature Reuse**:\n",
    "    - The dense connections ensure that feature maps learned by each layer are reused by subsequent layers, leading to improved feature propagation and reduced redundancy. This reuse of features allows the network to be more compact and efficient.\n",
    "\n",
    "3. **Reduced Parameters**:\n",
    "    - By leveraging dense connections, DenseNet requires fewer parameters compared to traditional convolutional networks. This efficiency is achieved by reducing the need for a large number of filters in each layer.\n",
    "\n",
    "4. **Improved Gradient Flow**:\n",
    "    - The dense connections facilitate better gradient flow during backpropagation, which helps in training very deep networks without encountering the vanishing gradient problem.\n",
    "\n",
    "### Differences Between DenseNet and ResNet\n",
    "\n",
    "1. **Connection Pattern**:\n",
    "    - **ResNet**: Uses residual blocks where each layer's output is added to the input of that block through identity connections (skip connections).\n",
    "    - **DenseNet**: Uses dense blocks where each layer's output is concatenated with all preceding layers' outputs.\n",
    "\n",
    "2. **Feature Propagation**:\n",
    "    - **ResNet**: Relies on the addition of identity mappings to propagate features through the network.\n",
    "    - **DenseNet**: Propagates features by concatenating them, ensuring that each layer has access to the feature maps of all previous layers.\n",
    "\n",
    "3. **Parameter Efficiency**:\n",
    "    - **ResNet**: Generally requires more parameters due to the independent learning of features at each layer.\n",
    "    - **DenseNet**: Requires fewer parameters because of the dense connections and feature reuse.\n",
    "\n",
    "4. **Network Depth**:\n",
    "    - Both architectures can support very deep networks, but DenseNet's connectivity pattern often allows for even deeper architectures with improved performance.\n",
    "\n"
   ]
  },
  {
   "cell_type": "markdown",
   "metadata": {},
   "source": [
    "17. What are the main steps involved in training a CNN from scratch?"
   ]
  },
  {
   "cell_type": "markdown",
   "metadata": {},
   "source": [
    "Training a Convolutional Neural Network (CNN) from scratch involves several key steps. Here's an overview:\n",
    "\n",
    "### 1. **Data Collection and Preprocessing**\n",
    "- **Data Collection**: Gather a large dataset that is representative of the task at hand. For image tasks, this might include thousands of labeled images.\n",
    "- **Data Preprocessing**: Normalize the images (e.g., scale pixel values to a range of 0-1 or -1 to 1), resize them to a consistent size, and possibly augment them with techniques like rotation, flipping, and cropping to increase the dataset size and variability.\n",
    "\n",
    "### 2. **Designing the Network Architecture**\n",
    "- **Network Architecture**: Define the architecture of your CNN. This includes specifying the number of layers, types of layers (convolutional, pooling, fully connected), filter sizes, activation functions, etc.\n",
    "- **Initial Weights**: Initialize the weights of the network, often using techniques like Xavier or He initialization.\n",
    "\n",
    "### 3. **Choosing the Loss Function and Optimizer**\n",
    "- **Loss Function**: Select an appropriate loss function based on the task. For classification, cross-entropy loss is commonly used.\n",
    "- **Optimizer**: Choose an optimizer to update the network’s weights during training. Popular choices include Stochastic Gradient Descent (SGD) with momentum, Adam, and RMSprop.\n",
    "\n",
    "### 4. **Training the Network**\n",
    "- **Forward Propagation**: Pass the input data through the network to obtain predictions.\n",
    "- **Loss Calculation**: Compute the loss between the predicted output and the actual labels.\n",
    "- **Backward Propagation**: Calculate the gradients of the loss with respect to each weight using backpropagation.\n",
    "- **Weight Update**: Update the weights using the gradients and the chosen optimizer.\n",
    "- **Epochs and Batches**: Repeat the forward and backward propagation steps for multiple epochs, and update weights after processing each mini-batch of the data.\n",
    "\n",
    "### 5. **Validation and Hyperparameter Tuning**\n",
    "- **Validation Set**: Use a validation set to evaluate the model’s performance after each epoch, helping to detect overfitting.\n",
    "- **Hyperparameter Tuning**: Experiment with different hyperparameters (learning rate, batch size, number of layers, etc.) to find the optimal configuration.\n",
    "\n",
    "### 6. **Model Evaluation**\n",
    "- **Test Set**: After training, evaluate the final model on a separate test set to gauge its performance on unseen data.\n",
    "- **Metrics**: Use metrics like accuracy, precision, recall, and F1-score to assess the model’s effectiveness.\n",
    "\n",
    "### 7. **Fine-tuning and Deployment**\n",
    "- **Fine-tuning**: If necessary, fine-tune the model by further training on a smaller learning rate or with additional data.\n",
    "- **Deployment**: Once satisfied with the model’s performance, deploy it for practical use. This might involve exporting the model to a format suitable for inference in a production environment.\n"
   ]
  },
  {
   "cell_type": "markdown",
   "metadata": {},
   "source": [
    "## ------------Practical------------"
   ]
  },
  {
   "cell_type": "markdown",
   "metadata": {},
   "source": [
    "1. Implement a basic convolution operation using a filter and a 5x5 image (matrix).\n",
    "   "
   ]
  },
  {
   "cell_type": "code",
   "execution_count": null,
   "metadata": {},
   "outputs": [],
   "source": [
    "import numpy as np\n",
    "\n",
    "def convolve(image, kernel):\n",
    "    \"\"\"Performs a 2D convolution.\"\"\"\n",
    "    image_height, image_width = image.shape\n",
    "    kernel_height, kernel_width = kernel.shape\n",
    "\n",
    "    pad_height = kernel_height // 2\n",
    "    pad_width = kernel_width // 2\n",
    "\n",
    "    padded_image = np.pad(image, ((pad_height, pad_height), (pad_width, pad_width)), mode='constant')\n",
    "    output = np.zeros_like(image)\n",
    "\n",
    "    for y in range(image_height):\n",
    "        for x in range(image_width):\n",
    "            roi = padded_image[y:y + kernel_height, x:x + kernel_width]\n",
    "            output[y, x] = np.sum(roi * kernel)\n",
    "\n",
    "    return output\n",
    "\n",
    "# Example  5 x 5 image\n",
    "image = np.array([\n",
    "    [1, 2, 3, 4, 5],\n",
    "    [6, 7, 8, 9, 10],\n",
    "    [11, 12, 13, 14, 15],\n",
    "    [16, 17, 18, 19, 20],\n",
    "    [21, 22, 23, 24, 25]\n",
    "])\n",
    "\n",
    "kernel = np.array([\n",
    "    [-1, -1, -1],\n",
    "    [-1, 8, -1],\n",
    "    [-1, -1, -1]\n",
    "])\n",
    "\n",
    "convolved_image = convolve(image, kernel)\n",
    "print(\"Convolved Image:\\n\", convolved_image)"
   ]
  },
  {
   "cell_type": "markdown",
   "metadata": {},
   "source": [
    "2. Implement max pooling on a 4x4 feature map with a 2x2 window ?"
   ]
  },
  {
   "cell_type": "code",
   "execution_count": null,
   "metadata": {},
   "outputs": [],
   "source": [
    "def max_pool(feature_map, pool_size=(2, 2)):\n",
    "\n",
    "    if not isinstance(feature_map, np.ndarray) or feature_map.ndim != 2:\n",
    "        print(\"Error: Feature map must be a 2D numpy array.\")\n",
    "        return None\n",
    "\n",
    "    if not isinstance(pool_size, tuple) or len(pool_size) != 2 or not all(isinstance(dim, int) and dim > 0 for dim in pool_size):\n",
    "        print(\"Error: Pool size must be a tuple of two positive integers.\")\n",
    "        return None\n",
    "        \n",
    "    map_height, map_width = feature_map.shape\n",
    "    pool_height, pool_width = pool_size\n",
    "\n",
    "    if map_height < pool_height or map_width < pool_width:\n",
    "        print(\"Error: Pool size cannot be larger than feature map dimensions.\")\n",
    "        return None\n",
    "\n",
    "    pooled_height = map_height // pool_height\n",
    "    pooled_width = map_width // pool_width\n",
    "\n",
    "    pooled_map = np.zeros((pooled_height, pooled_width))\n",
    "\n",
    "    for y in range(pooled_height):\n",
    "        for x in range(pooled_width):\n",
    "            # Extract the region of interest (ROI)\n",
    "            roi = feature_map[y * pool_height:(y + 1) * pool_height, x * pool_width:(x + 1) * pool_width]\n",
    "            pooled_map[y, x] = np.max(roi)  # Take the maximum value\n",
    "\n",
    "    return pooled_map\n",
    "\n",
    "# Example usage:\n",
    "feature_map = np.array([\n",
    "    [1, 2, 3, 4],\n",
    "    [5, 6, 7, 8],\n",
    "    [9, 10, 11, 12],\n",
    "    [13, 14, 15, 16]\n",
    "])\n",
    "\n",
    "pooled_map = max_pool(feature_map)\n",
    "\n",
    "if pooled_map is not None:\n",
    "    print(\"Feature Map:\\n\", feature_map)\n",
    "    print(\"\\nPooled Map:\\n\", pooled_map)\n",
    "\n",
    "feature_map2 = np.array([\n",
    "    [1, 2, 3, 4, 5],\n",
    "    [5, 6, 7, 8, 9],\n",
    "    [9, 10, 11, 12, 13],\n",
    "    [13, 14, 15, 16, 17]\n",
    "])\n",
    "\n",
    "pooled_map2 = max_pool(feature_map2)\n",
    "\n",
    "if pooled_map2 is not None:\n",
    "    print(\"\\nFeature Map 2:\\n\", feature_map2)\n",
    "    print(\"\\nPooled Map 2:\\n\", pooled_map2)\n",
    "\n",
    "pooled_map3 = max_pool(feature_map, (3,3))\n",
    "\n",
    "if pooled_map3 is not None:\n",
    "    print(\"\\nFeature Map:\\n\", feature_map)\n",
    "    print(\"\\nPooled Map 3:\\n\", pooled_map3)\n",
    "\n",
    "pooled_map4 = max_pool(feature_map, (5,5))\n",
    "\n",
    "if pooled_map4 is not None:\n",
    "    print(\"\\nFeature Map:\\n\", feature_map)\n",
    "    print(\"\\nPooled Map 4:\\n\", pooled_map4)"
   ]
  },
  {
   "cell_type": "markdown",
   "metadata": {},
   "source": [
    "3. Implement the ReLU activation function on a feature map."
   ]
  },
  {
   "cell_type": "code",
   "execution_count": null,
   "metadata": {},
   "outputs": [],
   "source": [
    "def relu(feature_map):\n",
    "    if not isinstance(feature_map, np.ndarray):\n",
    "        print(\"Error: Input must be a numpy array.\")\n",
    "        return None\n",
    "    return np.maximum(0, feature_map)\n",
    "\n",
    "# Example:\n",
    "feature_map = np.array([\n",
    "    [-1, 2, -3, 4],\n",
    "    [5, -6, 7, -8],\n",
    "    [-9, 10, -11, 12]\n",
    "])\n",
    "\n",
    "activated_map = relu(feature_map)\n",
    "\n",
    "if activated_map is not None:\n",
    "    print(\"Original Feature Map:\\n\", feature_map)\n",
    "    print(\"\\nReLU Activated Feature Map:\\n\", activated_map)"
   ]
  },
  {
   "cell_type": "markdown",
   "metadata": {},
   "source": [
    "4. Create a simple CNN model with one convolutional layer and a fully connected layer, using random data"
   ]
  },
  {
   "cell_type": "code",
   "execution_count": null,
   "metadata": {},
   "outputs": [],
   "source": [
    "def relu(x):\n",
    "    return np.maximum(0, x)\n",
    "\n",
    "def convolve(image, kernel):\n",
    "    image_height, image_width = image.shape\n",
    "    kernel_height, kernel_width = kernel.shape\n",
    "    pad_height = kernel_height // 2\n",
    "    pad_width = kernel_width // 2\n",
    "    padded_image = np.pad(image, ((pad_height, pad_height), (pad_width, pad_width)), mode='constant')\n",
    "    output = np.zeros_like(image)\n",
    "    for y in range(image_height):\n",
    "        for x in range(image_width):\n",
    "            roi = padded_image[y:y + kernel_height, x:x + kernel_width]\n",
    "            output[y, x] = np.sum(roi * kernel)\n",
    "    return output\n",
    "\n",
    "def flatten(x):\n",
    "  return x.flatten()\n",
    "\n",
    "# Model definition\n",
    "def simple_cnn(input_image, kernel, weights, bias):\n",
    "    \"\"\"A simple CNN with one conv layer and one FC layer.\"\"\"\n",
    "    conv_output = convolve(input_image, kernel)\n",
    "    activated_output = relu(conv_output)\n",
    "    flattened_output = flatten(activated_output)\n",
    "    fc_output = np.dot(flattened_output, weights) + bias\n",
    "    return fc_output\n",
    "\n",
    "# Example usage with random data\n",
    "input_image = np.random.rand(5, 5)  # 5x5 input image\n",
    "kernel = np.random.rand(3, 3)      # 3x3 kernel\n",
    "weights = np.random.rand(input_image.size) # weights for fully connected layer\n",
    "bias = np.random.rand() # bias for fully connected layer\n",
    "\n",
    "output = simple_cnn(input_image, kernel, weights, bias)\n",
    "\n",
    "print(\"Input Image:\\n\", input_image)\n",
    "print(\"\\nKernel:\\n\", kernel)\n",
    "print(\"\\nWeights:\\n\", weights)\n",
    "print(\"\\nBias:\\n\", bias)\n",
    "print(\"\\nOutput:\\n\", output)\n",
    "\n",
    "\n",
    "input_image2 = np.random.rand(7, 7)  # 7x7 input image\n",
    "kernel2 = np.random.rand(2, 2)      # 2x2 kernel\n",
    "weights2 = np.random.rand(input_image2.size) # weights for fully connected layer\n",
    "bias2 = np.random.rand() # bias for fully connected layer\n",
    "\n",
    "output2 = simple_cnn(input_image2, kernel2, weights2, bias2)\n",
    "\n",
    "print(\"\\nInput Image 2:\\n\", input_image2)\n",
    "print(\"\\nKernel 2:\\n\", kernel2)\n",
    "print(\"\\nWeights 2:\\n\", weights2)\n",
    "print(\"\\nBias 2:\\n\", bias2)\n",
    "print(\"\\nOutput 2:\\n\", output2)"
   ]
  },
  {
   "cell_type": "markdown",
   "metadata": {},
   "source": [
    "5. Generate a synthetic dataset using random noise and train a simple CNN model on it"
   ]
  },
  {
   "cell_type": "code",
   "execution_count": null,
   "metadata": {},
   "outputs": [],
   "source": [
    "import tensorflow as tf\n",
    "import numpy as np\n",
    "import matplotlib.pyplot as plt\n",
    "\n",
    "def relu(x):\n",
    "    return tf.maximum(0, x)\n",
    "\n",
    "def convolve(image, kernel):\n",
    "    image_height, image_width = image.shape\n",
    "    kernel_height, kernel_width = kernel.shape\n",
    "    pad_height = kernel_height // 2\n",
    "    pad_width = kernel_width // 2\n",
    "    padded_image = np.pad(image, ((pad_height, pad_height), (pad_width, pad_width)), mode='constant')\n",
    "    output = np.zeros_like(image)\n",
    "    for y in range(image_height):\n",
    "        for x in range(image_width):\n",
    "            roi = padded_image[y:y + kernel_height, x:x + kernel_width]\n",
    "            output[y, x] = np.sum(roi * kernel)\n",
    "    return tf.convert_to_tensor(output, dtype=tf.float32)\n",
    "\n",
    "def flatten(x):\n",
    "    return tf.reshape(x, [-1])\n",
    "\n",
    "def simple_cnn(input_image, kernel, weights, bias):\n",
    "    conv_output = convolve(input_image, kernel)\n",
    "    activated_output = relu(conv_output)\n",
    "    flattened_output = flatten(activated_output)\n",
    "    fc_output = tf.matmul(tf.expand_dims(flattened_output, axis=0), tf.expand_dims(weights, axis=1)) + bias\n",
    "    return fc_output\n",
    "\n",
    "# Generate synthetic dataset\n",
    "num_samples = 1000\n",
    "image_size = 8\n",
    "X = np.random.rand(num_samples, image_size, image_size).astype(np.float32)\n",
    "y = np.random.randint(0, 2, num_samples).astype(np.float32)\n",
    "\n",
    "# Initialize model parameters as TensorFlow Variables\n",
    "kernel = tf.Variable(np.random.rand(3, 3).astype(np.float32))\n",
    "weights = tf.Variable(np.random.rand((image_size - 3 + 1)**2).astype(np.float32))\n",
    "bias = tf.Variable(np.random.rand().astype(np.float32))\n",
    "learning_rate = 0.001\n",
    "epochs = 100\n",
    "\n",
    "optimizer = tf.keras.optimizers.Adam(learning_rate=learning_rate)\n",
    "\n",
    "# Training loop with TensorFlow GradientTape\n",
    "for epoch in range(epochs):\n",
    "    epoch_loss = 0\n",
    "    for i in range(num_samples):\n",
    "        with tf.GradientTape() as tape:\n",
    "            input_image = tf.convert_to_tensor(X[i], dtype=tf.float32)\n",
    "            target = y[i]\n",
    "            output = simple_cnn(input_image, kernel, weights, bias)\n",
    "            loss = tf.square(output - target)  # Mean Squared Error\n",
    "        \n",
    "        gradients = tape.gradient(loss, [kernel, weights, bias])\n",
    "        optimizer.apply_gradients(zip(gradients, [kernel, weights, bias]))\n",
    "\n",
    "        epoch_loss += loss.numpy()\n",
    "\n",
    "    print(f\"Epoch {epoch+1}/{epochs}, Loss: {epoch_loss/num_samples}\")\n",
    "\n",
    "# Example prediction (after \"training\")\n",
    "test_image = tf.convert_to_tensor(np.random.rand(image_size, image_size).astype(np.float32))\n",
    "prediction = simple_cnn(test_image, kernel, weights, bias)\n",
    "print(\"\\nTest Image:\\n\", test_image)\n",
    "print(\"\\nPrediction:\", prediction)"
   ]
  },
  {
   "cell_type": "markdown",
   "metadata": {},
   "source": [
    "6. Create a simple CNN using Keras with one convolution layer and a max-pooling layer"
   ]
  },
  {
   "cell_type": "code",
   "execution_count": 6,
   "metadata": {},
   "outputs": [
    {
     "data": {
      "text/html": [
       "<pre style=\"white-space:pre;overflow-x:auto;line-height:normal;font-family:Menlo,'DejaVu Sans Mono',consolas,'Courier New',monospace\"><span style=\"font-weight: bold\">Model: \"sequential\"</span>\n",
       "</pre>\n"
      ],
      "text/plain": [
       "\u001b[1mModel: \"sequential\"\u001b[0m\n"
      ]
     },
     "metadata": {},
     "output_type": "display_data"
    },
    {
     "data": {
      "text/html": [
       "<pre style=\"white-space:pre;overflow-x:auto;line-height:normal;font-family:Menlo,'DejaVu Sans Mono',consolas,'Courier New',monospace\">┏━━━━━━━━━━━━━━━━━━━━━━━━━━━━━━━━━┳━━━━━━━━━━━━━━━━━━━━━━━━┳━━━━━━━━━━━━━━━┓\n",
       "┃<span style=\"font-weight: bold\"> Layer (type)                    </span>┃<span style=\"font-weight: bold\"> Output Shape           </span>┃<span style=\"font-weight: bold\">       Param # </span>┃\n",
       "┡━━━━━━━━━━━━━━━━━━━━━━━━━━━━━━━━━╇━━━━━━━━━━━━━━━━━━━━━━━━╇━━━━━━━━━━━━━━━┩\n",
       "│ conv2d (<span style=\"color: #0087ff; text-decoration-color: #0087ff\">Conv2D</span>)                 │ (<span style=\"color: #00d7ff; text-decoration-color: #00d7ff\">None</span>, <span style=\"color: #00af00; text-decoration-color: #00af00\">26</span>, <span style=\"color: #00af00; text-decoration-color: #00af00\">26</span>, <span style=\"color: #00af00; text-decoration-color: #00af00\">32</span>)     │           <span style=\"color: #00af00; text-decoration-color: #00af00\">320</span> │\n",
       "├─────────────────────────────────┼────────────────────────┼───────────────┤\n",
       "│ max_pooling2d (<span style=\"color: #0087ff; text-decoration-color: #0087ff\">MaxPooling2D</span>)    │ (<span style=\"color: #00d7ff; text-decoration-color: #00d7ff\">None</span>, <span style=\"color: #00af00; text-decoration-color: #00af00\">13</span>, <span style=\"color: #00af00; text-decoration-color: #00af00\">13</span>, <span style=\"color: #00af00; text-decoration-color: #00af00\">32</span>)     │             <span style=\"color: #00af00; text-decoration-color: #00af00\">0</span> │\n",
       "├─────────────────────────────────┼────────────────────────┼───────────────┤\n",
       "│ flatten (<span style=\"color: #0087ff; text-decoration-color: #0087ff\">Flatten</span>)               │ (<span style=\"color: #00d7ff; text-decoration-color: #00d7ff\">None</span>, <span style=\"color: #00af00; text-decoration-color: #00af00\">5408</span>)           │             <span style=\"color: #00af00; text-decoration-color: #00af00\">0</span> │\n",
       "├─────────────────────────────────┼────────────────────────┼───────────────┤\n",
       "│ dense_2 (<span style=\"color: #0087ff; text-decoration-color: #0087ff\">Dense</span>)                 │ (<span style=\"color: #00d7ff; text-decoration-color: #00d7ff\">None</span>, <span style=\"color: #00af00; text-decoration-color: #00af00\">10</span>)             │        <span style=\"color: #00af00; text-decoration-color: #00af00\">54,090</span> │\n",
       "└─────────────────────────────────┴────────────────────────┴───────────────┘\n",
       "</pre>\n"
      ],
      "text/plain": [
       "┏━━━━━━━━━━━━━━━━━━━━━━━━━━━━━━━━━┳━━━━━━━━━━━━━━━━━━━━━━━━┳━━━━━━━━━━━━━━━┓\n",
       "┃\u001b[1m \u001b[0m\u001b[1mLayer (type)                   \u001b[0m\u001b[1m \u001b[0m┃\u001b[1m \u001b[0m\u001b[1mOutput Shape          \u001b[0m\u001b[1m \u001b[0m┃\u001b[1m \u001b[0m\u001b[1m      Param #\u001b[0m\u001b[1m \u001b[0m┃\n",
       "┡━━━━━━━━━━━━━━━━━━━━━━━━━━━━━━━━━╇━━━━━━━━━━━━━━━━━━━━━━━━╇━━━━━━━━━━━━━━━┩\n",
       "│ conv2d (\u001b[38;5;33mConv2D\u001b[0m)                 │ (\u001b[38;5;45mNone\u001b[0m, \u001b[38;5;34m26\u001b[0m, \u001b[38;5;34m26\u001b[0m, \u001b[38;5;34m32\u001b[0m)     │           \u001b[38;5;34m320\u001b[0m │\n",
       "├─────────────────────────────────┼────────────────────────┼───────────────┤\n",
       "│ max_pooling2d (\u001b[38;5;33mMaxPooling2D\u001b[0m)    │ (\u001b[38;5;45mNone\u001b[0m, \u001b[38;5;34m13\u001b[0m, \u001b[38;5;34m13\u001b[0m, \u001b[38;5;34m32\u001b[0m)     │             \u001b[38;5;34m0\u001b[0m │\n",
       "├─────────────────────────────────┼────────────────────────┼───────────────┤\n",
       "│ flatten (\u001b[38;5;33mFlatten\u001b[0m)               │ (\u001b[38;5;45mNone\u001b[0m, \u001b[38;5;34m5408\u001b[0m)           │             \u001b[38;5;34m0\u001b[0m │\n",
       "├─────────────────────────────────┼────────────────────────┼───────────────┤\n",
       "│ dense_2 (\u001b[38;5;33mDense\u001b[0m)                 │ (\u001b[38;5;45mNone\u001b[0m, \u001b[38;5;34m10\u001b[0m)             │        \u001b[38;5;34m54,090\u001b[0m │\n",
       "└─────────────────────────────────┴────────────────────────┴───────────────┘\n"
      ]
     },
     "metadata": {},
     "output_type": "display_data"
    },
    {
     "data": {
      "text/html": [
       "<pre style=\"white-space:pre;overflow-x:auto;line-height:normal;font-family:Menlo,'DejaVu Sans Mono',consolas,'Courier New',monospace\"><span style=\"font-weight: bold\"> Total params: </span><span style=\"color: #00af00; text-decoration-color: #00af00\">54,410</span> (212.54 KB)\n",
       "</pre>\n"
      ],
      "text/plain": [
       "\u001b[1m Total params: \u001b[0m\u001b[38;5;34m54,410\u001b[0m (212.54 KB)\n"
      ]
     },
     "metadata": {},
     "output_type": "display_data"
    },
    {
     "data": {
      "text/html": [
       "<pre style=\"white-space:pre;overflow-x:auto;line-height:normal;font-family:Menlo,'DejaVu Sans Mono',consolas,'Courier New',monospace\"><span style=\"font-weight: bold\"> Trainable params: </span><span style=\"color: #00af00; text-decoration-color: #00af00\">54,410</span> (212.54 KB)\n",
       "</pre>\n"
      ],
      "text/plain": [
       "\u001b[1m Trainable params: \u001b[0m\u001b[38;5;34m54,410\u001b[0m (212.54 KB)\n"
      ]
     },
     "metadata": {},
     "output_type": "display_data"
    },
    {
     "data": {
      "text/html": [
       "<pre style=\"white-space:pre;overflow-x:auto;line-height:normal;font-family:Menlo,'DejaVu Sans Mono',consolas,'Courier New',monospace\"><span style=\"font-weight: bold\"> Non-trainable params: </span><span style=\"color: #00af00; text-decoration-color: #00af00\">0</span> (0.00 B)\n",
       "</pre>\n"
      ],
      "text/plain": [
       "\u001b[1m Non-trainable params: \u001b[0m\u001b[38;5;34m0\u001b[0m (0.00 B)\n"
      ]
     },
     "metadata": {},
     "output_type": "display_data"
    },
    {
     "name": "stdout",
     "output_type": "stream",
     "text": [
      "Epoch 1/5\n",
      "\u001b[1m32/32\u001b[0m \u001b[32m━━━━━━━━━━━━━━━━━━━━\u001b[0m\u001b[37m\u001b[0m \u001b[1m5s\u001b[0m 19ms/step - accuracy: 0.1069 - loss: 2.3545 - val_accuracy: 0.1300 - val_loss: 2.3058\n",
      "Epoch 2/5\n",
      "\u001b[1m32/32\u001b[0m \u001b[32m━━━━━━━━━━━━━━━━━━━━\u001b[0m\u001b[37m\u001b[0m \u001b[1m0s\u001b[0m 7ms/step - accuracy: 0.1473 - loss: 2.2859 - val_accuracy: 0.0800 - val_loss: 2.3174\n",
      "Epoch 3/5\n",
      "\u001b[1m32/32\u001b[0m \u001b[32m━━━━━━━━━━━━━━━━━━━━\u001b[0m\u001b[37m\u001b[0m \u001b[1m0s\u001b[0m 8ms/step - accuracy: 0.1789 - loss: 2.2153 - val_accuracy: 0.0300 - val_loss: 2.3355\n",
      "Epoch 4/5\n",
      "\u001b[1m32/32\u001b[0m \u001b[32m━━━━━━━━━━━━━━━━━━━━\u001b[0m\u001b[37m\u001b[0m \u001b[1m1s\u001b[0m 17ms/step - accuracy: 0.4457 - loss: 2.1207 - val_accuracy: 0.0600 - val_loss: 2.3516\n",
      "Epoch 5/5\n",
      "\u001b[1m32/32\u001b[0m \u001b[32m━━━━━━━━━━━━━━━━━━━━\u001b[0m\u001b[37m\u001b[0m \u001b[1m0s\u001b[0m 8ms/step - accuracy: 0.3762 - loss: 2.0399 - val_accuracy: 0.1200 - val_loss: 2.3323\n",
      "Test Loss: 2.3323\n",
      "Test Accuracy: 0.1200\n"
     ]
    }
   ],
   "source": [
    "import tensorflow as tf\n",
    "from tensorflow import keras\n",
    "from tensorflow.keras import layers\n",
    "\n",
    "# Define the model\n",
    "model = keras.Sequential(\n",
    "    [\n",
    "        keras.Input(shape=(28, 28, 1)),  # Input layer (adjust shape as needed)\n",
    "        layers.Conv2D(32, kernel_size=(3, 3), activation=\"relu\"), # Convolutional layer\n",
    "        layers.MaxPooling2D(pool_size=(2, 2)), # Max pooling layer\n",
    "        layers.Flatten(), # Flatten the output for the Dense layer\n",
    "        layers.Dense(10, activation=\"softmax\"), # Output layer with softmax for classification\n",
    "    ]\n",
    ")\n",
    "\n",
    "# Compile the model\n",
    "model.compile(loss=\"categorical_crossentropy\", optimizer=\"adam\", metrics=[\"accuracy\"])\n",
    "\n",
    "# Print model summary\n",
    "model.summary()\n",
    "\n",
    "# Generate dummy data for demonstration (replace with your actual data)\n",
    "num_samples = 1000\n",
    "img_height, img_width = 28, 28\n",
    "num_classes = 10\n",
    "\n",
    "X_train = np.random.rand(num_samples, img_height, img_width, 1)\n",
    "y_train = np.random.randint(0, num_classes, num_samples)\n",
    "y_train = keras.utils.to_categorical(y_train, num_classes)\n",
    "\n",
    "X_test = np.random.rand(100, img_height, img_width, 1)\n",
    "y_test = np.random.randint(0, num_classes, 100)\n",
    "y_test = keras.utils.to_categorical(y_test, num_classes)\n",
    "\n",
    "# Train the model\n",
    "model.fit(X_train, y_train, epochs=5, batch_size=32, validation_data=(X_test,y_test)) # Train for 5 epochs\n",
    "\n",
    "# Evaluate the model\n",
    "loss, accuracy = model.evaluate(X_test, y_test, verbose=0)\n",
    "print(f\"Test Loss: {loss:.4f}\")\n",
    "print(f\"Test Accuracy: {accuracy:.4f}\")"
   ]
  },
  {
   "cell_type": "markdown",
   "metadata": {},
   "source": [
    "7. Write a code to add a fully connected layer after the convolution and max-pooling layers in a CNN."
   ]
  },
  {
   "cell_type": "code",
   "execution_count": 7,
   "metadata": {},
   "outputs": [
    {
     "data": {
      "text/html": [
       "<pre style=\"white-space:pre;overflow-x:auto;line-height:normal;font-family:Menlo,'DejaVu Sans Mono',consolas,'Courier New',monospace\"><span style=\"font-weight: bold\">Model: \"sequential_1\"</span>\n",
       "</pre>\n"
      ],
      "text/plain": [
       "\u001b[1mModel: \"sequential_1\"\u001b[0m\n"
      ]
     },
     "metadata": {},
     "output_type": "display_data"
    },
    {
     "data": {
      "text/html": [
       "<pre style=\"white-space:pre;overflow-x:auto;line-height:normal;font-family:Menlo,'DejaVu Sans Mono',consolas,'Courier New',monospace\">┏━━━━━━━━━━━━━━━━━━━━━━━━━━━━━━━━━┳━━━━━━━━━━━━━━━━━━━━━━━━┳━━━━━━━━━━━━━━━┓\n",
       "┃<span style=\"font-weight: bold\"> Layer (type)                    </span>┃<span style=\"font-weight: bold\"> Output Shape           </span>┃<span style=\"font-weight: bold\">       Param # </span>┃\n",
       "┡━━━━━━━━━━━━━━━━━━━━━━━━━━━━━━━━━╇━━━━━━━━━━━━━━━━━━━━━━━━╇━━━━━━━━━━━━━━━┩\n",
       "│ conv_1 (<span style=\"color: #0087ff; text-decoration-color: #0087ff\">Conv2D</span>)                 │ (<span style=\"color: #00d7ff; text-decoration-color: #00d7ff\">None</span>, <span style=\"color: #00af00; text-decoration-color: #00af00\">26</span>, <span style=\"color: #00af00; text-decoration-color: #00af00\">26</span>, <span style=\"color: #00af00; text-decoration-color: #00af00\">32</span>)     │           <span style=\"color: #00af00; text-decoration-color: #00af00\">320</span> │\n",
       "├─────────────────────────────────┼────────────────────────┼───────────────┤\n",
       "│ max_pool (<span style=\"color: #0087ff; text-decoration-color: #0087ff\">MaxPooling2D</span>)         │ (<span style=\"color: #00d7ff; text-decoration-color: #00d7ff\">None</span>, <span style=\"color: #00af00; text-decoration-color: #00af00\">13</span>, <span style=\"color: #00af00; text-decoration-color: #00af00\">13</span>, <span style=\"color: #00af00; text-decoration-color: #00af00\">32</span>)     │             <span style=\"color: #00af00; text-decoration-color: #00af00\">0</span> │\n",
       "├─────────────────────────────────┼────────────────────────┼───────────────┤\n",
       "│ flatten (<span style=\"color: #0087ff; text-decoration-color: #0087ff\">Flatten</span>)               │ (<span style=\"color: #00d7ff; text-decoration-color: #00d7ff\">None</span>, <span style=\"color: #00af00; text-decoration-color: #00af00\">5408</span>)           │             <span style=\"color: #00af00; text-decoration-color: #00af00\">0</span> │\n",
       "├─────────────────────────────────┼────────────────────────┼───────────────┤\n",
       "│ fc_1 (<span style=\"color: #0087ff; text-decoration-color: #0087ff\">Dense</span>)                    │ (<span style=\"color: #00d7ff; text-decoration-color: #00d7ff\">None</span>, <span style=\"color: #00af00; text-decoration-color: #00af00\">128</span>)            │       <span style=\"color: #00af00; text-decoration-color: #00af00\">692,352</span> │\n",
       "├─────────────────────────────────┼────────────────────────┼───────────────┤\n",
       "│ output (<span style=\"color: #0087ff; text-decoration-color: #0087ff\">Dense</span>)                  │ (<span style=\"color: #00d7ff; text-decoration-color: #00d7ff\">None</span>, <span style=\"color: #00af00; text-decoration-color: #00af00\">10</span>)             │         <span style=\"color: #00af00; text-decoration-color: #00af00\">1,290</span> │\n",
       "└─────────────────────────────────┴────────────────────────┴───────────────┘\n",
       "</pre>\n"
      ],
      "text/plain": [
       "┏━━━━━━━━━━━━━━━━━━━━━━━━━━━━━━━━━┳━━━━━━━━━━━━━━━━━━━━━━━━┳━━━━━━━━━━━━━━━┓\n",
       "┃\u001b[1m \u001b[0m\u001b[1mLayer (type)                   \u001b[0m\u001b[1m \u001b[0m┃\u001b[1m \u001b[0m\u001b[1mOutput Shape          \u001b[0m\u001b[1m \u001b[0m┃\u001b[1m \u001b[0m\u001b[1m      Param #\u001b[0m\u001b[1m \u001b[0m┃\n",
       "┡━━━━━━━━━━━━━━━━━━━━━━━━━━━━━━━━━╇━━━━━━━━━━━━━━━━━━━━━━━━╇━━━━━━━━━━━━━━━┩\n",
       "│ conv_1 (\u001b[38;5;33mConv2D\u001b[0m)                 │ (\u001b[38;5;45mNone\u001b[0m, \u001b[38;5;34m26\u001b[0m, \u001b[38;5;34m26\u001b[0m, \u001b[38;5;34m32\u001b[0m)     │           \u001b[38;5;34m320\u001b[0m │\n",
       "├─────────────────────────────────┼────────────────────────┼───────────────┤\n",
       "│ max_pool (\u001b[38;5;33mMaxPooling2D\u001b[0m)         │ (\u001b[38;5;45mNone\u001b[0m, \u001b[38;5;34m13\u001b[0m, \u001b[38;5;34m13\u001b[0m, \u001b[38;5;34m32\u001b[0m)     │             \u001b[38;5;34m0\u001b[0m │\n",
       "├─────────────────────────────────┼────────────────────────┼───────────────┤\n",
       "│ flatten (\u001b[38;5;33mFlatten\u001b[0m)               │ (\u001b[38;5;45mNone\u001b[0m, \u001b[38;5;34m5408\u001b[0m)           │             \u001b[38;5;34m0\u001b[0m │\n",
       "├─────────────────────────────────┼────────────────────────┼───────────────┤\n",
       "│ fc_1 (\u001b[38;5;33mDense\u001b[0m)                    │ (\u001b[38;5;45mNone\u001b[0m, \u001b[38;5;34m128\u001b[0m)            │       \u001b[38;5;34m692,352\u001b[0m │\n",
       "├─────────────────────────────────┼────────────────────────┼───────────────┤\n",
       "│ output (\u001b[38;5;33mDense\u001b[0m)                  │ (\u001b[38;5;45mNone\u001b[0m, \u001b[38;5;34m10\u001b[0m)             │         \u001b[38;5;34m1,290\u001b[0m │\n",
       "└─────────────────────────────────┴────────────────────────┴───────────────┘\n"
      ]
     },
     "metadata": {},
     "output_type": "display_data"
    },
    {
     "data": {
      "text/html": [
       "<pre style=\"white-space:pre;overflow-x:auto;line-height:normal;font-family:Menlo,'DejaVu Sans Mono',consolas,'Courier New',monospace\"><span style=\"font-weight: bold\"> Total params: </span><span style=\"color: #00af00; text-decoration-color: #00af00\">693,962</span> (2.65 MB)\n",
       "</pre>\n"
      ],
      "text/plain": [
       "\u001b[1m Total params: \u001b[0m\u001b[38;5;34m693,962\u001b[0m (2.65 MB)\n"
      ]
     },
     "metadata": {},
     "output_type": "display_data"
    },
    {
     "data": {
      "text/html": [
       "<pre style=\"white-space:pre;overflow-x:auto;line-height:normal;font-family:Menlo,'DejaVu Sans Mono',consolas,'Courier New',monospace\"><span style=\"font-weight: bold\"> Trainable params: </span><span style=\"color: #00af00; text-decoration-color: #00af00\">693,962</span> (2.65 MB)\n",
       "</pre>\n"
      ],
      "text/plain": [
       "\u001b[1m Trainable params: \u001b[0m\u001b[38;5;34m693,962\u001b[0m (2.65 MB)\n"
      ]
     },
     "metadata": {},
     "output_type": "display_data"
    },
    {
     "data": {
      "text/html": [
       "<pre style=\"white-space:pre;overflow-x:auto;line-height:normal;font-family:Menlo,'DejaVu Sans Mono',consolas,'Courier New',monospace\"><span style=\"font-weight: bold\"> Non-trainable params: </span><span style=\"color: #00af00; text-decoration-color: #00af00\">0</span> (0.00 B)\n",
       "</pre>\n"
      ],
      "text/plain": [
       "\u001b[1m Non-trainable params: \u001b[0m\u001b[38;5;34m0\u001b[0m (0.00 B)\n"
      ]
     },
     "metadata": {},
     "output_type": "display_data"
    },
    {
     "name": "stdout",
     "output_type": "stream",
     "text": [
      "Epoch 1/5\n",
      "\u001b[1m32/32\u001b[0m \u001b[32m━━━━━━━━━━━━━━━━━━━━\u001b[0m\u001b[37m\u001b[0m \u001b[1m3s\u001b[0m 24ms/step - accuracy: 0.1078 - loss: 2.3464 - val_accuracy: 0.0800 - val_loss: 2.3184\n",
      "Epoch 2/5\n",
      "\u001b[1m32/32\u001b[0m \u001b[32m━━━━━━━━━━━━━━━━━━━━\u001b[0m\u001b[37m\u001b[0m \u001b[1m1s\u001b[0m 21ms/step - accuracy: 0.1226 - loss: 2.2921 - val_accuracy: 0.0800 - val_loss: 2.3148\n",
      "Epoch 3/5\n",
      "\u001b[1m32/32\u001b[0m \u001b[32m━━━━━━━━━━━━━━━━━━━━\u001b[0m\u001b[37m\u001b[0m \u001b[1m1s\u001b[0m 15ms/step - accuracy: 0.1420 - loss: 2.2479 - val_accuracy: 0.1200 - val_loss: 2.3341\n",
      "Epoch 4/5\n",
      "\u001b[1m32/32\u001b[0m \u001b[32m━━━━━━━━━━━━━━━━━━━━\u001b[0m\u001b[37m\u001b[0m \u001b[1m1s\u001b[0m 15ms/step - accuracy: 0.2483 - loss: 2.1830 - val_accuracy: 0.1100 - val_loss: 2.3246\n",
      "Epoch 5/5\n",
      "\u001b[1m32/32\u001b[0m \u001b[32m━━━━━━━━━━━━━━━━━━━━\u001b[0m\u001b[37m\u001b[0m \u001b[1m1s\u001b[0m 15ms/step - accuracy: 0.3466 - loss: 2.0719 - val_accuracy: 0.1000 - val_loss: 2.3203\n",
      "Test Loss: 2.3203\n",
      "Test Accuracy: 0.1000\n"
     ]
    }
   ],
   "source": [
    "import tensorflow as tf\n",
    "from tensorflow import keras\n",
    "from tensorflow.keras import layers\n",
    "\n",
    "def create_cnn_with_fc(input_shape, num_classes):\n",
    "    model = keras.Sequential(\n",
    "        [\n",
    "            keras.Input(shape=input_shape),\n",
    "            layers.Conv2D(32, kernel_size=(3, 3), activation=\"relu\", name=\"conv_1\"),\n",
    "            layers.MaxPooling2D(pool_size=(2, 2), name=\"max_pool\"),\n",
    "            layers.Flatten(name=\"flatten\"),  # Flatten before the fully connected layer\n",
    "            layers.Dense(128, activation=\"relu\", name=\"fc_1\"),  # Fully connected layer\n",
    "            layers.Dense(num_classes, activation=\"softmax\", name=\"output\"),  # Output layer\n",
    "        ]\n",
    "    )\n",
    "    return model\n",
    "\n",
    "\n",
    "# Example usage:\n",
    "input_shape = (28, 28, 1)  # Example input shape (e.g., MNIST images)\n",
    "num_classes = 10  # Example number of classes (e.g., digits 0-9)\n",
    "\n",
    "model = create_cnn_with_fc(input_shape, num_classes)\n",
    "\n",
    "# Compile the model\n",
    "model.compile(loss=\"categorical_crossentropy\", optimizer=\"adam\", metrics=[\"accuracy\"])\n",
    "\n",
    "model.summary()\n",
    "\n",
    "# Generate dummy data for demonstration (replace with your actual data)\n",
    "num_samples = 1000\n",
    "img_height, img_width = input_shape[0], input_shape[1]\n",
    "\n",
    "X_train = np.random.rand(num_samples, img_height, img_width, input_shape[2]).astype(np.float32)\n",
    "y_train = np.random.randint(0, num_classes, num_samples)\n",
    "y_train = keras.utils.to_categorical(y_train, num_classes).astype(np.float32)\n",
    "\n",
    "X_test = np.random.rand(100, img_height, img_width, input_shape[2]).astype(np.float32)\n",
    "y_test = np.random.randint(0, num_classes, 100)\n",
    "y_test = keras.utils.to_categorical(y_test, num_classes).astype(np.float32)\n",
    "\n",
    "# Train the model\n",
    "model.fit(X_train, y_train, epochs=5, batch_size=32, validation_data=(X_test, y_test))\n",
    "\n",
    "# Evaluate the model\n",
    "loss, accuracy = model.evaluate(X_test, y_test, verbose=0)\n",
    "print(f\"Test Loss: {loss:.4f}\")\n",
    "print(f\"Test Accuracy: {accuracy:.4f}\")"
   ]
  },
  {
   "cell_type": "markdown",
   "metadata": {},
   "source": [
    "8.  Write a code to add  batch normalization to a simple CNN model"
   ]
  },
  {
   "cell_type": "code",
   "execution_count": null,
   "metadata": {},
   "outputs": [],
   "source": [
    "|import tensorflow as tf\n",
    "from tensorflow import keras\n",
    "from tensorflow.keras import layers\n",
    "\n",
    "def create_cnn_with_batchnorm(input_shape, num_classes):\n",
    "    model = keras.Sequential(\n",
    "        [\n",
    "            keras.Input(shape=input_shape),\n",
    "            layers.Conv2D(32, kernel_size=(3, 3), activation=\"relu\", name=\"conv_1\"),\n",
    "            layers.BatchNormalization(name=\"batch_norm_1\"), # Batch Normalization after Conv2D\n",
    "            layers.MaxPooling2D(pool_size=(2, 2), name=\"max_pool\"),\n",
    "            layers.Flatten(name=\"flatten\"),\n",
    "            layers.Dense(128, activation=\"relu\", name=\"fc_1\"),\n",
    "            layers.BatchNormalization(name=\"batch_norm_fc\"), # Batch Normalization after FC layer\n",
    "            layers.Dense(num_classes, activation=\"softmax\", name=\"output\"),\n",
    "        ]\n",
    "    )\n",
    "    return model\n",
    "\n",
    "# Example usage:\n",
    "input_shape = (28, 28, 1)\n",
    "num_classes = 10\n",
    "\n",
    "model = create_cnn_with_batchnorm(input_shape, num_classes)\n",
    "\n",
    "# Compile the model\n",
    "model.compile(loss=\"categorical_crossentropy\", optimizer=\"adam\", metrics=[\"accuracy\"])\n",
    "\n",
    "model.summary()\n",
    "\n",
    "# Generate dummy data (replace with your actual data)\n",
    "num_samples = 1000\n",
    "img_height, img_width = input_shape[0], input_shape[1]\n",
    "\n",
    "X_train = np.random.rand(num_samples, img_height, img_width, input_shape[2]).astype(np.float32)\n",
    "y_train = keras.utils.to_categorical(np.random.randint(0, num_classes, num_samples), num_classes).astype(np.float32)\n",
    "\n",
    "X_test = np.random.rand(100, img_height, img_width, input_shape[2]).astype(np.float32)\n",
    "y_test = keras.utils.to_categorical(np.random.randint(0, num_classes, 100), num_classes).astype(np.float32)\n",
    "\n",
    "# Train the model\n",
    "model.fit(X_train, y_train, epochs=5, batch_size=32, validation_data=(X_test, y_test))\n",
    "\n",
    "# Evaluate the model\n",
    "loss, accuracy = model.evaluate(X_test, y_test, verbose=0)\n",
    "print(f\"Test Loss: {loss:.4f}\")\n",
    "print(f\"Test Accuracy: {accuracy:.4f}\")"
   ]
  },
  {
   "cell_type": "markdown",
   "metadata": {},
   "source": [
    "9. Write a code to add dropout regularization to a simple CNN model"
   ]
  },
  {
   "cell_type": "code",
   "execution_count": null,
   "metadata": {},
   "outputs": [],
   "source": [
    "import tensorflow as tf\n",
    "from tensorflow import keras\n",
    "from tensorflow.keras import layers\n",
    "\n",
    "def create_cnn_with_dropout(input_shape, num_classes, dropout_rate=0.5):\n",
    "    model = keras.Sequential(\n",
    "        [\n",
    "            keras.Input(shape=input_shape),\n",
    "            layers.Conv2D(32, kernel_size=(3, 3), activation=\"relu\", name=\"conv_1\"),\n",
    "            layers.MaxPooling2D(pool_size=(2, 2), name=\"max_pool\"),\n",
    "            layers.Flatten(name=\"flatten\"),\n",
    "            layers.Dropout(dropout_rate, name=\"dropout_1\"),  # Dropout after Flatten\n",
    "            layers.Dense(128, activation=\"relu\", name=\"fc_1\"),\n",
    "            layers.Dropout(dropout_rate, name=\"dropout_2\"), # Dropout after FC layer\n",
    "            layers.Dense(num_classes, activation=\"softmax\", name=\"output\"),\n",
    "        ]\n",
    "    )\n",
    "    return model\n",
    "\n",
    "# Example usage:\n",
    "input_shape = (28, 28, 1)\n",
    "num_classes = 10\n",
    "dropout_rate = 0.5 # You can experiment with different dropout rates\n",
    "\n",
    "model = create_cnn_with_dropout(input_shape, num_classes, dropout_rate)\n",
    "\n",
    "# Compile the model\n",
    "model.compile(loss=\"categorical_crossentropy\", optimizer=\"adam\", metrics=[\"accuracy\"])\n",
    "\n",
    "model.summary()\n",
    "\n",
    "# Generate dummy data (replace with your actual data)\n",
    "num_samples = 1000\n",
    "img_height, img_width = input_shape[0], input_shape[1]\n",
    "\n",
    "X_train = np.random.rand(num_samples, img_height, img_width, input_shape[2]).astype(np.float32)\n",
    "y_train = keras.utils.to_categorical(np.random.randint(0, num_classes, num_samples), num_classes).astype(np.float32)\n",
    "\n",
    "X_test = np.random.rand(100, img_height, img_width, input_shape[2]).astype(np.float32)\n",
    "y_test = keras.utils.to_categorical(np.random.randint(0, num_classes, 100), num_classes).astype(np.float32)\n",
    "\n",
    "# Train the model\n",
    "model.fit(X_train, y_train, epochs=5, batch_size=32, validation_data=(X_test, y_test))\n",
    "\n",
    "# Evaluate the model\n",
    "loss, accuracy = model.evaluate(X_test, y_test, verbose=0)\n",
    "print(f\"Test Loss: {loss:.4f}\")\n",
    "print(f\"Test Accuracy: {accuracy:.4f}\")"
   ]
  },
  {
   "cell_type": "markdown",
   "metadata": {},
   "source": [
    "10. Write a code to print the architecture of the VGG16 model in Keras."
   ]
  },
  {
   "cell_type": "code",
   "execution_count": null,
   "metadata": {},
   "outputs": [],
   "source": [
    "import tensorflow as tf\n",
    "from tensorflow.keras.applications import VGG16\n",
    "\n",
    "# Create the VGG16 model\n",
    "model = VGG16(weights='imagenet')  # Load pre-trained weights\n",
    "\n",
    "# Print the model summary\n",
    "model.summary()\n",
    "# Accessing layers and their properties"
   ]
  },
  {
   "cell_type": "markdown",
   "metadata": {},
   "source": [
    "11. Write a code to plot the accuracy and loss graphs after training a CNN model"
   ]
  },
  {
   "cell_type": "code",
   "execution_count": 2,
   "metadata": {},
   "outputs": [
    {
     "name": "stdout",
     "output_type": "stream",
     "text": [
      "Epoch 1/10\n",
      "\u001b[1m32/32\u001b[0m \u001b[32m━━━━━━━━━━━━━━━━━━━━\u001b[0m\u001b[37m\u001b[0m \u001b[1m3s\u001b[0m 40ms/step - accuracy: 0.1125 - loss: 2.3914 - val_accuracy: 0.0400 - val_loss: 2.3352\n",
      "Epoch 2/10\n",
      "\u001b[1m32/32\u001b[0m \u001b[32m━━━━━━━━━━━━━━━━━━━━\u001b[0m\u001b[37m\u001b[0m \u001b[1m1s\u001b[0m 21ms/step - accuracy: 0.1068 - loss: 2.3116 - val_accuracy: 0.1200 - val_loss: 2.3059\n",
      "Epoch 3/10\n",
      "\u001b[1m32/32\u001b[0m \u001b[32m━━━━━━━━━━━━━━━━━━━━\u001b[0m\u001b[37m\u001b[0m \u001b[1m1s\u001b[0m 21ms/step - accuracy: 0.1270 - loss: 2.2907 - val_accuracy: 0.0900 - val_loss: 2.3153\n",
      "Epoch 4/10\n",
      "\u001b[1m32/32\u001b[0m \u001b[32m━━━━━━━━━━━━━━━━━━━━\u001b[0m\u001b[37m\u001b[0m \u001b[1m1s\u001b[0m 29ms/step - accuracy: 0.1356 - loss: 2.2881 - val_accuracy: 0.0700 - val_loss: 2.3180\n",
      "Epoch 5/10\n",
      "\u001b[1m32/32\u001b[0m \u001b[32m━━━━━━━━━━━━━━━━━━━━\u001b[0m\u001b[37m\u001b[0m \u001b[1m1s\u001b[0m 21ms/step - accuracy: 0.2284 - loss: 2.2492 - val_accuracy: 0.0900 - val_loss: 2.2950\n",
      "Epoch 6/10\n",
      "\u001b[1m32/32\u001b[0m \u001b[32m━━━━━━━━━━━━━━━━━━━━\u001b[0m\u001b[37m\u001b[0m \u001b[1m1s\u001b[0m 23ms/step - accuracy: 0.2867 - loss: 2.2146 - val_accuracy: 0.1300 - val_loss: 2.3144\n",
      "Epoch 7/10\n",
      "\u001b[1m32/32\u001b[0m \u001b[32m━━━━━━━━━━━━━━━━━━━━\u001b[0m\u001b[37m\u001b[0m \u001b[1m1s\u001b[0m 20ms/step - accuracy: 0.3409 - loss: 2.1523 - val_accuracy: 0.1400 - val_loss: 2.3279\n",
      "Epoch 8/10\n",
      "\u001b[1m32/32\u001b[0m \u001b[32m━━━━━━━━━━━━━━━━━━━━\u001b[0m\u001b[37m\u001b[0m \u001b[1m1s\u001b[0m 25ms/step - accuracy: 0.2808 - loss: 2.0798 - val_accuracy: 0.1100 - val_loss: 2.3481\n",
      "Epoch 9/10\n",
      "\u001b[1m32/32\u001b[0m \u001b[32m━━━━━━━━━━━━━━━━━━━━\u001b[0m\u001b[37m\u001b[0m \u001b[1m1s\u001b[0m 35ms/step - accuracy: 0.3979 - loss: 2.0034 - val_accuracy: 0.1000 - val_loss: 2.3648\n",
      "Epoch 10/10\n",
      "\u001b[1m32/32\u001b[0m \u001b[32m━━━━━━━━━━━━━━━━━━━━\u001b[0m\u001b[37m\u001b[0m \u001b[1m1s\u001b[0m 33ms/step - accuracy: 0.4351 - loss: 1.8936 - val_accuracy: 0.0900 - val_loss: 2.4519\n"
     ]
    },
    {
     "data": {
      "image/png": "[encoded data removed]",
      "text/plain": [
       "<Figure size 1200x500 with 2 Axes>"
      ]
     },
     "metadata": {},
     "output_type": "display_data"
    }
   ],
   "source": [
    "import tensorflow as tf\n",
    "from tensorflow import keras\n",
    "from tensorflow.keras import layers\n",
    "import matplotlib.pyplot as plt\n",
    "import numpy as np\n",
    "\n",
    "def create_cnn(input_shape, num_classes):\n",
    "    model = keras.Sequential(\n",
    "        [\n",
    "            keras.Input(shape=input_shape),\n",
    "            layers.Conv2D(32, kernel_size=(3, 3), activation=\"relu\", name=\"conv_1\"),\n",
    "            layers.MaxPooling2D(pool_size=(2, 2), name=\"max_pool\"),\n",
    "            layers.Flatten(name=\"flatten\"),\n",
    "            layers.Dense(128, activation=\"relu\", name=\"fc_1\"),\n",
    "            layers.Dense(num_classes, activation=\"softmax\", name=\"output\"),\n",
    "        ]\n",
    "    )\n",
    "    return model\n",
    "\n",
    "# Example usage:\n",
    "input_shape = (28, 28, 1)\n",
    "num_classes = 10\n",
    "\n",
    "model = create_cnn(input_shape, num_classes)\n",
    "\n",
    "# Compile the model\n",
    "model.compile(loss=\"categorical_crossentropy\", optimizer=\"adam\", metrics=[\"accuracy\"])\n",
    "\n",
    "# Generate dummy data (replace with your actual data)\n",
    "num_samples = 1000\n",
    "img_height, img_width = input_shape[0], input_shape[1]\n",
    "\n",
    "X_train = np.random.rand(num_samples, img_height, img_width, input_shape[2]).astype(np.float32)\n",
    "y_train = keras.utils.to_categorical(np.random.randint(0, num_classes, num_samples), num_classes).astype(np.float32)\n",
    "\n",
    "X_test = np.random.rand(100, img_height, img_width, input_shape[2]).astype(np.float32)\n",
    "y_test = keras.utils.to_categorical(np.random.randint(0, num_classes, 100), num_classes).astype(np.float32)\n",
    "\n",
    "# Train the model and store the training history\n",
    "history = model.fit(X_train, y_train, epochs=10, batch_size=32, validation_data=(X_test, y_test))\n",
    "\n",
    "# Plot training & validation accuracy values\n",
    "plt.figure(figsize=(12, 5))\n",
    "\n",
    "plt.subplot(1, 2, 1)\n",
    "plt.plot(history.history['accuracy'], label='Training Accuracy')\n",
    "plt.plot(history.history['val_accuracy'], label='Validation Accuracy')\n",
    "plt.title('Training and Validation Accuracy')\n",
    "plt.xlabel('Epoch')\n",
    "plt.ylabel('Accuracy')\n",
    "plt.legend(loc='lower right')\n",
    "\n",
    "# Plot training & validation loss values\n",
    "plt.subplot(1, 2, 2)\n",
    "plt.plot(history.history['loss'], label='Training Loss')\n",
    "plt.plot(history.history['val_loss'], label='Validation Loss')\n",
    "plt.title('Training and Validation Loss')\n",
    "plt.xlabel('Epoch')\n",
    "plt.ylabel('Loss')\n",
    "plt.legend(loc='upper right')\n",
    "\n",
    "plt.tight_layout()\n",
    "plt.show()"
   ]
  },
  {
   "cell_type": "markdown",
   "metadata": {},
   "source": [
    "12. Write a code to print the architecture of the ResNet50 model in Keras"
   ]
  },
  {
   "cell_type": "code",
   "execution_count": null,
   "metadata": {},
   "outputs": [],
   "source": [
    "import tensorflow as tf\n",
    "from tensorflow.keras.applications import ResNet50\n",
    "\n",
    "# Create the ResNet50 model\n",
    "model = ResNet50(weights='imagenet')  # Load pre-trained weights. Use weights=None for no weights\n",
    "\n",
    "# Print the model summary\n",
    "model.summary()\n",
    "\n",
    "\n"
   ]
  },
  {
   "cell_type": "markdown",
   "metadata": {},
   "source": [
    "13. Write a code to train a basic CNN model and print the training loss and accuracy after each epoch?"
   ]
  },
  {
   "cell_type": "code",
   "execution_count": 3,
   "metadata": {},
   "outputs": [
    {
     "name": "stdout",
     "output_type": "stream",
     "text": [
      "Epoch 1/10\n",
      "\u001b[1m32/32\u001b[0m \u001b[32m━━━━━━━━━━━━━━━━━━━━\u001b[0m\u001b[37m\u001b[0m \u001b[1m3s\u001b[0m 29ms/step - accuracy: 0.0848 - loss: 2.3860 - val_accuracy: 0.1200 - val_loss: 2.3114\n",
      "Training Loss: 2.3624, Training Accuracy: 0.0880\n",
      "Validation Loss: 2.3114, Validation Accuracy: 0.1200\n",
      "--------------------\n",
      "Epoch 2/10\n",
      "\u001b[1m32/32\u001b[0m \u001b[32m━━━━━━━━━━━━━━━━━━━━\u001b[0m\u001b[37m\u001b[0m \u001b[1m1s\u001b[0m 23ms/step - accuracy: 0.1181 - loss: 2.2942 - val_accuracy: 0.1000 - val_loss: 2.3147\n",
      "Training Loss: 2.2954, Training Accuracy: 0.1190\n",
      "Validation Loss: 2.3147, Validation Accuracy: 0.1000\n",
      "--------------------\n",
      "Epoch 3/10\n",
      "\u001b[1m32/32\u001b[0m \u001b[32m━━━━━━━━━━━━━━━━━━━━\u001b[0m\u001b[37m\u001b[0m \u001b[1m1s\u001b[0m 27ms/step - accuracy: 0.1462 - loss: 2.2677 - val_accuracy: 0.1200 - val_loss: 2.3049\n",
      "Training Loss: 2.2671, Training Accuracy: 0.1530\n",
      "Validation Loss: 2.3049, Validation Accuracy: 0.1200\n",
      "--------------------\n",
      "Epoch 4/10\n",
      "\u001b[1m32/32\u001b[0m \u001b[32m━━━━━━━━━━━━━━━━━━━━\u001b[0m\u001b[37m\u001b[0m \u001b[1m1s\u001b[0m 32ms/step - accuracy: 0.1990 - loss: 2.2234 - val_accuracy: 0.0800 - val_loss: 2.3150\n",
      "Training Loss: 2.2234, Training Accuracy: 0.1970\n",
      "Validation Loss: 2.3150, Validation Accuracy: 0.0800\n",
      "--------------------\n",
      "Epoch 5/10\n",
      "\u001b[1m32/32\u001b[0m \u001b[32m━━━━━━━━━━━━━━━━━━━━\u001b[0m\u001b[37m\u001b[0m \u001b[1m1s\u001b[0m 23ms/step - accuracy: 0.2684 - loss: 2.1512 - val_accuracy: 0.1200 - val_loss: 2.3081\n",
      "Training Loss: 2.1411, Training Accuracy: 0.2930\n",
      "Validation Loss: 2.3081, Validation Accuracy: 0.1200\n",
      "--------------------\n",
      "Epoch 6/10\n",
      "\u001b[1m32/32\u001b[0m \u001b[32m━━━━━━━━━━━━━━━━━━━━\u001b[0m\u001b[37m\u001b[0m \u001b[1m1s\u001b[0m 22ms/step - accuracy: 0.4455 - loss: 2.0269 - val_accuracy: 0.1100 - val_loss: 2.3459\n",
      "Training Loss: 2.0170, Training Accuracy: 0.4240\n",
      "Validation Loss: 2.3459, Validation Accuracy: 0.1100\n",
      "--------------------\n",
      "Epoch 7/10\n",
      "\u001b[1m32/32\u001b[0m \u001b[32m━━━━━━━━━━━━━━━━━━━━\u001b[0m\u001b[37m\u001b[0m \u001b[1m1s\u001b[0m 23ms/step - accuracy: 0.4907 - loss: 1.8951 - val_accuracy: 0.1000 - val_loss: 2.3682\n",
      "Training Loss: 1.8796, Training Accuracy: 0.5000\n",
      "Validation Loss: 2.3682, Validation Accuracy: 0.1000\n",
      "--------------------\n",
      "Epoch 8/10\n",
      "\u001b[1m32/32\u001b[0m \u001b[32m━━━━━━━━━━━━━━━━━━━━\u001b[0m\u001b[37m\u001b[0m \u001b[1m1s\u001b[0m 31ms/step - accuracy: 0.6545 - loss: 1.6995 - val_accuracy: 0.1400 - val_loss: 2.4743\n",
      "Training Loss: 1.6595, Training Accuracy: 0.6700\n",
      "Validation Loss: 2.4743, Validation Accuracy: 0.1400\n",
      "--------------------\n",
      "Epoch 9/10\n",
      "\u001b[1m32/32\u001b[0m \u001b[32m━━━━━━━━━━━━━━━━━━━━\u001b[0m\u001b[37m\u001b[0m \u001b[1m1s\u001b[0m 23ms/step - accuracy: 0.6867 - loss: 1.4981 - val_accuracy: 0.0800 - val_loss: 2.5221\n",
      "Training Loss: 1.4449, Training Accuracy: 0.7290\n",
      "Validation Loss: 2.5221, Validation Accuracy: 0.0800\n",
      "--------------------\n",
      "Epoch 10/10\n",
      "\u001b[1m32/32\u001b[0m \u001b[32m━━━━━━━━━━━━━━━━━━━━\u001b[0m\u001b[37m\u001b[0m \u001b[1m1s\u001b[0m 22ms/step - accuracy: 0.7364 - loss: 1.2593 - val_accuracy: 0.1200 - val_loss: 2.4965\n",
      "Training Loss: 1.2204, Training Accuracy: 0.7510\n",
      "Validation Loss: 2.4965, Validation Accuracy: 0.1200\n",
      "--------------------\n",
      "Final Test Loss: 2.4965\n",
      "Final Test Accuracy: 0.1200\n"
     ]
    }
   ],
   "source": [
    "import tensorflow as tf\n",
    "from tensorflow import keras\n",
    "from tensorflow.keras import layers\n",
    "import numpy as np\n",
    "\n",
    "def create_cnn(input_shape, num_classes):\n",
    "    model = keras.Sequential(\n",
    "        [\n",
    "            keras.Input(shape=input_shape),\n",
    "            layers.Conv2D(32, kernel_size=(3, 3), activation=\"relu\", name=\"conv_1\"),\n",
    "            layers.MaxPooling2D(pool_size=(2, 2), name=\"max_pool\"),\n",
    "            layers.Flatten(name=\"flatten\"),\n",
    "            layers.Dense(128, activation=\"relu\", name=\"fc_1\"),\n",
    "            layers.Dense(num_classes, activation=\"softmax\", name=\"output\"),\n",
    "        ]\n",
    "    )\n",
    "    return model\n",
    "\n",
    "# Example usage:\n",
    "input_shape = (28, 28, 1)  # Example: MNIST-like input\n",
    "num_classes = 10\n",
    "\n",
    "model = create_cnn(input_shape, num_classes)\n",
    "\n",
    "# Compile the model\n",
    "model.compile(loss=\"categorical_crossentropy\", optimizer=\"adam\", metrics=[\"accuracy\"])\n",
    "\n",
    "# Generate dummy data (replace with your actual data)\n",
    "num_samples = 1000\n",
    "img_height, img_width = input_shape[0], input_shape[1]\n",
    "\n",
    "X_train = np.random.rand(num_samples, img_height, img_width, input_shape[2]).astype(np.float32)\n",
    "y_train = keras.utils.to_categorical(np.random.randint(0, num_classes, num_samples), num_classes).astype(np.float32)\n",
    "\n",
    "X_test = np.random.rand(100, img_height, img_width, input_shape[2]).astype(np.float32)\n",
    "y_test = keras.utils.to_categorical(np.random.randint(0, num_classes, 100), num_classes).astype(np.float32)\n",
    "\n",
    "# Train the model and print loss/accuracy after each epoch\n",
    "epochs = 10\n",
    "batch_size = 32\n",
    "\n",
    "for epoch in range(epochs):\n",
    "    print(f\"Epoch {epoch+1}/{epochs}\")\n",
    "    history = model.fit(X_train, y_train, epochs=1, batch_size=batch_size, verbose=1, validation_data=(X_test, y_test))  # Train for 1 epoch at a time\n",
    "    loss = history.history['loss'][0]\n",
    "    accuracy = history.history['accuracy'][0]\n",
    "    val_loss = history.history['val_loss'][0]\n",
    "    val_accuracy = history.history['val_accuracy'][0]\n",
    "    print(f\"Training Loss: {loss:.4f}, Training Accuracy: {accuracy:.4f}\")\n",
    "    print(f\"Validation Loss: {val_loss:.4f}, Validation Accuracy: {val_accuracy:.4f}\")\n",
    "    print(\"--------------------\")\n",
    "\n",
    "# Final evaluation\n",
    "loss, accuracy = model.evaluate(X_test, y_test, verbose=0)\n",
    "print(f\"Final Test Loss: {loss:.4f}\")\n",
    "print(f\"Final Test Accuracy: {accuracy:.4f}\")"
   ]
  }
 ],
 "metadata": {
  "kernelspec": {
   "display_name": "base",
   "language": "python",
   "name": "python3"
  },
  "language_info": {
   "codemirror_mode": {
    "name": "ipython",
    "version": 3
   },
   "file_extension": ".py",
   "mimetype": "text/x-python",
   "name": "python",
   "nbconvert_exporter": "python",
   "pygments_lexer": "ipython3",
   "version": "3.12.4"
  }
 },
 "nbformat": 4,
 "nbformat_minor": 2
}
