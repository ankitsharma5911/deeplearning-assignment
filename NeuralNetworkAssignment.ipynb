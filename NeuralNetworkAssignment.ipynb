{
 "cells": [
  {
   "cell_type": "markdown",
   "metadata": {},
   "source": [
    "1 What is deep learning, and how is it connected to artificial intelligence\""
   ]
  },
  {
   "cell_type": "markdown",
   "metadata": {},
   "source": [
    "**deep learning** is the subset of machine learning which uses multilayers deep nural networks ,called **deep neural networks**,\n",
    "it simulate the complex decision-making power of the human brain. \n",
    "it is a branch of artificial intelligence involves algorithms that mimic the structure and functioning of the human brain through artificial neural networks.\n"
   ]
  },
  {
   "cell_type": "markdown",
   "metadata": {},
   "source": [
    "2. What is a neural network, and what are the different types of neural networks!"
   ]
  },
  {
   "cell_type": "markdown",
   "metadata": {},
   "source": [
    "A neural network is a computational model inspired by the structure and functioning of the human brain.\n",
    "It consists of interconnected layers of nodes (neurons) designed to recognize patterns in data, process inputs, and produce outputs.\n",
    "there are different types of neural networks based on their architecture and the type of problems they solve.\n",
    "\n",
    "* Feedforward Neural Network (FNN) :\n",
    "   * Data flows in one direction, from input to output, without cycles.\n",
    "   * used for Basic classification and regression tasks.\n",
    "\n",
    "\n",
    "* Convolutional Neural Network (CNN):\n",
    "   * Designed for spatial data like images. Uses convolutional layers to extract features like edges, textures, and patterns.\n",
    "\n",
    "   * used for Image recognition, object detection, and video processing.\n",
    "\n",
    "* Recurrent Neural Network (RNN):\n",
    "   * Designed for sequential data. Uses feedback connections to process sequences, maintaining information about previous inputs.\n",
    "\n",
    "* Long Short-Term Memory (LSTM):\n",
    "   * A type of RNN designed to solve the vanishing gradient problem, enabling learning over long sequences.\n",
    "   * used for Long-sequence tasks like text summarization and machine translation.\n",
    "\n",
    "* Generative Adversarial Network (GAN):\n",
    "   * Consists of two networks, a generator and a discriminator, that work against each other to produce realistic synthetic data. \n",
    "   *used for Image synthesis, style transfer, and data augmentation. \n"
   ]
  },
  {
   "cell_type": "markdown",
   "metadata": {},
   "source": [
    "3. What is the mathematical structure of a neural network?"
   ]
  },
  {
   "cell_type": "markdown",
   "metadata": {},
   "source": [
    "a neural network have three main components\n",
    "* input layers\n",
    "* hidden layers\n",
    "* output layers\n",
    "\n",
    "\n",
    "    * **input layers** : Each input 𝑥𝑖 is multiplied by a weight 𝑤𝑖 gives output z\n",
    "\n",
    "    * **hidden layers** : each z are pass through activation like relu,sigmoid,tenh in hidden layers to linearity \n",
    "    \n",
    "    * **output layers** : The activations from the last layer form the output\n",
    "​\n",
    "we calculate loss from output by using loss function then we update weights through Backpropagation and Gradient Descent\n",
    "\n",
    " "
   ]
  },
  {
   "cell_type": "markdown",
   "metadata": {},
   "source": [
    "4. What is an activation function, and why is it essential in neural network"
   ]
  },
  {
   "cell_type": "markdown",
   "metadata": {},
   "source": [
    "activation function is a mathemical function applied to the output of the neuron of neural network.\n",
    "it determine whether the output of neuron will pass or not and introduce non linearity in network\n"
   ]
  },
  {
   "cell_type": "markdown",
   "metadata": {},
   "source": [
    "5. Could you list some common activation functions used in neural networks?"
   ]
  },
  {
   "cell_type": "markdown",
   "metadata": {},
   "source": [
    "* There are some commonly used activation are as follows:\n",
    "\n",
    "     * **sigmoid** : it is used for binary catagorical data. it Maps inputs to probabilities, compressing values into a range between 0 and 1 \n",
    "\n",
    "    * **relu** : it is used for continuous data .it  Sets all negative values to zero, adding non-linearity.\n",
    "\n",
    "    *  **Parametric ReLU (PReLU)** : it is Similar to Leaky ReLU but learns the parameter  during training\n",
    "\n",
    "    * **Softmax** : Converts outputs into a probability distribution. use for Multi-class classification in the output layer.\n",
    "    "
   ]
  },
  {
   "cell_type": "markdown",
   "metadata": {},
   "source": [
    "6. What is a multilayer neural network?"
   ]
  },
  {
   "cell_type": "markdown",
   "metadata": {},
   "source": [
    "a neural network which have more than one hidden layers and mode then 1 neuron in neural network\n"
   ]
  },
  {
   "cell_type": "markdown",
   "metadata": {},
   "source": [
    "7. What is a loss function, and why is it crucial for neural network training?"
   ]
  },
  {
   "cell_type": "markdown",
   "metadata": {},
   "source": [
    "loss function determine how much neural network's output are accurate by compairing original target value to calculate loss and efficiency"
   ]
  },
  {
   "cell_type": "markdown",
   "metadata": {},
   "source": [
    "8. What are some common types of loss functions?"
   ]
  },
  {
   "cell_type": "markdown",
   "metadata": {},
   "source": [
    "* There are some commonly used loss function are as follows:\n",
    "    * Loss functions are a crucial component in training machine learning models, as they measure the difference between the predicted output (y pred) and the true target (y true). The goal is to minimize the loss function during training.\n",
    "\n",
    "    * based on data loss function are catagaries into two part \n",
    "\n",
    "    1. Regression Loss Functions\n",
    "    \n",
    "        * **Mean Squared Error (MSE)**: Measures the average squared difference between predictions and actual values.\n",
    "\n",
    "        * **Mean Absolute Error (MAE)**: Measures the average absolute difference between predictions and actual values.\n",
    "\n",
    "        * **Huber Loss**:  Combines MSE (for small errors) and MAE (for large errors)\n",
    "\n",
    "    2. Classification Loss Functions\n",
    "\n",
    "        * **Cross-Entropy Loss (Log Loss)** : Penalizes incorrect class predictions by comparing predicted probabilities to true\n",
    "        * **Hinge Loss** : Encourages correct classification with a margin.\n",
    "        * **Binary Cross-Entropy** : A special case of cross-entropy for binary outputs.\n",
    "        \n"
   ]
  },
  {
   "cell_type": "markdown",
   "metadata": {},
   "source": [
    "9. How does a neural network learn?"
   ]
  },
  {
   "cell_type": "markdown",
   "metadata": {},
   "source": [
    "A neural network learns by adjusting its parameters (weights and biases) to minimize the error between its predictions and the actual target values. This process, known as training, typically involves the following steps:\n",
    "1. Initialization of Parameters : \n",
    "   * **Weights and Biases**: The parameters of the neural network are initialized, usually with small random values. Good initialization is important to ensure effective learning.\n",
    "\n",
    "2. Forward Propagation : \n",
    "   * **Input to the Network**: Data is passed through the input layer.\n",
    "   \n",
    "   * **Weighted Sum and Activation**: Each neuron computes the weighted sum of its inputs and passes the result through an activation function.\n",
    "\n",
    "   * **Output Layer** : The final predictions (𝑦) are obtained from the output layer.\n",
    "\n",
    "3. Loss Calculation :\n",
    "   * The loss function computes the error between the predicted values and the true values .\n",
    "   * Examples of loss functions include Mean Squared Error (MSE) for regression and Cross-Entropy Loss for classification.\n",
    "\n",
    "4. Backward Propagation (Backpropagation):\n",
    "   * **Objective** : To compute gradients of the loss with respect to each parameter in the network.\n",
    "   * **Chain Rule of Calculus** : Gradients are computed layer by layer, starting from the output layer and moving backward.\n",
    "\n",
    "5. Gradient Descent :\n",
    "   * **Update Parameters**: Gradients computed during backpropagation are used to update the weights and biases.\n",
    "\n",
    "6. Repetition over Epochs: \n",
    "   * The above steps are repeated for multiple epochs (complete passes through the training dataset) to gradually minimize the loss and improve the model's predictions.\n",
    "\n"
   ]
  },
  {
   "cell_type": "markdown",
   "metadata": {},
   "source": [
    "11. Could you briefly describe some common optimizers?"
   ]
  },
  {
   "cell_type": "markdown",
   "metadata": {},
   "source": [
    "##### Optimizers are algorithms that adjust the parameters (weights and biases) of a neural network to minimize the loss function during training. Below is a brief description of some common optimizers:\n",
    "1. Gradient Descent (GD):\n",
    "    * **Description**: Updates the weights in the direction of the negative gradient of the loss function\n",
    "\n",
    "    * **Variants**:\n",
    "        * **Batch Gradient Descent**: Uses the entire dataset for one update (slow for large datasets).\n",
    "        * **Stochastic Gradient Descent (SGD)**: Uses a single data point per update (faster but noisier).\n",
    "        * **Mini-batch Gradient Descent**: Uses a subset (mini-batch) of the data (balances speed and stability).\n",
    "\n",
    "2. Momentum :\n",
    "    * **Description**: Adds a fraction of the previous update to the current update to accelerate convergence and reduce oscillations.\n",
    "    * **Advantages**: Helps escape local minima and speeds up convergence.\n",
    "\n",
    "3. AdaGrad (Adaptive Gradient Algorithm):\n",
    "    *  **Description**: Scales the learning rate for each parameter based on the sum of the squares of past gradients.\n",
    "    * **Advantages**: Automatically adapts the learning rate for sparse data.\n",
    "    * **Disadvantages**: Learning rate diminishes too quickly.\n",
    "\n",
    "4. RMSProp (Root Mean Square Propagation):\n",
    "    * **Description**: Similar to AdaGrad but uses an exponentially decaying average of past gradients to prevent the learning rate from decreasing too quickly.\n",
    "    * **Advantages**: Works well for non-stationary objectives and recurrent neural networks (RNNs).\n",
    "\n",
    "5. Adam (Adaptive Moment Estimation):\n",
    "    * **Description**: Combines the benefits of Momentum and RMSProp by using moving averages of both gradients and squared gradients.\n",
    "    * Advantages: Efficient, handles sparse gradients well, and requires minimal tuning.\n"
   ]
  },
  {
   "cell_type": "markdown",
   "metadata": {},
   "source": [
    "12. Can you explain forward and backward propagation in a neural network?"
   ]
  },
  {
   "cell_type": "markdown",
   "metadata": {},
   "source": [
    "* Forward and backward propagation are essential processes in training neural networks\n",
    "    1. Forward Propagation:\n",
    "\n",
    "        This is the process by which an input is passed through the network to produce an output.\n",
    "\n",
    "        * **Input** Layer: The input data is fed into the network.\n",
    "        * **Hidden Layers**:\n",
    "            Each neuron in a layer calculates a weighted sum of its inputs, adds a bias term, and applies an activation function.\n",
    "            The output of one layer becomes the input for the next layer.\n",
    "        * **Output Layer**: The final layer produces predictions or probabilities, depending on the task (e.g., classification or regression).\n",
    "\n",
    "    \n",
    "\n",
    "    2. Backward Propagation:\n",
    "\n",
    "        Backward propagation adjusts the network weights and biases to minimize the loss. It is the key to learning in neural networks and is based on the chain rule of calculus.\n",
    "\n",
    "        * **Steps:**\n",
    "            1. **Calculate Loss:**\n",
    "                * Compute the error using a loss function L, e.g., Mean Squared Error (MSE) or Cross-Entropy Loss.\n",
    "\n",
    "            2. **Output Layer Gradient:** \n",
    "                * Calculate the gradient of the loss L with respect to the output a\n",
    "\n",
    "            3. **Hidden Layers Gradient (Backpropagation):**\n",
    "                * For each layer l, propagate the error backward\n",
    "\n",
    "            4. **Parameter Updates:**\n",
    "\n",
    "                * Compute the gradients for weights and biases\n",
    "\n",
    "        **Backward Propagation** adjusts weights and biases by calculating gradients to minimize loss\n"
   ]
  },
  {
   "cell_type": "markdown",
   "metadata": {},
   "source": [
    "13. What is weight initialization, and how does it impact training?"
   ]
  },
  {
   "cell_type": "markdown",
   "metadata": {},
   "source": [
    "Weight initialization is the process of setting the initial values of the weights in a neural network before training. Proper initialization is critical because it impacts the convergence speed, stability, and overall performance of the model during training.\n",
    "\n",
    "* Why Is Weight Initialization Important?\n",
    "    * **Avoiding Vanishing/Exploding Gradients**: \n",
    "    \n",
    "        Poor initialization can cause gradients to either vanish (become very small) or explode (become very large) during backpropagation, making learning slow or unstable.\n",
    "\n",
    "    * **Ensuring Symmetry Breaking**:\n",
    "\n",
    "        If all weights are initialized to the same value (e.g., zero), neurons in the same layer will learn identical features, effectively making some neurons redundant. Random initialization breaks this symmetry.\n",
    "\n",
    "    * **Facilitating Faster Convergence:**\n",
    "\n",
    "        Properly initialized weights allow the model to learn faster by starting closer to an optimal region in the loss landscape.\n",
    "\n",
    "* Common Weight Initialization Techniques\n",
    "    * **Zero Initialization (Not Recommended)**:\n",
    "\n",
    "        All weights are set to zero. Leads to symmetry problems, as all neurons in a layer learn the same features.\n",
    "    \n",
    "    * **Random Initialization**:\n",
    "\n",
    "        Weights are initialized randomly, often from a uniform or normal distribution.\n",
    "        While breaking symmetry, this can still lead to vanishing or exploding gradients if not scaled correctly.\n",
    "    * **Orthogonal Initialization**:\n",
    "\n",
    "        Weights are initialized using orthogonal matrices.\n",
    "        Preserves variance and ensures stable gradients.\n",
    "* **Impact on Training**\n",
    "    * Proper initialization ensures faster convergence, avoids instability, and facilitates better generalization.\n",
    "    * Experimenting with different initialization methods based on the network architecture and activation functions can further optimize training performance\n",
    "\n"
   ]
  },
  {
   "cell_type": "markdown",
   "metadata": {},
   "source": [
    "14. What is the vanishing gradient problem in deep learning?"
   ]
  },
  {
   "cell_type": "markdown",
   "metadata": {},
   "source": [
    "* The vanishing gradient problem occurs in deep neural networks when gradients of the loss function become extremely small as they are backpropagated through layers. This issue hinders effective learning, especially in the early layers of the network.\n",
    "\n",
    "* Why Does It Happen?\n",
    "    - Mathematical Nature of Gradients:\n",
    "\n",
    "        During backpropagation, gradients are calculated by applying the chain rule. For a deep network, this involves multiplying many small derivatives.\n",
    "        If the derivatives of activation functions (e.g., sigmoid or tanh) are less than 1, repeated multiplication causes the gradient to shrink exponentially.\n",
    "    \n",
    "    - Activation Functions:\n",
    "\n",
    "        Sigmoid and tanh squash inputs into a small range (e.g., 0 to 1 for sigmoid), causing their derivatives to be small for most input values.\n",
    "        As a result, gradients for weights in earlier layers approach zero, leading to little or no updates during training.\n",
    "    \n",
    "    - Depth of the Network:\n",
    "\n",
    "        The problem intensifies as the network becomes deeper because more layers contribute to the gradient computation.\n"
   ]
  },
  {
   "cell_type": "markdown",
   "metadata": {},
   "source": [
    "15. What is the exploding gradient problem?"
   ]
  },
  {
   "cell_type": "markdown",
   "metadata": {},
   "source": [
    "#### The exploding gradient problem occurs when the gradients in a deep neural network become excessively large during backpropagation. This can cause numerical instability, making the model difficult or impossible to train effectively.\n",
    "\n",
    "- **Why Does It Happen?** \n",
    "    - Mathematical Basis:\n",
    "\n",
    "        - During backpropagation, gradients are computed using the chain rule. For deep networks, this involves multiplying many weight matrices and derivatives across layers.\n",
    "        - If the weights or derivatives are large, these multiplications can cause the gradients to grow exponentially.\n",
    "    - Depth of the Network:\n",
    "\n",
    "        - Deeper networks are more prone to this issue due to the accumulation of large gradients over many layers.\n",
    "    - Uncontrolled Weight Growth:\n",
    "\n",
    "        - Without proper initialization or regularization, weights may grow uncontrollably during training, amplifying gradient values further.\n",
    "\n",
    "\n",
    "\n"
   ]
  },
  {
   "cell_type": "markdown",
   "metadata": {},
   "source": [
    "## Practical"
   ]
  },
  {
   "cell_type": "markdown",
   "metadata": {},
   "source": [
    "1. How do you create a simple perceptron for basic binary classification?"
   ]
  },
  {
   "cell_type": "code",
   "execution_count": 13,
   "metadata": {},
   "outputs": [],
   "source": [
    "import math\n",
    "\n",
    "class Preceptron:\n",
    "    def __init__(self , num_inputs , thresold):\n",
    "        self.weights = [0.0] * num_inputs\n",
    "        self.bias = 0.0\n",
    "        self.thre  = thresold\n",
    "    \n",
    "    def predict(self , inputs):\n",
    "        weighted_sum = sum(w*x for w , x in zip(self.weights , inputs)) + self.bias\n",
    "\n",
    "        output = 1/(1+math.exp(-weighted_sum)) # sgmoid function\n",
    "\n",
    "        return 1 if output > self.thre else 0\n",
    "\n",
    "    def train(self, training_data , targets , learning_rate , epochs):\n",
    "        for epoch in range(epochs):\n",
    "            for input , target in zip(training_data , targets):\n",
    "                print(input )\n",
    "                print(\"actual\",target)\n",
    "                prediction = self.predict(input)  # step 1\n",
    "                print(\"prediction:\",prediction)\n",
    "                error = target - prediction # step 2\n",
    "                # print(\"error\",error)\n",
    "                for i in range(len(self.weights)):\n",
    "                    self.weights[i] += learning_rate*error* input[i]\n",
    "                    self.bias += learning_rate *error\n"
   ]
  },
  {
   "cell_type": "code",
   "execution_count": null,
   "metadata": {},
   "outputs": [],
   "source": [
    "model = Preceptron(num_inputs=2 , thresold=.5)\n",
    "training_data = [\n",
    "    [0,0],\n",
    "    [0,1],\n",
    "    [1,0],\n",
    "    [1,1]\n",
    "]\n",
    "target = [0,0,0,1]\n",
    "learning_rate = .1\n",
    "epochs = 10\n",
    "model.train(training_data , target, learning_rate , epochs)\n",
    "\n",
    "for inputs in training_data:\n",
    "  prediction = model.predict(inputs)\n",
    "  print(f\"inputs - {inputs} and prediction = {prediction}\")"
   ]
  },
  {
   "cell_type": "markdown",
   "metadata": {},
   "source": [
    "2. How can you build a neural network with one hidden layer using Keras?"
   ]
  },
  {
   "cell_type": "code",
   "execution_count": null,
   "metadata": {},
   "outputs": [],
   "source": [
    "import tensorflow\n",
    "import tensorflow as tf\n",
    "from tensorflow.keras.layers import Dense,Input\n",
    "from tensorflow.keras.models import Sequential\n",
    "\n",
    "model = Sequential([\n",
    "  Input((4,)),                                # input layer\n",
    "  Dense(units = 40, activation = \"relu\",),    # 1 hidden layer \n",
    "  Dense(units = 1 , activation = 'sigmoid')   # 1 output layer\n",
    "])\n",
    "model.compile(optimizer='adam',loss='MSE',metrics=['accuracy'])"
   ]
  },
  {
   "cell_type": "markdown",
   "metadata": {},
   "source": [
    "3. How do you initialize weights using the Xavier (Glorot) initialization method in Keras?"
   ]
  },
  {
   "cell_type": "code",
   "execution_count": null,
   "metadata": {},
   "outputs": [],
   "source": [
    "from tensorflow.keras.models import Sequential\n",
    "from tensorflow.keras.layers import Dense\n",
    "\n",
    "# Define a simple model\n",
    "model = Sequential([\n",
    "    Dense(64, activation='relu', kernel_initializer='glorot_uniform', input_shape=(100,)),\n",
    "    Dense(1, activation='sigmoid')\n",
    "])\n"
   ]
  },
  {
   "cell_type": "markdown",
   "metadata": {},
   "source": [
    "4. How can you apply different activation functions in a neural network in Keras?"
   ]
  },
  {
   "cell_type": "code",
   "execution_count": null,
   "metadata": {},
   "outputs": [],
   "source": [
    "from tensorflow.keras.models import Sequential\n",
    "from tensorflow.keras.layers import Dense\n",
    "\n",
    "# Define a simple model\n",
    "model = Sequential([\n",
    "    Dense(64, activation='relu', kernel_initializer='glorot_uniform', input_shape=(100,)),\n",
    "    Dense(64, activation='tenh'),\n",
    "    Dense(1, activation='sigmoid')\n",
    "])\n"
   ]
  },
  {
   "cell_type": "markdown",
   "metadata": {},
   "source": [
    "5. How do you add dropout to a neural network model to prevent overfitting?"
   ]
  },
  {
   "cell_type": "code",
   "execution_count": null,
   "metadata": {},
   "outputs": [],
   "source": [
    "from tensorflow.keras.models import Sequential\n",
    "from tensorflow.keras.layers import Dense,Dropout\n",
    "\n",
    "# Define a simple model\n",
    "model = Sequential([\n",
    "    Dense(64, activation='relu', kernel_initializer='glorot_uniform', input_shape=(100,)),\n",
    "    Dropout(0.4)\n",
    "    Dense(64, activation='tenh'),\n",
    "    Dropout(0.4)\n",
    "    Dense(1, activation='sigmoid')\n",
    "])"
   ]
  },
  {
   "cell_type": "markdown",
   "metadata": {},
   "source": [
    "6. How do you manually implement forward propagation in a simple neural network?"
   ]
  },
  {
   "cell_type": "code",
   "execution_count": null,
   "metadata": {},
   "outputs": [],
   "source": [
    "from tensorflow.keras.models import Sequential\n",
    "from tensorflow.keras.layers import Dense,Dropout ,BatchNormalization, Activation\n",
    "\n",
    "# Define a simple model\n",
    "model = Sequential([\n",
    "    Dense(64, activation='relu', kernel_initializer='glorot_uniform', input_shape=(100,)),\n",
    "    Dropout(0.4),\n",
    "    Dense(64, activation='tenh'),\n",
    "    Dropout(0.4),\n",
    "    Dense(1, activation='sigmoid')\n",
    "])\n",
    "model.compile(optimizer='adam',loss='MSE',metrics=['accuracy']) "
   ]
  },
  {
   "cell_type": "markdown",
   "metadata": {},
   "source": [
    "7. How do you add batch normalization to a neural network model in Keras?"
   ]
  },
  {
   "cell_type": "code",
   "execution_count": null,
   "metadata": {},
   "outputs": [],
   "source": [
    "from tensorflow.keras.models import Sequential\n",
    "from tensorflow.keras.layers import Dense,Dropout ,BatchNormalization, Activation\n",
    "\n",
    "# Define a simple model\n",
    "model = Sequential([\n",
    "    Dense(64, activation='relu', kernel_initializer='glorot_uniform', input_shape=(100,)),\n",
    "    BatchNormalization(),\n",
    "    Activation('relu'),\n",
    "    \n",
    "    Dense(64, activation='tenh'),\n",
    "    BatchNormalization(),\n",
    "    Activation('relu'),\n",
    "    \n",
    "    Dense(1, activation='sigmoid')\n",
    "])\n",
    "model.compile(optimizer='adam',loss='MSE',metrics=['accuracy']) "
   ]
  },
  {
   "cell_type": "markdown",
   "metadata": {},
   "source": [
    "8. How can you visualize the training process with accuracy and loss curves?"
   ]
  },
  {
   "cell_type": "code",
   "execution_count": null,
   "metadata": {},
   "outputs": [],
   "source": [
    "import matplotlib.pyplot as plt\n",
    "from tensorflow.keras.models import Sequential\n",
    "from tensorflow.keras.layers import Dense,Input\n",
    "from sklearn.datasets import load_iris\n",
    "from sklearn.model_selection import train_test_split\n",
    "data = load_iris()\n",
    "x = data.data\n",
    "y = data.target\n",
    "X_train,X_test,y_train,y_test = train_test_split(x,y,test_size=.3,random_state=1)\n",
    "\n",
    "# Step 1: Define a simple model\n",
    "model = Sequential([\n",
    "    Input((4,)),\n",
    "    Dense(64, activation='relu'),\n",
    "    Dense(32, activation='relu'),\n",
    "    Dense(3, activation='softmax')\n",
    "])\n",
    "\n",
    "# Step 2: Compile the model\n",
    "model.compile(optimizer='adam', loss='sparse_categorical_crossentropy', metrics=['accuracy'])\n",
    "history = model.fit(x=X_train, y=y_train,\n",
    "          batch_size=16, epochs=100,\n",
    "          verbose=1, validation_data=(X_test,y_test))\n",
    "model.evaluate(X_test, y_test, batch_size=None, verbose=1)"
   ]
  },
  {
   "cell_type": "code",
   "execution_count": 9,
   "metadata": {},
   "outputs": [
    {
     "data": {
      "image/png": "[encoded data removed]",
      "text/plain": [
       "<Figure size 1200x500 with 2 Axes>"
      ]
     },
     "metadata": {},
     "output_type": "display_data"
    }
   ],
   "source": [
    "# Extracting history metrics\n",
    "acc = history.history['accuracy']\n",
    "val_acc = history.history['val_accuracy']\n",
    "loss = history.history['loss']\n",
    "val_loss = history.history['val_loss']\n",
    "epochs = range(1, len(acc) + 1)\n",
    "# Plot accuracy\n",
    "plt.figure(figsize=(12, 5))\n",
    "plt.subplot(1, 2, 1)\n",
    "plt.plot(epochs, acc, label='Training Accuracy')\n",
    "plt.plot(epochs, val_acc, label='Validation Accuracy')\n",
    "plt.title('Accuracy')\n",
    "plt.xlabel('Epochs')\n",
    "plt.ylabel('Accuracy')\n",
    "plt.legend()\n",
    "\n",
    "# Plot loss\n",
    "plt.subplot(1, 2, 2)\n",
    "plt.plot(epochs, loss, label='Training Loss')\n",
    "plt.plot(epochs, val_loss, label='Validation Loss')\n",
    "plt.title('Loss')\n",
    "plt.xlabel('Epochs')\n",
    "plt.ylabel('Loss')\n",
    "plt.legend()\n",
    "\n",
    "plt.tight_layout()\n",
    "plt.show()"
   ]
  },
  {
   "cell_type": "markdown",
   "metadata": {},
   "source": [
    "9. How can you use gradient clipping in Keras to control the gradient size and prevent exploding gradients"
   ]
  },
  {
   "cell_type": "markdown",
   "metadata": {},
   "source": [
    "Gradient clipping is a technique used to prevent the problem of exploding gradients in deep learning, particularly in recurrent neural networks (RNNs) or deep feedforward networks. It works by limiting the gradients to a predefined threshold during backpropagation. In Keras, you can implement gradient clipping using the `clipvalue` or `clipnorm` parameters in an optimizer."
   ]
  },
  {
   "cell_type": "code",
   "execution_count": null,
   "metadata": {},
   "outputs": [],
   "source": [
    "# clipvalue example\n",
    "from keras.models import Sequential\n",
    "from keras.layers import Dense\n",
    "from keras.optimizers import Adam\n",
    "\n",
    "# Define the model\n",
    "model = Sequential([\n",
    "    Dense(64, activation='relu', input_shape=(input_dim,)),\n",
    "    Dense(1, activation='sigmoid')\n",
    "])\n",
    "\n",
    "# Compile the model with gradient clipping by value\n",
    "optimizer = Adam(learning_rate=0.001, clipvalue=1.0)  ############ Gradients are clipped to [-1.0, 1.0]\n",
    "model.compile(optimizer=optimizer, loss='binary_crossentropy', metrics=['accuracy'])\n",
    "\n",
    "\n",
    "# Compile the model with gradient clipping by norm\n",
    "optimizer = Adam(learning_rate=0.001, clipnorm=1.0)  ######### Gradient norm is capped at 1.0\n",
    "model.compile(optimizer=optimizer, loss='binary_crossentropy', metrics=['accuracy'])\n"
   ]
  },
  {
   "cell_type": "markdown",
   "metadata": {},
   "source": [
    "10. How can you create a custom loss function in Keras?"
   ]
  },
  {
   "cell_type": "code",
   "execution_count": null,
   "metadata": {},
   "outputs": [],
   "source": [
    "import tensorflow as tf\n",
    "from tensorflow.keras import backend as K\n",
    "\n",
    "\n",
    "def custom_loss(y_true, y_pred):\n",
    "    # Example: Mean Squared Error with a custom penalty\n",
    "    mse = K.mean(K.square(y_pred - y_true), axis=-1)\n",
    "    penalty = K.sum(K.abs(y_pred), axis=-1)\n",
    "    return mse + 0.01 * penalty\n",
    "\n",
    "model.compile(optimizer='adam', loss=custom_loss, metrics=['accuracy'])\n"
   ]
  },
  {
   "cell_type": "markdown",
   "metadata": {},
   "source": [
    "11. How can you visualize the structure of a neural network model in Keras?"
   ]
  },
  {
   "cell_type": "code",
   "execution_count": 1,
   "metadata": {},
   "outputs": [
    {
     "name": "stderr",
     "output_type": "stream",
     "text": [
      "d:\\anaconda3\\Lib\\site-packages\\keras\\src\\layers\\core\\dense.py:87: UserWarning: Do not pass an `input_shape`/`input_dim` argument to a layer. When using Sequential models, prefer using an `Input(shape)` object as the first layer in the model instead.\n",
      "  super().__init__(activity_regularizer=activity_regularizer, **kwargs)\n"
     ]
    },
    {
     "name": "stdout",
     "output_type": "stream",
     "text": [
      "You must install graphviz (see instructions at https://graphviz.gitlab.io/download/) for `plot_model` to work.\n"
     ]
    }
   ],
   "source": [
    "from keras.utils import plot_model\n",
    "from keras.models import Sequential\n",
    "from keras.layers import Dense\n",
    "model = Sequential([\n",
    "    Dense(64, activation='relu', input_shape=(2,)),\n",
    "    Dense(1, activation='sigmoid')\n",
    "])\n",
    "model.compile(optimizer='adam',loss='MSE')\n",
    "plot_model(model)"
   ]
  }
 ],
 "metadata": {
  "kernelspec": {
   "display_name": "base",
   "language": "python",
   "name": "python3"
  },
  "language_info": {
   "codemirror_mode": {
    "name": "ipython",
    "version": 3
   },
   "file_extension": ".py",
   "mimetype": "text/x-python",
   "name": "python",
   "nbconvert_exporter": "python",
   "pygments_lexer": "ipython3",
   "version": "3.12.4"
  }
 },
 "nbformat": 4,
 "nbformat_minor": 2
}
